{
 "cells": [
  {
   "cell_type": "code",
   "execution_count": 1,
   "metadata": {},
   "outputs": [],
   "source": [
    "import sys\n",
    "sys.path.insert(1, '../')\n",
    "\n",
    "import pandas as pd\n",
    "import numpy as np\n",
    "import matplotlib.pyplot as plt\n",
    "from pprint import pprint\n",
    "from features import HTMLFeatures\n",
    "from skopt import BayesSearchCV\n",
    "from xgboost import XGBClassifier, plot_importance\n",
    "from sklearn.model_selection import StratifiedKFold, train_test_split\n",
    "from sklearn.metrics import (accuracy_score, recall_score, precision_score, \n",
    "                             f1_score, roc_curve, precision_recall_curve, \n",
    "                             confusion_matrix, ConfusionMatrixDisplay)"
   ]
  },
  {
   "cell_type": "markdown",
   "metadata": {},
   "source": [
    "# **HTML PHISHING DETECTION**"
   ]
  },
  {
   "cell_type": "markdown",
   "metadata": {},
   "source": [
    "* * *"
   ]
  },
  {
   "cell_type": "markdown",
   "metadata": {},
   "source": [
    "To begin, we have to import train and test WEBS dataset to our project. It's worth mentioning that both datasets are alredy preprocessed."
   ]
  },
  {
   "cell_type": "code",
   "execution_count": 2,
   "metadata": {},
   "outputs": [
    {
     "data": {
      "text/html": [
       "<div>\n",
       "<style scoped>\n",
       "    .dataframe tbody tr th:only-of-type {\n",
       "        vertical-align: middle;\n",
       "    }\n",
       "\n",
       "    .dataframe tbody tr th {\n",
       "        vertical-align: top;\n",
       "    }\n",
       "\n",
       "    .dataframe thead th {\n",
       "        text-align: right;\n",
       "    }\n",
       "</style>\n",
       "<table border=\"1\" class=\"dataframe\">\n",
       "  <thead>\n",
       "    <tr style=\"text-align: right;\">\n",
       "      <th></th>\n",
       "      <th>text</th>\n",
       "      <th>label</th>\n",
       "    </tr>\n",
       "  </thead>\n",
       "  <tbody>\n",
       "    <tr>\n",
       "      <th>0</th>\n",
       "      <td>&lt;!doctypehtml PUBLIC \"-//W3C//DTD HTML 4.01 Tr...</td>\n",
       "      <td>1</td>\n",
       "    </tr>\n",
       "    <tr>\n",
       "      <th>1</th>\n",
       "      <td>&lt;!doctypehtml&gt;&lt;title&gt;\\n   Segment - Math Open ...</td>\n",
       "      <td>0</td>\n",
       "    </tr>\n",
       "    <tr>\n",
       "      <th>2</th>\n",
       "      <td>&lt;!doctypehtml&gt;&lt;html itemscope itemtype=http://...</td>\n",
       "      <td>0</td>\n",
       "    </tr>\n",
       "    <tr>\n",
       "      <th>3</th>\n",
       "      <td>&lt;!doctypehtml PUBLIC \"-//W3C//DTD XHTML 1.0 Tr...</td>\n",
       "      <td>0</td>\n",
       "    </tr>\n",
       "    <tr>\n",
       "      <th>4</th>\n",
       "      <td>&lt;title&gt;\\n   Not Acceptable!\\n  &lt;/title&gt;&lt;body&gt;&lt;...</td>\n",
       "      <td>0</td>\n",
       "    </tr>\n",
       "    <tr>\n",
       "      <th>...</th>\n",
       "      <td>...</td>\n",
       "      <td>...</td>\n",
       "    </tr>\n",
       "    <tr>\n",
       "      <th>15751</th>\n",
       "      <td>&lt;!doctypehtml&gt;&lt;html class=no-js&gt;&lt;meta content=...</td>\n",
       "      <td>0</td>\n",
       "    </tr>\n",
       "    <tr>\n",
       "      <th>15752</th>\n",
       "      <td>&lt;title&gt;\\n   Loading...\\n  &lt;/title&gt;&lt;body&gt;&lt;scrip...</td>\n",
       "      <td>0</td>\n",
       "    </tr>\n",
       "    <tr>\n",
       "      <th>15753</th>\n",
       "      <td>&lt;!doctypehtml&gt;&lt;meta content=IE=7 http-equiv=X-...</td>\n",
       "      <td>0</td>\n",
       "    </tr>\n",
       "    <tr>\n",
       "      <th>15754</th>\n",
       "      <td>&lt;meta content=width=device-width name=viewport...</td>\n",
       "      <td>1</td>\n",
       "    </tr>\n",
       "    <tr>\n",
       "      <th>15755</th>\n",
       "      <td>&lt;!doctypehtml&gt;&lt;html lang=ru-RU&gt;&lt;meta content=\"...</td>\n",
       "      <td>1</td>\n",
       "    </tr>\n",
       "  </tbody>\n",
       "</table>\n",
       "<p>15756 rows × 2 columns</p>\n",
       "</div>"
      ],
      "text/plain": [
       "                                                    text  label\n",
       "0      <!doctypehtml PUBLIC \"-//W3C//DTD HTML 4.01 Tr...      1\n",
       "1      <!doctypehtml><title>\\n   Segment - Math Open ...      0\n",
       "2      <!doctypehtml><html itemscope itemtype=http://...      0\n",
       "3      <!doctypehtml PUBLIC \"-//W3C//DTD XHTML 1.0 Tr...      0\n",
       "4      <title>\\n   Not Acceptable!\\n  </title><body><...      0\n",
       "...                                                  ...    ...\n",
       "15751  <!doctypehtml><html class=no-js><meta content=...      0\n",
       "15752  <title>\\n   Loading...\\n  </title><body><scrip...      0\n",
       "15753  <!doctypehtml><meta content=IE=7 http-equiv=X-...      0\n",
       "15754  <meta content=width=device-width name=viewport...      1\n",
       "15755  <!doctypehtml><html lang=ru-RU><meta content=\"...      1\n",
       "\n",
       "[15756 rows x 2 columns]"
      ]
     },
     "execution_count": 2,
     "metadata": {},
     "output_type": "execute_result"
    }
   ],
   "source": [
    "df = pd.read_csv('../DATASETS/PRE/WEBS.csv')\n",
    "df"
   ]
  },
  {
   "cell_type": "markdown",
   "metadata": {},
   "source": [
    "## Feature Extraction"
   ]
  },
  {
   "cell_type": "markdown",
   "metadata": {},
   "source": [
    "Features extracted from HTML content are the basis to determine whether a HTML is pishing or not. These features capture the structure of the webpage and the content embedded in it. These will include information on script tags, embedded objects, executables, hidden elements, etc."
   ]
  },
  {
   "cell_type": "markdown",
   "metadata": {},
   "source": [
    "At the same time we extract the feaures, we can create the training and test sets"
   ]
  },
  {
   "cell_type": "code",
   "execution_count": 3,
   "metadata": {},
   "outputs": [
    {
     "data": {
      "text/html": [
       "<div>\n",
       "<style scoped>\n",
       "    .dataframe tbody tr th:only-of-type {\n",
       "        vertical-align: middle;\n",
       "    }\n",
       "\n",
       "    .dataframe tbody tr th {\n",
       "        vertical-align: top;\n",
       "    }\n",
       "\n",
       "    .dataframe thead th {\n",
       "        text-align: right;\n",
       "    }\n",
       "</style>\n",
       "<table border=\"1\" class=\"dataframe\">\n",
       "  <thead>\n",
       "    <tr style=\"text-align: right;\">\n",
       "      <th></th>\n",
       "      <th>suspicious_func_num</th>\n",
       "      <th>page_entropy</th>\n",
       "      <th>script_tags_num</th>\n",
       "      <th>html_length</th>\n",
       "      <th>tokens_num</th>\n",
       "      <th>sentences_num</th>\n",
       "      <th>punctuation_num</th>\n",
       "      <th>capitalization_num</th>\n",
       "      <th>avg_sentence_tokens_num</th>\n",
       "      <th>html_tags_num</th>\n",
       "      <th>...</th>\n",
       "      <th>embeds_num</th>\n",
       "      <th>internal_links_num</th>\n",
       "      <th>external_links_num</th>\n",
       "      <th>whitespaces_num</th>\n",
       "      <th>included_elements_num</th>\n",
       "      <th>double_doc_num</th>\n",
       "      <th>keywords_to_words_ratio</th>\n",
       "      <th>dom_mod_func_num</th>\n",
       "      <th>avg_script_len</th>\n",
       "      <th>avg_script_entropy</th>\n",
       "    </tr>\n",
       "  </thead>\n",
       "  <tbody>\n",
       "    <tr>\n",
       "      <th>0</th>\n",
       "      <td>0</td>\n",
       "      <td>4.957</td>\n",
       "      <td>1</td>\n",
       "      <td>430</td>\n",
       "      <td>46</td>\n",
       "      <td>4</td>\n",
       "      <td>67</td>\n",
       "      <td>31</td>\n",
       "      <td>12.000</td>\n",
       "      <td>26</td>\n",
       "      <td>...</td>\n",
       "      <td>0</td>\n",
       "      <td>0</td>\n",
       "      <td>0</td>\n",
       "      <td>147</td>\n",
       "      <td>0</td>\n",
       "      <td>0</td>\n",
       "      <td>0.000</td>\n",
       "      <td>1</td>\n",
       "      <td>93.000</td>\n",
       "      <td>4.719</td>\n",
       "    </tr>\n",
       "    <tr>\n",
       "      <th>1</th>\n",
       "      <td>0</td>\n",
       "      <td>5.090</td>\n",
       "      <td>4</td>\n",
       "      <td>2918</td>\n",
       "      <td>355</td>\n",
       "      <td>31</td>\n",
       "      <td>468</td>\n",
       "      <td>77</td>\n",
       "      <td>12.065</td>\n",
       "      <td>55</td>\n",
       "      <td>...</td>\n",
       "      <td>0</td>\n",
       "      <td>0</td>\n",
       "      <td>0</td>\n",
       "      <td>467</td>\n",
       "      <td>2</td>\n",
       "      <td>0</td>\n",
       "      <td>0.000</td>\n",
       "      <td>3</td>\n",
       "      <td>113.250</td>\n",
       "      <td>2.436</td>\n",
       "    </tr>\n",
       "    <tr>\n",
       "      <th>2</th>\n",
       "      <td>0</td>\n",
       "      <td>4.525</td>\n",
       "      <td>8</td>\n",
       "      <td>9403</td>\n",
       "      <td>1501</td>\n",
       "      <td>115</td>\n",
       "      <td>367</td>\n",
       "      <td>557</td>\n",
       "      <td>13.200</td>\n",
       "      <td>338</td>\n",
       "      <td>...</td>\n",
       "      <td>0</td>\n",
       "      <td>62</td>\n",
       "      <td>4</td>\n",
       "      <td>2087</td>\n",
       "      <td>3</td>\n",
       "      <td>0</td>\n",
       "      <td>0.011</td>\n",
       "      <td>3</td>\n",
       "      <td>100.000</td>\n",
       "      <td>3.004</td>\n",
       "    </tr>\n",
       "    <tr>\n",
       "      <th>3</th>\n",
       "      <td>1</td>\n",
       "      <td>4.846</td>\n",
       "      <td>17</td>\n",
       "      <td>5184</td>\n",
       "      <td>650</td>\n",
       "      <td>48</td>\n",
       "      <td>414</td>\n",
       "      <td>2674</td>\n",
       "      <td>14.271</td>\n",
       "      <td>431</td>\n",
       "      <td>...</td>\n",
       "      <td>0</td>\n",
       "      <td>12</td>\n",
       "      <td>33</td>\n",
       "      <td>1403</td>\n",
       "      <td>12</td>\n",
       "      <td>0</td>\n",
       "      <td>0.016</td>\n",
       "      <td>6</td>\n",
       "      <td>76.647</td>\n",
       "      <td>1.590</td>\n",
       "    </tr>\n",
       "    <tr>\n",
       "      <th>4</th>\n",
       "      <td>0</td>\n",
       "      <td>4.167</td>\n",
       "      <td>0</td>\n",
       "      <td>164</td>\n",
       "      <td>24</td>\n",
       "      <td>3</td>\n",
       "      <td>5</td>\n",
       "      <td>8</td>\n",
       "      <td>8.000</td>\n",
       "      <td>6</td>\n",
       "      <td>...</td>\n",
       "      <td>0</td>\n",
       "      <td>0</td>\n",
       "      <td>0</td>\n",
       "      <td>26</td>\n",
       "      <td>0</td>\n",
       "      <td>0</td>\n",
       "      <td>0.000</td>\n",
       "      <td>0</td>\n",
       "      <td>0.000</td>\n",
       "      <td>0.000</td>\n",
       "    </tr>\n",
       "    <tr>\n",
       "      <th>...</th>\n",
       "      <td>...</td>\n",
       "      <td>...</td>\n",
       "      <td>...</td>\n",
       "      <td>...</td>\n",
       "      <td>...</td>\n",
       "      <td>...</td>\n",
       "      <td>...</td>\n",
       "      <td>...</td>\n",
       "      <td>...</td>\n",
       "      <td>...</td>\n",
       "      <td>...</td>\n",
       "      <td>...</td>\n",
       "      <td>...</td>\n",
       "      <td>...</td>\n",
       "      <td>...</td>\n",
       "      <td>...</td>\n",
       "      <td>...</td>\n",
       "      <td>...</td>\n",
       "      <td>...</td>\n",
       "      <td>...</td>\n",
       "      <td>...</td>\n",
       "    </tr>\n",
       "    <tr>\n",
       "      <th>15751</th>\n",
       "      <td>0</td>\n",
       "      <td>5.071</td>\n",
       "      <td>42</td>\n",
       "      <td>7780</td>\n",
       "      <td>797</td>\n",
       "      <td>142</td>\n",
       "      <td>1182</td>\n",
       "      <td>1432</td>\n",
       "      <td>6.535</td>\n",
       "      <td>524</td>\n",
       "      <td>...</td>\n",
       "      <td>0</td>\n",
       "      <td>23</td>\n",
       "      <td>81</td>\n",
       "      <td>3440</td>\n",
       "      <td>19</td>\n",
       "      <td>0</td>\n",
       "      <td>0.075</td>\n",
       "      <td>9</td>\n",
       "      <td>133.405</td>\n",
       "      <td>2.446</td>\n",
       "    </tr>\n",
       "    <tr>\n",
       "      <th>15752</th>\n",
       "      <td>0</td>\n",
       "      <td>5.118</td>\n",
       "      <td>1</td>\n",
       "      <td>417</td>\n",
       "      <td>2</td>\n",
       "      <td>9</td>\n",
       "      <td>27</td>\n",
       "      <td>121</td>\n",
       "      <td>0.778</td>\n",
       "      <td>5</td>\n",
       "      <td>...</td>\n",
       "      <td>0</td>\n",
       "      <td>0</td>\n",
       "      <td>0</td>\n",
       "      <td>5</td>\n",
       "      <td>0</td>\n",
       "      <td>0</td>\n",
       "      <td>0.000</td>\n",
       "      <td>0</td>\n",
       "      <td>406.000</td>\n",
       "      <td>5.101</td>\n",
       "    </tr>\n",
       "    <tr>\n",
       "      <th>15753</th>\n",
       "      <td>0</td>\n",
       "      <td>4.816</td>\n",
       "      <td>5</td>\n",
       "      <td>935</td>\n",
       "      <td>175</td>\n",
       "      <td>15</td>\n",
       "      <td>138</td>\n",
       "      <td>143</td>\n",
       "      <td>12.267</td>\n",
       "      <td>131</td>\n",
       "      <td>...</td>\n",
       "      <td>0</td>\n",
       "      <td>49</td>\n",
       "      <td>3</td>\n",
       "      <td>570</td>\n",
       "      <td>2</td>\n",
       "      <td>0</td>\n",
       "      <td>0.133</td>\n",
       "      <td>0</td>\n",
       "      <td>57.800</td>\n",
       "      <td>2.649</td>\n",
       "    </tr>\n",
       "    <tr>\n",
       "      <th>15754</th>\n",
       "      <td>0</td>\n",
       "      <td>5.069</td>\n",
       "      <td>26</td>\n",
       "      <td>7019</td>\n",
       "      <td>94</td>\n",
       "      <td>99</td>\n",
       "      <td>1348</td>\n",
       "      <td>1303</td>\n",
       "      <td>1.869</td>\n",
       "      <td>158</td>\n",
       "      <td>...</td>\n",
       "      <td>0</td>\n",
       "      <td>0</td>\n",
       "      <td>3</td>\n",
       "      <td>850</td>\n",
       "      <td>23</td>\n",
       "      <td>0</td>\n",
       "      <td>0.000</td>\n",
       "      <td>0</td>\n",
       "      <td>204.962</td>\n",
       "      <td>0.561</td>\n",
       "    </tr>\n",
       "    <tr>\n",
       "      <th>15755</th>\n",
       "      <td>1</td>\n",
       "      <td>5.869</td>\n",
       "      <td>8</td>\n",
       "      <td>7866</td>\n",
       "      <td>948</td>\n",
       "      <td>93</td>\n",
       "      <td>994</td>\n",
       "      <td>615</td>\n",
       "      <td>10.989</td>\n",
       "      <td>497</td>\n",
       "      <td>...</td>\n",
       "      <td>0</td>\n",
       "      <td>26</td>\n",
       "      <td>0</td>\n",
       "      <td>2584</td>\n",
       "      <td>3</td>\n",
       "      <td>0</td>\n",
       "      <td>0.063</td>\n",
       "      <td>0</td>\n",
       "      <td>466.750</td>\n",
       "      <td>3.574</td>\n",
       "    </tr>\n",
       "  </tbody>\n",
       "</table>\n",
       "<p>15756 rows × 23 columns</p>\n",
       "</div>"
      ],
      "text/plain": [
       "       suspicious_func_num  page_entropy  script_tags_num  html_length  \\\n",
       "0                        0         4.957                1          430   \n",
       "1                        0         5.090                4         2918   \n",
       "2                        0         4.525                8         9403   \n",
       "3                        1         4.846               17         5184   \n",
       "4                        0         4.167                0          164   \n",
       "...                    ...           ...              ...          ...   \n",
       "15751                    0         5.071               42         7780   \n",
       "15752                    0         5.118                1          417   \n",
       "15753                    0         4.816                5          935   \n",
       "15754                    0         5.069               26         7019   \n",
       "15755                    1         5.869                8         7866   \n",
       "\n",
       "       tokens_num  sentences_num  punctuation_num  capitalization_num  \\\n",
       "0              46              4               67                  31   \n",
       "1             355             31              468                  77   \n",
       "2            1501            115              367                 557   \n",
       "3             650             48              414                2674   \n",
       "4              24              3                5                   8   \n",
       "...           ...            ...              ...                 ...   \n",
       "15751         797            142             1182                1432   \n",
       "15752           2              9               27                 121   \n",
       "15753         175             15              138                 143   \n",
       "15754          94             99             1348                1303   \n",
       "15755         948             93              994                 615   \n",
       "\n",
       "       avg_sentence_tokens_num  html_tags_num  ...  embeds_num  \\\n",
       "0                       12.000             26  ...           0   \n",
       "1                       12.065             55  ...           0   \n",
       "2                       13.200            338  ...           0   \n",
       "3                       14.271            431  ...           0   \n",
       "4                        8.000              6  ...           0   \n",
       "...                        ...            ...  ...         ...   \n",
       "15751                    6.535            524  ...           0   \n",
       "15752                    0.778              5  ...           0   \n",
       "15753                   12.267            131  ...           0   \n",
       "15754                    1.869            158  ...           0   \n",
       "15755                   10.989            497  ...           0   \n",
       "\n",
       "       internal_links_num  external_links_num  whitespaces_num  \\\n",
       "0                       0                   0              147   \n",
       "1                       0                   0              467   \n",
       "2                      62                   4             2087   \n",
       "3                      12                  33             1403   \n",
       "4                       0                   0               26   \n",
       "...                   ...                 ...              ...   \n",
       "15751                  23                  81             3440   \n",
       "15752                   0                   0                5   \n",
       "15753                  49                   3              570   \n",
       "15754                   0                   3              850   \n",
       "15755                  26                   0             2584   \n",
       "\n",
       "       included_elements_num  double_doc_num  keywords_to_words_ratio  \\\n",
       "0                          0               0                    0.000   \n",
       "1                          2               0                    0.000   \n",
       "2                          3               0                    0.011   \n",
       "3                         12               0                    0.016   \n",
       "4                          0               0                    0.000   \n",
       "...                      ...             ...                      ...   \n",
       "15751                     19               0                    0.075   \n",
       "15752                      0               0                    0.000   \n",
       "15753                      2               0                    0.133   \n",
       "15754                     23               0                    0.000   \n",
       "15755                      3               0                    0.063   \n",
       "\n",
       "       dom_mod_func_num  avg_script_len  avg_script_entropy  \n",
       "0                     1          93.000               4.719  \n",
       "1                     3         113.250               2.436  \n",
       "2                     3         100.000               3.004  \n",
       "3                     6          76.647               1.590  \n",
       "4                     0           0.000               0.000  \n",
       "...                 ...             ...                 ...  \n",
       "15751                 9         133.405               2.446  \n",
       "15752                 0         406.000               5.101  \n",
       "15753                 0          57.800               2.649  \n",
       "15754                 0         204.962               0.561  \n",
       "15755                 0         466.750               3.574  \n",
       "\n",
       "[15756 rows x 23 columns]"
      ]
     },
     "execution_count": 3,
     "metadata": {},
     "output_type": "execute_result"
    }
   ],
   "source": [
    "X = pd.DataFrame([HTMLFeatures(row.text).get_features() for row in df.itertuples(index=False)])\n",
    "y = df['label']\n",
    "\n",
    "X"
   ]
  },
  {
   "cell_type": "markdown",
   "metadata": {},
   "source": [
    "After extracting these relevant features, we can split on training and test sets for the Classifier model"
   ]
  },
  {
   "cell_type": "code",
   "execution_count": 4,
   "metadata": {},
   "outputs": [],
   "source": [
    "xtrain, xtest, ytrain, ytest = train_test_split(X, y, test_size=0.2, stratify=y)"
   ]
  },
  {
   "cell_type": "markdown",
   "metadata": {},
   "source": [
    "## XGBoost"
   ]
  },
  {
   "cell_type": "markdown",
   "metadata": {},
   "source": [
    "XGBoost is a supervised machine learning algorithm that uses the principle of gradient boosting to generate predictive models based on decision trees. It differs from traditional decision trees in that it combines multiple trees sequentially, adjusting the parameters of each tree using an optimization algorithm based on gradient descent. In this way, it seeks to minimize an objective function that measures prediction error or some other metric. XGBoost also incorporates several regularization, parallelization and system optimization techniques to improve the performance and speed of the algorithm. XGBoost can be used for classification and regression problems, and has been shown to have high accuracy and robustness in many complex and heterogeneous data scenarios."
   ]
  },
  {
   "cell_type": "markdown",
   "metadata": {},
   "source": [
    "### Hyperparameter optimization with Bayesian Search"
   ]
  },
  {
   "cell_type": "markdown",
   "metadata": {},
   "source": [
    "Bayesian search is a method that uses Bayesian statistics to find the best hyperparameters for a machine learning model. The idea is that you have an initial probability distribution over the possible values of the hyperparameters, called the prior, and you update this distribution as you evaluate the performance of the model with different combinations of hyperparameters, called the posterior. Bayesian search uses an optimization algorithm that selects the next combination of hyperparameters that maximizes an acquisition function, which measures the potential for improving model performance. In this way, Bayesian search explores the hyperparameter space efficiently and intelligently, without testing all possible combinations.\n",
    "\n",
    "On XGBoost, we can try adjusting the following set of hyperparameters:\n",
    "\n",
    "- **learning_rate** = this is the learning rate that controls the weight of each tree in the final prediction.\n",
    "\n",
    "- **n_estimators** = is the number of trees that are built in the model.\n",
    "\n",
    "- **max_depth** = is the maximum depth of each tree. \n",
    "\n",
    "- **min_child_weight** = is the minimum weight that a tree leaf must have to continue growing. \n",
    "\n",
    "- **subsample** = is the fraction of observations used to train each tree.\n",
    "\n",
    "- **gamma** = is a regularization parameter used to control the minimum loss reduction to create a new split in a tree. That is, gamma determines how conservative the algorithm is in creating new nodes in the trees.\n",
    "\n",
    "- **colsample_bytree** = is the fraction of variables used to train each tree."
   ]
  },
  {
   "cell_type": "code",
   "execution_count": 5,
   "metadata": {},
   "outputs": [],
   "source": [
    "skf = StratifiedKFold(n_splits=10, shuffle=True)"
   ]
  },
  {
   "cell_type": "code",
   "execution_count": 6,
   "metadata": {},
   "outputs": [
    {
     "name": "stdout",
     "output_type": "stream",
     "text": [
      "BEST PARAMETERS:\n",
      "OrderedDict([ ('colsample_bytree', 0.8),\n",
      "              ('gamma', 0.0),\n",
      "              ('learning_rate', 0.1),\n",
      "              ('max_depth', 10),\n",
      "              ('min_child_weight', 3),\n",
      "              ('n_estimators', 150),\n",
      "              ('subsample', 0.8)])\n",
      "\n",
      "BEST SCORE: 0.877\n"
     ]
    }
   ],
   "source": [
    "# Define the parameter grid\n",
    "params = {\n",
    "    'n_estimators': [80, 100, 150, 200],\n",
    "    'max_depth': [None, 5, 10, 15],\n",
    "    'learning_rate': [0.01, 0.1, 0.5, 0.9],\n",
    "    'gamma': [0, 0.5, 1, 2],\n",
    "    'subsample': [0.5, 0.6, 0.8],\n",
    "    'colsample_bytree': [0.5, 0.6, 0.8],\n",
    "    'min_child_weight': [1, 3, 5],\n",
    "}\n",
    "\n",
    "# Define the model\n",
    "xbg = XGBClassifier(objective='binary:logistic')\n",
    "\n",
    "# Perform the bayesian search\n",
    "bs = BayesSearchCV(\n",
    "    estimator=xbg, \n",
    "    search_spaces=params, \n",
    "    cv=skf, \n",
    "    scoring='recall'\n",
    ")\n",
    "\n",
    "bs.fit(xtrain, ytrain)\n",
    "\n",
    "# Print the best parameters and best score\n",
    "print(\"BEST PARAMETERS:\")\n",
    "pprint(bs.best_params_, indent=2)\n",
    "print(f\"\\nBEST SCORE: {bs.best_score_:.3f}\")"
   ]
  },
  {
   "cell_type": "markdown",
   "metadata": {},
   "source": [
    "### Optimized XGBoost Classifier"
   ]
  },
  {
   "cell_type": "code",
   "execution_count": 7,
   "metadata": {},
   "outputs": [
    {
     "data": {
      "text/html": [
       "<style>#sk-container-id-1 {color: black;}#sk-container-id-1 pre{padding: 0;}#sk-container-id-1 div.sk-toggleable {background-color: white;}#sk-container-id-1 label.sk-toggleable__label {cursor: pointer;display: block;width: 100%;margin-bottom: 0;padding: 0.3em;box-sizing: border-box;text-align: center;}#sk-container-id-1 label.sk-toggleable__label-arrow:before {content: \"▸\";float: left;margin-right: 0.25em;color: #696969;}#sk-container-id-1 label.sk-toggleable__label-arrow:hover:before {color: black;}#sk-container-id-1 div.sk-estimator:hover label.sk-toggleable__label-arrow:before {color: black;}#sk-container-id-1 div.sk-toggleable__content {max-height: 0;max-width: 0;overflow: hidden;text-align: left;background-color: #f0f8ff;}#sk-container-id-1 div.sk-toggleable__content pre {margin: 0.2em;color: black;border-radius: 0.25em;background-color: #f0f8ff;}#sk-container-id-1 input.sk-toggleable__control:checked~div.sk-toggleable__content {max-height: 200px;max-width: 100%;overflow: auto;}#sk-container-id-1 input.sk-toggleable__control:checked~label.sk-toggleable__label-arrow:before {content: \"▾\";}#sk-container-id-1 div.sk-estimator input.sk-toggleable__control:checked~label.sk-toggleable__label {background-color: #d4ebff;}#sk-container-id-1 div.sk-label input.sk-toggleable__control:checked~label.sk-toggleable__label {background-color: #d4ebff;}#sk-container-id-1 input.sk-hidden--visually {border: 0;clip: rect(1px 1px 1px 1px);clip: rect(1px, 1px, 1px, 1px);height: 1px;margin: -1px;overflow: hidden;padding: 0;position: absolute;width: 1px;}#sk-container-id-1 div.sk-estimator {font-family: monospace;background-color: #f0f8ff;border: 1px dotted black;border-radius: 0.25em;box-sizing: border-box;margin-bottom: 0.5em;}#sk-container-id-1 div.sk-estimator:hover {background-color: #d4ebff;}#sk-container-id-1 div.sk-parallel-item::after {content: \"\";width: 100%;border-bottom: 1px solid gray;flex-grow: 1;}#sk-container-id-1 div.sk-label:hover label.sk-toggleable__label {background-color: #d4ebff;}#sk-container-id-1 div.sk-serial::before {content: \"\";position: absolute;border-left: 1px solid gray;box-sizing: border-box;top: 0;bottom: 0;left: 50%;z-index: 0;}#sk-container-id-1 div.sk-serial {display: flex;flex-direction: column;align-items: center;background-color: white;padding-right: 0.2em;padding-left: 0.2em;position: relative;}#sk-container-id-1 div.sk-item {position: relative;z-index: 1;}#sk-container-id-1 div.sk-parallel {display: flex;align-items: stretch;justify-content: center;background-color: white;position: relative;}#sk-container-id-1 div.sk-item::before, #sk-container-id-1 div.sk-parallel-item::before {content: \"\";position: absolute;border-left: 1px solid gray;box-sizing: border-box;top: 0;bottom: 0;left: 50%;z-index: -1;}#sk-container-id-1 div.sk-parallel-item {display: flex;flex-direction: column;z-index: 1;position: relative;background-color: white;}#sk-container-id-1 div.sk-parallel-item:first-child::after {align-self: flex-end;width: 50%;}#sk-container-id-1 div.sk-parallel-item:last-child::after {align-self: flex-start;width: 50%;}#sk-container-id-1 div.sk-parallel-item:only-child::after {width: 0;}#sk-container-id-1 div.sk-dashed-wrapped {border: 1px dashed gray;margin: 0 0.4em 0.5em 0.4em;box-sizing: border-box;padding-bottom: 0.4em;background-color: white;}#sk-container-id-1 div.sk-label label {font-family: monospace;font-weight: bold;display: inline-block;line-height: 1.2em;}#sk-container-id-1 div.sk-label-container {text-align: center;}#sk-container-id-1 div.sk-container {/* jupyter's `normalize.less` sets `[hidden] { display: none; }` but bootstrap.min.css set `[hidden] { display: none !important; }` so we also need the `!important` here to be able to override the default hidden behavior on the sphinx rendered scikit-learn.org. See: https://github.com/scikit-learn/scikit-learn/issues/21755 */display: inline-block !important;position: relative;}#sk-container-id-1 div.sk-text-repr-fallback {display: none;}</style><div id=\"sk-container-id-1\" class=\"sk-top-container\"><div class=\"sk-text-repr-fallback\"><pre>XGBClassifier(base_score=None, booster=None, callbacks=None,\n",
       "              colsample_bylevel=None, colsample_bynode=None,\n",
       "              colsample_bytree=0.8, early_stopping_rounds=None,\n",
       "              enable_categorical=False, eval_metric=None, feature_types=None,\n",
       "              gamma=0.0, gpu_id=None, grow_policy=None, importance_type=None,\n",
       "              interaction_constraints=None, learning_rate=0.1, max_bin=None,\n",
       "              max_cat_threshold=None, max_cat_to_onehot=None,\n",
       "              max_delta_step=None, max_depth=10, max_leaves=None,\n",
       "              min_child_weight=3, missing=nan, monotone_constraints=None,\n",
       "              n_estimators=150, n_jobs=None, num_parallel_tree=None,\n",
       "              predictor=None, random_state=None, ...)</pre><b>In a Jupyter environment, please rerun this cell to show the HTML representation or trust the notebook. <br />On GitHub, the HTML representation is unable to render, please try loading this page with nbviewer.org.</b></div><div class=\"sk-container\" hidden><div class=\"sk-item\"><div class=\"sk-estimator sk-toggleable\"><input class=\"sk-toggleable__control sk-hidden--visually\" id=\"sk-estimator-id-1\" type=\"checkbox\" checked><label for=\"sk-estimator-id-1\" class=\"sk-toggleable__label sk-toggleable__label-arrow\">XGBClassifier</label><div class=\"sk-toggleable__content\"><pre>XGBClassifier(base_score=None, booster=None, callbacks=None,\n",
       "              colsample_bylevel=None, colsample_bynode=None,\n",
       "              colsample_bytree=0.8, early_stopping_rounds=None,\n",
       "              enable_categorical=False, eval_metric=None, feature_types=None,\n",
       "              gamma=0.0, gpu_id=None, grow_policy=None, importance_type=None,\n",
       "              interaction_constraints=None, learning_rate=0.1, max_bin=None,\n",
       "              max_cat_threshold=None, max_cat_to_onehot=None,\n",
       "              max_delta_step=None, max_depth=10, max_leaves=None,\n",
       "              min_child_weight=3, missing=nan, monotone_constraints=None,\n",
       "              n_estimators=150, n_jobs=None, num_parallel_tree=None,\n",
       "              predictor=None, random_state=None, ...)</pre></div></div></div></div></div>"
      ],
      "text/plain": [
       "XGBClassifier(base_score=None, booster=None, callbacks=None,\n",
       "              colsample_bylevel=None, colsample_bynode=None,\n",
       "              colsample_bytree=0.8, early_stopping_rounds=None,\n",
       "              enable_categorical=False, eval_metric=None, feature_types=None,\n",
       "              gamma=0.0, gpu_id=None, grow_policy=None, importance_type=None,\n",
       "              interaction_constraints=None, learning_rate=0.1, max_bin=None,\n",
       "              max_cat_threshold=None, max_cat_to_onehot=None,\n",
       "              max_delta_step=None, max_depth=10, max_leaves=None,\n",
       "              min_child_weight=3, missing=nan, monotone_constraints=None,\n",
       "              n_estimators=150, n_jobs=None, num_parallel_tree=None,\n",
       "              predictor=None, random_state=None, ...)"
      ]
     },
     "execution_count": 7,
     "metadata": {},
     "output_type": "execute_result"
    }
   ],
   "source": [
    "# load RF classifier with best hyperparameters found\n",
    "model = XGBClassifier(**bs.best_params_, objective='binary:logistic')\n",
    "model.fit(xtrain, ytrain)"
   ]
  },
  {
   "cell_type": "markdown",
   "metadata": {},
   "source": [
    "Evaluate random forest classifier performance with some metrics:"
   ]
  },
  {
   "cell_type": "code",
   "execution_count": 13,
   "metadata": {},
   "outputs": [
    {
     "name": "stdout",
     "output_type": "stream",
     "text": [
      "\n",
      "#### RESULTS:\n",
      "Accuracy: 0.91022\n",
      "Precision: 0.85915\n",
      "Recall: 0.88808\n",
      "F1-score: 0.87338\n"
     ]
    }
   ],
   "source": [
    "y_pred = model.predict(xtest)\n",
    "y_pred_proba = model.predict_proba(xtest)[:, 1]\n",
    "print(\"\\n#### RESULTS:\")\n",
    "print(f\"Accuracy: {accuracy_score(ytest, y_pred):.5f}\")\n",
    "print(f\"Precision: {precision_score(ytest, y_pred):.5f}\")\n",
    "print(f\"Recall: {recall_score(ytest, y_pred):.5f}\")\n",
    "print(f\"F1-score: {f1_score(ytest, y_pred):.5f}\")"
   ]
  },
  {
   "cell_type": "markdown",
   "metadata": {},
   "source": [
    "Also, we are going to visualize classifier performance through this plots:\n",
    "\n",
    "- ROC-AUC curve \n",
    "- Precision-Recall curve\n",
    "- Confusion matrix"
   ]
  },
  {
   "cell_type": "code",
   "execution_count": 9,
   "metadata": {},
   "outputs": [
    {
     "data": {
      "image/png": "[encoded data removed]",
      "text/plain": [
       "<Figure size 640x480 with 1 Axes>"
      ]
     },
     "metadata": {},
     "output_type": "display_data"
    }
   ],
   "source": [
    "fpr, tpr, _ = roc_curve(ytest,  y_pred_proba)\n",
    "#create ROC curve\n",
    "plt.plot(fpr,tpr)\n",
    "plt.title('ROC-AUC CURVE')\n",
    "plt.ylabel('True Positive Rate')\n",
    "plt.xlabel('False Positive Rate')\n",
    "plt.show()"
   ]
  },
  {
   "cell_type": "code",
   "execution_count": 10,
   "metadata": {},
   "outputs": [
    {
     "data": {
      "image/png": "[encoded data removed]",
      "text/plain": [
       "<Figure size 640x480 with 1 Axes>"
      ]
     },
     "metadata": {},
     "output_type": "display_data"
    }
   ],
   "source": [
    "precision, recall, _ = precision_recall_curve(ytest, y_pred_proba)\n",
    "#create Precision-Recall curve\n",
    "plt.plot(recall, precision, color='purple')\n",
    "plt.title('PRECISION-RECALL CURVE')\n",
    "plt.ylabel('Precision')\n",
    "plt.xlabel('Recall')\n",
    "plt.show()"
   ]
  },
  {
   "cell_type": "code",
   "execution_count": 11,
   "metadata": {},
   "outputs": [
    {
     "data": {
      "image/png": "[encoded data removed]",
      "text/plain": [
       "<Figure size 640x480 with 2 Axes>"
      ]
     },
     "metadata": {},
     "output_type": "display_data"
    }
   ],
   "source": [
    "cm = confusion_matrix(ytest, y_pred, labels=model.classes_)\n",
    "cm_display = ConfusionMatrixDisplay(confusion_matrix=cm, display_labels=model.classes_)\n",
    "cm_display.plot()\n",
    "plt.title('CONFUSION MATRIX')\n",
    "plt.show()"
   ]
  },
  {
   "cell_type": "markdown",
   "metadata": {},
   "source": [
    "Additionally, we can visualize the relative importance of each feature for model prediction using the `plot_importance` function of XGBoost. Importance can be calculated based on: 'weight', 'gain' or 'cover'. Since we want to know which features are the ones that influence significantly in the predicitions, we'll use _gain_. **Gain** implies the relative contribution of the corresponding feature to the model calculated by taking each feature's contribution for each tree in the model. A higher value of this metric when compared to another feature implies it is more important for generating a prediction."
   ]
  },
  {
   "cell_type": "code",
   "execution_count": 12,
   "metadata": {},
   "outputs": [
    {
     "data": {
      "image/png": "[encoded data removed]",
      "text/plain": [
       "<Figure size 1200x800 with 1 Axes>"
      ]
     },
     "metadata": {},
     "output_type": "display_data"
    }
   ],
   "source": [
    "fig, ax = plt.subplots(figsize=(12, 8))\n",
    "plot_importance(model, ax=ax, xlabel='Gain', importance_type='gain', show_values=False, max_num_features=15)\n",
    "plt.show()"
   ]
  }
 ],
 "metadata": {
  "kernelspec": {
   "display_name": "base",
   "language": "python",
   "name": "python3"
  },
  "language_info": {
   "codemirror_mode": {
    "name": "ipython",
    "version": 3
   },
   "file_extension": ".py",
   "mimetype": "text/x-python",
   "name": "python",
   "nbconvert_exporter": "python",
   "pygments_lexer": "ipython3",
   "version": "3.10.13"
  }
 },
 "nbformat": 4,
 "nbformat_minor": 2
}
