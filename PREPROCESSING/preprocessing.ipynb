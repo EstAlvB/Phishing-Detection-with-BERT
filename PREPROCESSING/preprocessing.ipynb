{
 "cells": [
  {
   "cell_type": "code",
   "execution_count": 1,
   "metadata": {},
   "outputs": [],
   "source": [
    "import re\n",
    "import json\n",
    "import pandas as pd\n",
    "import numpy as np\n",
    "import sqlite3\n",
    "import matplotlib.pyplot as plt\n",
    "from pathlib import Path\n",
    "from sklearn.model_selection import train_test_split\n",
    "from nltk.corpus import stopwords, wordnet\n",
    "from nltk.stem import WordNetLemmatizer\n",
    "from nltk.tokenize import word_tokenize\n",
    "from nltk.tag import pos_tag\n",
    "from pandarallel import pandarallel"
   ]
  },
  {
   "cell_type": "markdown",
   "metadata": {},
   "source": [
    "# **DATASETS PREPROCESSING**"
   ]
  },
  {
   "cell_type": "markdown",
   "metadata": {},
   "source": [
    "Before preprocessing, we have to define important functions and variables that we will use along this notebook."
   ]
  },
  {
   "cell_type": "code",
   "execution_count": 2,
   "metadata": {},
   "outputs": [
    {
     "name": "stdout",
     "output_type": "stream",
     "text": [
      "INFO: Pandarallel will run on 8 workers.\n",
      "INFO: Pandarallel will use standard multiprocessing data transfer (pipe) to transfer data between the main process and workers.\n"
     ]
    }
   ],
   "source": [
    "pandarallel.initialize()\n",
    "lemmatizer = WordNetLemmatizer()"
   ]
  },
  {
   "cell_type": "code",
   "execution_count": 3,
   "metadata": {},
   "outputs": [],
   "source": [
    "# URL Regex to capture URL inside a text\n",
    "url_regex = re.compile(\n",
    "    r\"(?i)\\b((?:https?:(?:/{1,3}|[a-z0-9%])|[a-z0-9.\\-]+[.]\"\n",
    "    r\"(?:com|net|org|edu|gov|mil|aero|asia|biz|cat|coop|info|\"\n",
    "    r\"int|jobs|mobi|museum|name|post|pro|tel|travel|xxx|ac|ad|\"\n",
    "    r\"ae|af|ag|ai|al|am|an|ao|aq|ar|as|at|au|aw|ax|az|ba|bb|bd|\"\n",
    "    r\"be|bf|bg|bh|bi|bj|bm|bn|bo|br|bs|bt|bv|bw|by|bz|ca|cc|cd|\"\n",
    "    r\"cf|cg|ch|ci|ck|cl|cm|cn|co|cr|cs|cu|cv|cx|cy|cz|dd|de|dj|\"\n",
    "    r\"dk|dm|do|dz|ec|ee|eg|eh|er|es|et|eu|fi|fj|fk|fm|fo|fr|ga|\"\n",
    "    r\"gb|gd|ge|gf|gg|gh|gi|gl|gm|gn|gp|gq|gr|gs|gt|gu|gw|gy|hk|\"\n",
    "    r\"hm|hn|hr|ht|hu|id|ie|il|im|in|io|iq|ir|is|it|je|jm|jo|jp|\"\n",
    "    r\"ke|kg|kh|ki|km|kn|kp|kr|kw|ky|kz|la|lb|lc|li|lk|lr|ls|lt|\"\n",
    "    r\"lu|lv|ly|ma|mc|md|me|mg|mh|mk|ml|mm|mn|mo|mp|mq|mr|ms|mt|\"\n",
    "    r\"mu|mv|mw|mx|my|mz|na|nc|ne|nf|ng|ni|nl|no|np|nr|nu|nz|om|\"\n",
    "    r\"pa|pe|pf|pg|ph|pk|pl|pm|pn|pr|ps|pt|pw|py|qa|re|ro|rs|ru|\"\n",
    "    r\"rw|sa|sb|sc|sd|se|sg|sh|si|sj|Ja|sk|sl|sm|sn|so|sr|ss|st|\"\n",
    "    r\"su|sv|sx|sy|sz|tc|td|tf|tg|th|tj|tk|tl|tm|tn|to|tp|tr|tt|\"\n",
    "    r\"tv|tw|tz|ua|ug|uk|us|uy|uz|va|vc|ve|vg|vi|vn|vu|wf|ws|ye|\"\n",
    "    r\"yt|yu|za|zm|zw)/)(?:[^\\s()<>{}\\[\\]]+|\\([^\\s()]*?\\([^\\s()]+\\)\"\n",
    "    r\"[^\\s()]*?\\)|\\([^\\s]+?\\))+(?:\\([^\\s()]*?\\([^\\s()]+\\)[^\\s()]*?\\)\"\n",
    "    r\"|\\([^\\s]+?\\)|[^\\s`!()\\[\\]{};:'\\\".,<>?«»“”‘’])|(?<!@)[a-z0-9]\"\n",
    "    r\"+(?:[.\\-][a-z0-9]+)*[.](?:com|net|org|edu|gov|mil|aero|asia|\"\n",
    "    r\"biz|cat|coop|info|int|jobs|mobi|museum|name|post|pro|tel|\"\n",
    "    r\"travel|xxx|ac|ad|ae|af|ag|ai|al|am|an|ao|aq|ar|as|at|au|aw|\"\n",
    "    r\"ax|az|ba|bb|bd|be|bf|bg|bh|bi|bj|bm|bn|bo|br|bs|bt|bv|bw|by|\"\n",
    "    r\"bz|ca|cc|cd|cf|cg|ch|ci|ck|cl|cm|cn|co|cr|cs|cu|cv|cx|cy|cz|\"\n",
    "    r\"dd|de|dj|dk|dm|do|dz|ec|ee|eg|eh|er|es|et|eu|fi|fj|fk|fm|fo|\"\n",
    "    r\"fr|ga|gb|gd|ge|gf|gg|gh|gi|gl|gm|gn|gp|gq|gr|gs|gt|gu|gw|gy|\"\n",
    "    r\"hk|hm|hn|hr|ht|hu|id|ie|il|im|in|io|iq|ir|is|it|je|jm|jo|jp|\"\n",
    "    r\"ke|kg|kh|ki|km|kn|kp|kr|kw|ky|kz|la|lb|lc|li|lk|lr|ls|lt|lu|\"\n",
    "    r\"lv|ly|ma|mc|md|me|mg|mh|mk|ml|mm|mn|mo|mp|mq|mr|ms|mt|mu|mv|\"\n",
    "    r\"mw|mx|my|mz|na|nc|ne|nf|ng|ni|nl|no|np|nr|nu|nz|om|pa|pe|pf|\"\n",
    "    r\"pg|ph|pk|pl|pm|pn|pr|ps|pt|pw|py|qa|re|ro|rs|ru|rw|sa|sb|sc|\"\n",
    "    r\"sd|se|sg|sh|si|sj|Ja|sk|sl|sm|sn|so|sr|ss|st|su|sv|sx|sy|sz|\"\n",
    "    r\"tc|td|tf|tg|th|tj|tk|tl|tm|tn|to|tp|tr|tt|tv|tw|tz|ua|ug|uk|\"\n",
    "    r\"us|uy|uz|va|vc|ve|vg|vi|vn|vu|wf|ws|ye|yt|yu|za|zm|zw)\\b/?(?!@))\"\n",
    ")"
   ]
  },
  {
   "cell_type": "code",
   "execution_count": 4,
   "metadata": {},
   "outputs": [],
   "source": [
    "# Helper functions for preprocessing\n",
    "\n",
    "def add_urls(urls: pd.DataFrame, df: pd.DataFrame):\n",
    "    \"\"\"Add URLs from a DF to URL DF\"\"\"\n",
    "    count = 0\n",
    "    for index in df[~df['url'].isnull()].index:\n",
    "        row = df.iloc[index]\n",
    "        data = {'text': row['url'], 'label': row['label']}\n",
    "        urls = pd.concat([urls, pd.DataFrame([data])], axis=0, ignore_index=True)\n",
    "        count += 1\n",
    "    df.drop(['url'], axis=1, inplace=True)\n",
    "    return urls, count\n",
    "\n",
    "def get_wordnet_pos(word):\n",
    "    \"\"\"Map POS tag to first character lemmatize() accepts\"\"\"\n",
    "    tag = pos_tag([word])[0][1][0].upper()\n",
    "    tag_dict = {\"J\": wordnet.ADJ,\n",
    "                \"N\": wordnet.NOUN,\n",
    "                \"V\": wordnet.VERB,\n",
    "                \"R\": wordnet.ADV}\n",
    "\n",
    "    return tag_dict.get(tag, wordnet.NOUN)\n",
    "\n",
    "def preprocess_text(text: str):\n",
    "    \"\"\"Preprocess text with regex and NLTK library\"\"\"\n",
    "    text = re.sub(r'[^\\w\\s]', ' ', text) # remove punctuation signs and special chars\n",
    "    text = re.sub(r' +', ' ', text) # remove unnecessary spaces\n",
    "    text = text.lower() # put text in lower case\n",
    "    stop_words = stopwords.words('english')\n",
    "    text = ' '.join([word for word in text.split() if word not in stop_words])\n",
    "    text = ' '.join([lemmatizer.lemmatize(w, get_wordnet_pos(w)) for w in word_tokenize(text)])\n",
    "    return text.strip()\n",
    "\n",
    "def split_dataset(df: pd.DataFrame, test_size: float, label: str):\n",
    "    \"\"\"Split dataset on training and test sets\"\"\"\n",
    "    return train_test_split(df, test_size=test_size, stratify=df[label])"
   ]
  },
  {
   "cell_type": "markdown",
   "metadata": {},
   "source": [
    "* * *"
   ]
  },
  {
   "cell_type": "markdown",
   "metadata": {},
   "source": [
    "## **URLs DATASET**"
   ]
  },
  {
   "cell_type": "code",
   "execution_count": 5,
   "metadata": {},
   "outputs": [
    {
     "data": {
      "text/html": [
       "<div>\n",
       "<style scoped>\n",
       "    .dataframe tbody tr th:only-of-type {\n",
       "        vertical-align: middle;\n",
       "    }\n",
       "\n",
       "    .dataframe tbody tr th {\n",
       "        vertical-align: top;\n",
       "    }\n",
       "\n",
       "    .dataframe thead th {\n",
       "        text-align: right;\n",
       "    }\n",
       "</style>\n",
       "<table border=\"1\" class=\"dataframe\">\n",
       "  <thead>\n",
       "    <tr style=\"text-align: right;\">\n",
       "      <th></th>\n",
       "      <th>text</th>\n",
       "      <th>label</th>\n",
       "    </tr>\n",
       "  </thead>\n",
       "  <tbody>\n",
       "    <tr>\n",
       "      <th>0</th>\n",
       "      <td>http://216.127.171.242/</td>\n",
       "      <td>1</td>\n",
       "    </tr>\n",
       "    <tr>\n",
       "      <th>1</th>\n",
       "      <td>upcoming.yahoo.com/event/8545497/GA/Statesboro...</td>\n",
       "      <td>0</td>\n",
       "    </tr>\n",
       "    <tr>\n",
       "      <th>2</th>\n",
       "      <td>nhl.com/ice/page.htm?id=25429</td>\n",
       "      <td>0</td>\n",
       "    </tr>\n",
       "    <tr>\n",
       "      <th>3</th>\n",
       "      <td>lasell.edu/</td>\n",
       "      <td>0</td>\n",
       "    </tr>\n",
       "    <tr>\n",
       "      <th>4</th>\n",
       "      <td>http://www.acccaseoen.acacoccnsaa.qxykiz.top/</td>\n",
       "      <td>1</td>\n",
       "    </tr>\n",
       "    <tr>\n",
       "      <th>...</th>\n",
       "      <td>...</td>\n",
       "      <td>...</td>\n",
       "    </tr>\n",
       "    <tr>\n",
       "      <th>822005</th>\n",
       "      <td>answers.encyclopedia.com/question/la-francopho...</td>\n",
       "      <td>0</td>\n",
       "    </tr>\n",
       "    <tr>\n",
       "      <th>822006</th>\n",
       "      <td>www.tibiacommunit1y.za.pl/</td>\n",
       "      <td>1</td>\n",
       "    </tr>\n",
       "    <tr>\n",
       "      <th>822007</th>\n",
       "      <td>sane-productions.com</td>\n",
       "      <td>1</td>\n",
       "    </tr>\n",
       "    <tr>\n",
       "      <th>822008</th>\n",
       "      <td>www.epa.gov/opptintr/dfe/pubs/garment/gtcfact/...</td>\n",
       "      <td>0</td>\n",
       "    </tr>\n",
       "    <tr>\n",
       "      <th>822009</th>\n",
       "      <td>www.wired.com/wired/archive/9.10/google.html</td>\n",
       "      <td>0</td>\n",
       "    </tr>\n",
       "  </tbody>\n",
       "</table>\n",
       "<p>822010 rows × 2 columns</p>\n",
       "</div>"
      ],
      "text/plain": [
       "                                                     text  label\n",
       "0                                 http://216.127.171.242/      1\n",
       "1       upcoming.yahoo.com/event/8545497/GA/Statesboro...      0\n",
       "2                           nhl.com/ice/page.htm?id=25429      0\n",
       "3                                             lasell.edu/      0\n",
       "4           http://www.acccaseoen.acacoccnsaa.qxykiz.top/      1\n",
       "...                                                   ...    ...\n",
       "822005  answers.encyclopedia.com/question/la-francopho...      0\n",
       "822006                         www.tibiacommunit1y.za.pl/      1\n",
       "822007                               sane-productions.com      1\n",
       "822008  www.epa.gov/opptintr/dfe/pubs/garment/gtcfact/...      0\n",
       "822009       www.wired.com/wired/archive/9.10/google.html      0\n",
       "\n",
       "[822010 rows x 2 columns]"
      ]
     },
     "execution_count": 5,
     "metadata": {},
     "output_type": "execute_result"
    }
   ],
   "source": [
    "# import urls dataset\n",
    "urls = pd.read_csv('../DATASETS/INIT/URLS.csv')\n",
    "# mapping 0 to 1 for phishing, and 1 to 0 for benign samples\n",
    "urls['status'] = urls['status'].map({0: 1, 1: 0})\n",
    "# renaming column to maintain uniformity\n",
    "urls.rename(columns={'status': 'label', 'url': 'text'}, inplace=True)\n",
    "# shuffling rows due to dataset structure\n",
    "urls = urls.sample(frac=1).reset_index(drop=True)\n",
    "urls"
   ]
  },
  {
   "cell_type": "markdown",
   "metadata": {},
   "source": [
    "#### Missing and Duplicated Values"
   ]
  },
  {
   "cell_type": "code",
   "execution_count": 6,
   "metadata": {},
   "outputs": [
    {
     "name": "stdout",
     "output_type": "stream",
     "text": [
      "There are missing values?: False\n",
      "There are duplicated URLs?: True\n",
      "There are empty strings in url column?: False\n"
     ]
    }
   ],
   "source": [
    "print(f\"There are missing values?: {urls.isna().any().any()}\")\n",
    "print(f\"There are duplicated URLs?: {urls['text'].duplicated().any()}\")\n",
    "print(f\"There are empty strings in url column?: {urls.where(urls['text'] == '').any().any()}\")"
   ]
  },
  {
   "cell_type": "code",
   "execution_count": 7,
   "metadata": {},
   "outputs": [
    {
     "name": "stdout",
     "output_type": "stream",
     "text": [
      "URL dataset shape: (808042, 2)\n"
     ]
    }
   ],
   "source": [
    "# Solving duplicates\n",
    "urls = urls.drop_duplicates(subset=['text'])\n",
    "urls.reset_index(drop=True, inplace=True)\n",
    "print(f\"URL dataset shape: {urls.shape}\")"
   ]
  },
  {
   "cell_type": "markdown",
   "metadata": {},
   "source": [
    "#### Balance Dataset"
   ]
  },
  {
   "cell_type": "code",
   "execution_count": 8,
   "metadata": {},
   "outputs": [
    {
     "data": {
      "image/png": "[encoded data removed]",
      "text/plain": [
       "<Figure size 640x480 with 1 Axes>"
      ]
     },
     "metadata": {},
     "output_type": "display_data"
    },
    {
     "name": "stdout",
     "output_type": "stream",
     "text": [
      "label\n",
      "0    427028\n",
      "1    381014\n",
      "Name: count, dtype: int64\n"
     ]
    }
   ],
   "source": [
    "url_label_counts = urls['label'].value_counts()\n",
    "plt.bar(['benign', 'phishing'], url_label_counts, color=['turquoise', 'teal'])\n",
    "plt.xlabel('Label')\n",
    "plt.ylabel('Frequency')\n",
    "plt.show()\n",
    "print(url_label_counts)"
   ]
  },
  {
   "cell_type": "markdown",
   "metadata": {},
   "source": [
    "The dataset is balanced. This is also in accordance with the description of the dataset where it is mentioned: \"52% of the domains are legitimate and the remaining 47% are phishing domains.\""
   ]
  },
  {
   "cell_type": "markdown",
   "metadata": {},
   "source": [
    "* * *"
   ]
  },
  {
   "cell_type": "markdown",
   "metadata": {},
   "source": [
    "## **EMAILS DATASET**"
   ]
  },
  {
   "cell_type": "code",
   "execution_count": 9,
   "metadata": {},
   "outputs": [
    {
     "data": {
      "text/html": [
       "<div>\n",
       "<style scoped>\n",
       "    .dataframe tbody tr th:only-of-type {\n",
       "        vertical-align: middle;\n",
       "    }\n",
       "\n",
       "    .dataframe tbody tr th {\n",
       "        vertical-align: top;\n",
       "    }\n",
       "\n",
       "    .dataframe thead th {\n",
       "        text-align: right;\n",
       "    }\n",
       "</style>\n",
       "<table border=\"1\" class=\"dataframe\">\n",
       "  <thead>\n",
       "    <tr style=\"text-align: right;\">\n",
       "      <th></th>\n",
       "      <th>text</th>\n",
       "      <th>label</th>\n",
       "    </tr>\n",
       "  </thead>\n",
       "  <tbody>\n",
       "    <tr>\n",
       "      <th>0</th>\n",
       "      <td>re : 6 . 1100 , disc : uniformitarianism , re ...</td>\n",
       "      <td>0</td>\n",
       "    </tr>\n",
       "    <tr>\n",
       "      <th>1</th>\n",
       "      <td>the other side of * galicismos * * galicismo *...</td>\n",
       "      <td>0</td>\n",
       "    </tr>\n",
       "    <tr>\n",
       "      <th>2</th>\n",
       "      <td>re : equistar deal tickets are you still avail...</td>\n",
       "      <td>0</td>\n",
       "    </tr>\n",
       "    <tr>\n",
       "      <th>3</th>\n",
       "      <td>\\nHello I am your hot lil horny toy.\\n    I am...</td>\n",
       "      <td>1</td>\n",
       "    </tr>\n",
       "    <tr>\n",
       "      <th>4</th>\n",
       "      <td>software at incredibly low prices ( 86 % lower...</td>\n",
       "      <td>1</td>\n",
       "    </tr>\n",
       "    <tr>\n",
       "      <th>...</th>\n",
       "      <td>...</td>\n",
       "      <td>...</td>\n",
       "    </tr>\n",
       "    <tr>\n",
       "      <th>18646</th>\n",
       "      <td>date a lonely housewife always wanted to date ...</td>\n",
       "      <td>1</td>\n",
       "    </tr>\n",
       "    <tr>\n",
       "      <th>18647</th>\n",
       "      <td>request submitted : access request for anita ....</td>\n",
       "      <td>0</td>\n",
       "    </tr>\n",
       "    <tr>\n",
       "      <th>18648</th>\n",
       "      <td>re : important - prc mtg hi dorn &amp; john , as y...</td>\n",
       "      <td>0</td>\n",
       "    </tr>\n",
       "    <tr>\n",
       "      <th>18649</th>\n",
       "      <td>press clippings - letter on californian utilit...</td>\n",
       "      <td>0</td>\n",
       "    </tr>\n",
       "    <tr>\n",
       "      <th>18650</th>\n",
       "      <td>empty</td>\n",
       "      <td>1</td>\n",
       "    </tr>\n",
       "  </tbody>\n",
       "</table>\n",
       "<p>18650 rows × 2 columns</p>\n",
       "</div>"
      ],
      "text/plain": [
       "                                                    text  label\n",
       "0      re : 6 . 1100 , disc : uniformitarianism , re ...      0\n",
       "1      the other side of * galicismos * * galicismo *...      0\n",
       "2      re : equistar deal tickets are you still avail...      0\n",
       "3      \\nHello I am your hot lil horny toy.\\n    I am...      1\n",
       "4      software at incredibly low prices ( 86 % lower...      1\n",
       "...                                                  ...    ...\n",
       "18646  date a lonely housewife always wanted to date ...      1\n",
       "18647  request submitted : access request for anita ....      0\n",
       "18648  re : important - prc mtg hi dorn & john , as y...      0\n",
       "18649  press clippings - letter on californian utilit...      0\n",
       "18650                                              empty      1\n",
       "\n",
       "[18650 rows x 2 columns]"
      ]
     },
     "execution_count": 9,
     "metadata": {},
     "output_type": "execute_result"
    }
   ],
   "source": [
    "# importing emails dataset\n",
    "emails = pd.read_csv('../DATASETS/INIT/EMAILS.csv', index_col=0)\n",
    "# renaming columns to maintain uniformity\n",
    "emails.rename(columns={'Email Text': 'text', 'Email Type': 'label'}, inplace=True)\n",
    "# mapping label values to 1 (phishing) and 0s (benign)\n",
    "emails['label'] = emails['label'].map({'Phishing Email': 1, 'Safe Email': 0})\n",
    "emails"
   ]
  },
  {
   "cell_type": "markdown",
   "metadata": {},
   "source": [
    "#### Missing and Duplicated Values"
   ]
  },
  {
   "cell_type": "code",
   "execution_count": 10,
   "metadata": {},
   "outputs": [
    {
     "name": "stdout",
     "output_type": "stream",
     "text": [
      "There are missing values?: True\n",
      "There are duplicated emails?: True\n",
      "There are empty strings in text column?: False\n"
     ]
    }
   ],
   "source": [
    "print(f\"There are missing values?: {emails.isna().any().any()}\")\n",
    "print(f\"There are duplicated emails?: {emails['text'].duplicated().any()}\")\n",
    "print(f\"There are empty strings in text column?: {emails.where(emails['text'] == '').any().any()}\")"
   ]
  },
  {
   "cell_type": "code",
   "execution_count": 11,
   "metadata": {},
   "outputs": [
    {
     "name": "stdout",
     "output_type": "stream",
     "text": [
      "Emails dataset shape: (17536, 2)\n"
     ]
    }
   ],
   "source": [
    "# Solving duplicated and missing values\n",
    "emails = emails.drop_duplicates(subset=['text']) \n",
    "emails = emails.dropna(how='any',axis=0) \n",
    "emails = emails[emails['text'] != 'empty'] \n",
    "emails.reset_index(drop=True, inplace=True)\n",
    "print(f\"Emails dataset shape: {emails.shape}\")"
   ]
  },
  {
   "cell_type": "markdown",
   "metadata": {},
   "source": [
    "#### Balance Dataset "
   ]
  },
  {
   "cell_type": "code",
   "execution_count": 12,
   "metadata": {},
   "outputs": [
    {
     "data": {
      "image/png": "[encoded data removed]",
      "text/plain": [
       "<Figure size 640x480 with 1 Axes>"
      ]
     },
     "metadata": {},
     "output_type": "display_data"
    },
    {
     "name": "stdout",
     "output_type": "stream",
     "text": [
      "label\n",
      "0    10979\n",
      "1     6557\n",
      "Name: count, dtype: int64\n"
     ]
    }
   ],
   "source": [
    "email_label_counts = emails['label'].value_counts()\n",
    "plt.bar(['benign', 'phishing'], email_label_counts, color=['turquoise', 'teal'])\n",
    "plt.xlabel('Label')\n",
    "plt.ylabel('Frequency')\n",
    "plt.show()\n",
    "print(email_label_counts)"
   ]
  },
  {
   "cell_type": "markdown",
   "metadata": {},
   "source": [
    "We have 10979 benign samples and 6557 phishing samples. That means that the proportions are: \n",
    "- 62.6% benign\n",
    "- 37.4% phishing\n",
    "\n",
    "There is no significant difference between classes proportion, so we can continue"
   ]
  },
  {
   "cell_type": "markdown",
   "metadata": {},
   "source": [
    "#### URLs Extraction"
   ]
  },
  {
   "cell_type": "markdown",
   "metadata": {},
   "source": [
    "Phishing emails usually have URLs inside the text. We can extract and add them to the URLs dataset to improve the training"
   ]
  },
  {
   "cell_type": "code",
   "execution_count": 13,
   "metadata": {},
   "outputs": [
    {
     "name": "stdout",
     "output_type": "stream",
     "text": [
      "New URLs added (+4405):\n",
      "\n"
     ]
    },
    {
     "data": {
      "text/html": [
       "<div>\n",
       "<style scoped>\n",
       "    .dataframe tbody tr th:only-of-type {\n",
       "        vertical-align: middle;\n",
       "    }\n",
       "\n",
       "    .dataframe tbody tr th {\n",
       "        vertical-align: top;\n",
       "    }\n",
       "\n",
       "    .dataframe thead th {\n",
       "        text-align: right;\n",
       "    }\n",
       "</style>\n",
       "<table border=\"1\" class=\"dataframe\">\n",
       "  <thead>\n",
       "    <tr style=\"text-align: right;\">\n",
       "      <th></th>\n",
       "      <th>text</th>\n",
       "      <th>label</th>\n",
       "    </tr>\n",
       "  </thead>\n",
       "  <tbody>\n",
       "    <tr>\n",
       "      <th>0</th>\n",
       "      <td>http://216.127.171.242/</td>\n",
       "      <td>1</td>\n",
       "    </tr>\n",
       "    <tr>\n",
       "      <th>1</th>\n",
       "      <td>upcoming.yahoo.com/event/8545497/GA/Statesboro...</td>\n",
       "      <td>0</td>\n",
       "    </tr>\n",
       "    <tr>\n",
       "      <th>2</th>\n",
       "      <td>nhl.com/ice/page.htm?id=25429</td>\n",
       "      <td>0</td>\n",
       "    </tr>\n",
       "    <tr>\n",
       "      <th>3</th>\n",
       "      <td>lasell.edu/</td>\n",
       "      <td>0</td>\n",
       "    </tr>\n",
       "    <tr>\n",
       "      <th>4</th>\n",
       "      <td>http://www.acccaseoen.acacoccnsaa.qxykiz.top/</td>\n",
       "      <td>1</td>\n",
       "    </tr>\n",
       "    <tr>\n",
       "      <th>...</th>\n",
       "      <td>...</td>\n",
       "      <td>...</td>\n",
       "    </tr>\n",
       "    <tr>\n",
       "      <th>812442</th>\n",
       "      <td>ArchiveIterator.pm</td>\n",
       "      <td>0</td>\n",
       "    </tr>\n",
       "    <tr>\n",
       "      <th>812443</th>\n",
       "      <td>NYTimes.com</td>\n",
       "      <td>0</td>\n",
       "    </tr>\n",
       "    <tr>\n",
       "      <th>812444</th>\n",
       "      <td>http://lists.freshrpms.net/mailman/listinfo/rp...</td>\n",
       "      <td>0</td>\n",
       "    </tr>\n",
       "    <tr>\n",
       "      <th>812445</th>\n",
       "      <td>http://diveintomark.org/archives/2002/09/25.ht...</td>\n",
       "      <td>0</td>\n",
       "    </tr>\n",
       "    <tr>\n",
       "      <th>812446</th>\n",
       "      <td>http://fr.mail.yahoo.com--</td>\n",
       "      <td>0</td>\n",
       "    </tr>\n",
       "  </tbody>\n",
       "</table>\n",
       "<p>812447 rows × 2 columns</p>\n",
       "</div>"
      ],
      "text/plain": [
       "                                                     text  label\n",
       "0                                 http://216.127.171.242/      1\n",
       "1       upcoming.yahoo.com/event/8545497/GA/Statesboro...      0\n",
       "2                           nhl.com/ice/page.htm?id=25429      0\n",
       "3                                             lasell.edu/      0\n",
       "4           http://www.acccaseoen.acacoccnsaa.qxykiz.top/      1\n",
       "...                                                   ...    ...\n",
       "812442                                 ArchiveIterator.pm      0\n",
       "812443                                        NYTimes.com      0\n",
       "812444  http://lists.freshrpms.net/mailman/listinfo/rp...      0\n",
       "812445  http://diveintomark.org/archives/2002/09/25.ht...      0\n",
       "812446                         http://fr.mail.yahoo.com--      0\n",
       "\n",
       "[812447 rows x 2 columns]"
      ]
     },
     "execution_count": 13,
     "metadata": {},
     "output_type": "execute_result"
    }
   ],
   "source": [
    "# extract urls from emails text using regex\n",
    "email_urls = []\n",
    "for email in emails['text']:\n",
    "    match = re.search(url_regex, email)\n",
    "    if match:\n",
    "        email_urls.append(match.group(0))\n",
    "    else:\n",
    "        email_urls.append(None)\n",
    "emails['url'] = pd.Series(email_urls)\n",
    "\n",
    "# adding urls from emails dataframe to URL dataframe\n",
    "urls, urls_added_num = add_urls(urls, emails)\n",
    "\n",
    "# print new urls added\n",
    "print(f\"New URLs added (+{urls_added_num}):\\n\")\n",
    "urls"
   ]
  },
  {
   "cell_type": "markdown",
   "metadata": {},
   "source": [
    "#### Training and test set ✂️"
   ]
  },
  {
   "cell_type": "code",
   "execution_count": 14,
   "metadata": {},
   "outputs": [],
   "source": [
    "train_emails, test_emails = split_dataset(emails, 0.2, 'label')"
   ]
  },
  {
   "cell_type": "markdown",
   "metadata": {},
   "source": [
    "#### Preprocess Emails ✏️"
   ]
  },
  {
   "cell_type": "markdown",
   "metadata": {},
   "source": [
    "Using NLTK and pandarallel we are going to preprocess emails train dataset for NLP tasks as quickly as possible."
   ]
  },
  {
   "cell_type": "code",
   "execution_count": 15,
   "metadata": {},
   "outputs": [
    {
     "data": {
      "text/html": [
       "<div>\n",
       "<style scoped>\n",
       "    .dataframe tbody tr th:only-of-type {\n",
       "        vertical-align: middle;\n",
       "    }\n",
       "\n",
       "    .dataframe tbody tr th {\n",
       "        vertical-align: top;\n",
       "    }\n",
       "\n",
       "    .dataframe thead th {\n",
       "        text-align: right;\n",
       "    }\n",
       "</style>\n",
       "<table border=\"1\" class=\"dataframe\">\n",
       "  <thead>\n",
       "    <tr style=\"text-align: right;\">\n",
       "      <th></th>\n",
       "      <th>text</th>\n",
       "      <th>label</th>\n",
       "    </tr>\n",
       "  </thead>\n",
       "  <tbody>\n",
       "    <tr>\n",
       "      <th>8764</th>\n",
       "      <td>use handy interest calculator get current inte...</td>\n",
       "      <td>1</td>\n",
       "    </tr>\n",
       "    <tr>\n",
       "      <th>5978</th>\n",
       "      <td>cheap oem software shipping worldwide rhombus ...</td>\n",
       "      <td>1</td>\n",
       "    </tr>\n",
       "    <tr>\n",
       "      <th>12717</th>\n",
       "      <td>epe lending read whole thing follow e mail giv...</td>\n",
       "      <td>0</td>\n",
       "    </tr>\n",
       "    <tr>\n",
       "      <th>1120</th>\n",
       "      <td>new color printer sorry need know cost well fo...</td>\n",
       "      <td>0</td>\n",
       "    </tr>\n",
       "    <tr>\n",
       "      <th>13806</th>\n",
       "      <td>get software need save 40 popular software bun...</td>\n",
       "      <td>1</td>\n",
       "    </tr>\n",
       "    <tr>\n",
       "      <th>...</th>\n",
       "      <td>...</td>\n",
       "      <td>...</td>\n",
       "    </tr>\n",
       "    <tr>\n",
       "      <th>17105</th>\n",
       "      <td>liam bedford write cv version seem breakage co...</td>\n",
       "      <td>0</td>\n",
       "    </tr>\n",
       "    <tr>\n",
       "      <th>216</th>\n",
       "      <td>call generative linguistics first announcement...</td>\n",
       "      <td>0</td>\n",
       "    </tr>\n",
       "    <tr>\n",
       "      <th>11691</th>\n",
       "      <td>ready get hello viagra 1 med struggle men erec...</td>\n",
       "      <td>1</td>\n",
       "    </tr>\n",
       "    <tr>\n",
       "      <th>8136</th>\n",
       "      <td>mtv enlargement ripoffs join thousand satisfie...</td>\n",
       "      <td>1</td>\n",
       "    </tr>\n",
       "    <tr>\n",
       "      <th>9252</th>\n",
       "      <td>citizen homelink online banking invest email d...</td>\n",
       "      <td>1</td>\n",
       "    </tr>\n",
       "  </tbody>\n",
       "</table>\n",
       "<p>14028 rows × 2 columns</p>\n",
       "</div>"
      ],
      "text/plain": [
       "                                                    text  label\n",
       "8764   use handy interest calculator get current inte...      1\n",
       "5978   cheap oem software shipping worldwide rhombus ...      1\n",
       "12717  epe lending read whole thing follow e mail giv...      0\n",
       "1120   new color printer sorry need know cost well fo...      0\n",
       "13806  get software need save 40 popular software bun...      1\n",
       "...                                                  ...    ...\n",
       "17105  liam bedford write cv version seem breakage co...      0\n",
       "216    call generative linguistics first announcement...      0\n",
       "11691  ready get hello viagra 1 med struggle men erec...      1\n",
       "8136   mtv enlargement ripoffs join thousand satisfie...      1\n",
       "9252   citizen homelink online banking invest email d...      1\n",
       "\n",
       "[14028 rows x 2 columns]"
      ]
     },
     "execution_count": 15,
     "metadata": {},
     "output_type": "execute_result"
    }
   ],
   "source": [
    "train_emails['text'] = train_emails['text'].parallel_apply(preprocess_text)\n",
    "train_emails"
   ]
  },
  {
   "cell_type": "markdown",
   "metadata": {},
   "source": [
    "* * *"
   ]
  },
  {
   "cell_type": "markdown",
   "metadata": {},
   "source": [
    "## **SMS DATASET**"
   ]
  },
  {
   "cell_type": "code",
   "execution_count": 16,
   "metadata": {},
   "outputs": [
    {
     "data": {
      "text/html": [
       "<div>\n",
       "<style scoped>\n",
       "    .dataframe tbody tr th:only-of-type {\n",
       "        vertical-align: middle;\n",
       "    }\n",
       "\n",
       "    .dataframe tbody tr th {\n",
       "        vertical-align: top;\n",
       "    }\n",
       "\n",
       "    .dataframe thead th {\n",
       "        text-align: right;\n",
       "    }\n",
       "</style>\n",
       "<table border=\"1\" class=\"dataframe\">\n",
       "  <thead>\n",
       "    <tr style=\"text-align: right;\">\n",
       "      <th></th>\n",
       "      <th>text</th>\n",
       "      <th>label</th>\n",
       "    </tr>\n",
       "  </thead>\n",
       "  <tbody>\n",
       "    <tr>\n",
       "      <th>0</th>\n",
       "      <td>Your opinion about me? 1. Over 2. Jada 3. Kusr...</td>\n",
       "      <td>0</td>\n",
       "    </tr>\n",
       "    <tr>\n",
       "      <th>1</th>\n",
       "      <td>What's up? Do you want me to come online? If y...</td>\n",
       "      <td>0</td>\n",
       "    </tr>\n",
       "    <tr>\n",
       "      <th>2</th>\n",
       "      <td>So u workin overtime nigpun?</td>\n",
       "      <td>0</td>\n",
       "    </tr>\n",
       "    <tr>\n",
       "      <th>3</th>\n",
       "      <td>Also sir, i sent you an email about how to log...</td>\n",
       "      <td>0</td>\n",
       "    </tr>\n",
       "    <tr>\n",
       "      <th>4</th>\n",
       "      <td>Please Stay At Home. To encourage the notion o...</td>\n",
       "      <td>1</td>\n",
       "    </tr>\n",
       "    <tr>\n",
       "      <th>...</th>\n",
       "      <td>...</td>\n",
       "      <td>...</td>\n",
       "    </tr>\n",
       "    <tr>\n",
       "      <th>5966</th>\n",
       "      <td>:( but your not here....</td>\n",
       "      <td>0</td>\n",
       "    </tr>\n",
       "    <tr>\n",
       "      <th>5967</th>\n",
       "      <td>Becoz its  &amp;lt;#&amp;gt;  jan whn al the post ofic...</td>\n",
       "      <td>0</td>\n",
       "    </tr>\n",
       "    <tr>\n",
       "      <th>5968</th>\n",
       "      <td>Its a valentine game. . . send dis msg to all ...</td>\n",
       "      <td>0</td>\n",
       "    </tr>\n",
       "    <tr>\n",
       "      <th>5969</th>\n",
       "      <td>We r outside already.</td>\n",
       "      <td>0</td>\n",
       "    </tr>\n",
       "    <tr>\n",
       "      <th>5970</th>\n",
       "      <td>The Xmas story is peace.. The Xmas msg is love...</td>\n",
       "      <td>0</td>\n",
       "    </tr>\n",
       "  </tbody>\n",
       "</table>\n",
       "<p>5971 rows × 2 columns</p>\n",
       "</div>"
      ],
      "text/plain": [
       "                                                   text  label\n",
       "0     Your opinion about me? 1. Over 2. Jada 3. Kusr...      0\n",
       "1     What's up? Do you want me to come online? If y...      0\n",
       "2                          So u workin overtime nigpun?      0\n",
       "3     Also sir, i sent you an email about how to log...      0\n",
       "4     Please Stay At Home. To encourage the notion o...      1\n",
       "...                                                 ...    ...\n",
       "5966                           :( but your not here....      0\n",
       "5967  Becoz its  &lt;#&gt;  jan whn al the post ofic...      0\n",
       "5968  Its a valentine game. . . send dis msg to all ...      0\n",
       "5969                              We r outside already.      0\n",
       "5970  The Xmas story is peace.. The Xmas msg is love...      0\n",
       "\n",
       "[5971 rows x 2 columns]"
      ]
     },
     "execution_count": 16,
     "metadata": {},
     "output_type": "execute_result"
    }
   ],
   "source": [
    "# import sms dataset\n",
    "sms = pd.read_csv('../DATASETS/INIT/SMS.csv')\n",
    "# rename, dropping and moving columns to maintain uniformity\n",
    "sms.rename(columns={'LABEL': 'label', 'TEXT': 'text'}, inplace=True)\n",
    "sms.drop(['EMAIL', 'PHONE', 'URL'], axis=1, inplace=True)\n",
    "sms = sms.assign(label=sms.pop('label'))\n",
    "# mapping label values to 1 (phishing) and 0s (benign)\n",
    "sms['label'] = (sms['label'].str.lower()).map({'ham': 0, 'smishing': 1, 'spam': 1})\n",
    "sms"
   ]
  },
  {
   "cell_type": "markdown",
   "metadata": {},
   "source": [
    "#### Missing and Duplicate Values"
   ]
  },
  {
   "cell_type": "code",
   "execution_count": 17,
   "metadata": {},
   "outputs": [
    {
     "name": "stdout",
     "output_type": "stream",
     "text": [
      "There are missing values?: False\n",
      "There are duplicated sms?: True\n",
      "There are empty strings in text column?: False\n"
     ]
    }
   ],
   "source": [
    "print(f\"There are missing values?: {sms.isnull().any().any()}\")\n",
    "print(f\"There are duplicated sms?: {sms['text'].duplicated().any()}\")\n",
    "print(f\"There are empty strings in text column?: {sms.where(sms['text'] == '').any().any()}\")"
   ]
  },
  {
   "cell_type": "code",
   "execution_count": 18,
   "metadata": {},
   "outputs": [
    {
     "name": "stdout",
     "output_type": "stream",
     "text": [
      "SMS dataset shape: (5949, 2)\n"
     ]
    }
   ],
   "source": [
    "# Solving duplicates\n",
    "sms = sms.drop_duplicates(subset=['text'])\n",
    "sms.reset_index(drop=True, inplace=True)\n",
    "print(f\"SMS dataset shape: {sms.shape}\")"
   ]
  },
  {
   "cell_type": "markdown",
   "metadata": {},
   "source": [
    "#### Balance Dataset"
   ]
  },
  {
   "cell_type": "code",
   "execution_count": 19,
   "metadata": {},
   "outputs": [
    {
     "data": {
      "image/png": "[encoded data removed]",
      "text/plain": [
       "<Figure size 640x480 with 1 Axes>"
      ]
     },
     "metadata": {},
     "output_type": "display_data"
    },
    {
     "name": "stdout",
     "output_type": "stream",
     "text": [
      "label\n",
      "0    4834\n",
      "1    1115\n",
      "Name: count, dtype: int64\n"
     ]
    }
   ],
   "source": [
    "sms_label_counts = sms['label'].value_counts()\n",
    "plt.bar(['benign', 'phishing'], sms_label_counts, color=['turquoise', 'teal'])\n",
    "plt.xlabel('Label')\n",
    "plt.ylabel('Frequency')\n",
    "plt.show()\n",
    "print(sms_label_counts)"
   ]
  },
  {
   "cell_type": "markdown",
   "metadata": {},
   "source": [
    "We have an unbalanced dataset, with many more benign SMS messages than malicious ones. If we want to eliminate some benign samples in order to balance the dataset it we can use the **undersampling** method. This method consists in to reduce the number of observations of the majority class (in this case, the benign SMS) \n",
    "until it is equal to the number of observations of the minority class (in this case, the malignant SMS)."
   ]
  },
  {
   "cell_type": "code",
   "execution_count": 20,
   "metadata": {},
   "outputs": [
    {
     "data": {
      "image/png": "[encoded data removed]",
      "text/plain": [
       "<Figure size 640x480 with 1 Axes>"
      ]
     },
     "metadata": {},
     "output_type": "display_data"
    },
    {
     "name": "stdout",
     "output_type": "stream",
     "text": [
      "label\n",
      "0    1486\n",
      "1    1115\n",
      "Name: count, dtype: int64\n"
     ]
    }
   ],
   "source": [
    "# calculate the size of the minority class\n",
    "sms_minority_size = sms[sms['label'] == 1].shape[0]\n",
    "\n",
    "# randomly select a subset of observations from the majority class\n",
    "sms_majority_subset = sms[sms['label'] == 0].sample(\n",
    "    n=sms_minority_size+(sms_minority_size//3),\n",
    "    replace=False)\n",
    "\n",
    "# combine the minority and majority subsets to create a new, balanced dataset\n",
    "sms = pd.concat([sms_majority_subset, sms[sms['label'] == 1]])\n",
    "sms.reset_index(drop=True, inplace=True)\n",
    "\n",
    "sms_label_counts = sms['label'].value_counts()\n",
    "plt.bar(['benign', 'phishing'], sms_label_counts, color=['turquoise', 'teal'])\n",
    "plt.xlabel('Label')\n",
    "plt.ylabel('Frequency')\n",
    "plt.title('Label Frequency')\n",
    "plt.show()\n",
    "print(sms_label_counts)"
   ]
  },
  {
   "cell_type": "markdown",
   "metadata": {},
   "source": [
    "#### Extracción de URLs"
   ]
  },
  {
   "cell_type": "code",
   "execution_count": 21,
   "metadata": {},
   "outputs": [
    {
     "name": "stdout",
     "output_type": "stream",
     "text": [
      "New URLs added (+248):\n",
      "\n"
     ]
    },
    {
     "data": {
      "text/html": [
       "<div>\n",
       "<style scoped>\n",
       "    .dataframe tbody tr th:only-of-type {\n",
       "        vertical-align: middle;\n",
       "    }\n",
       "\n",
       "    .dataframe tbody tr th {\n",
       "        vertical-align: top;\n",
       "    }\n",
       "\n",
       "    .dataframe thead th {\n",
       "        text-align: right;\n",
       "    }\n",
       "</style>\n",
       "<table border=\"1\" class=\"dataframe\">\n",
       "  <thead>\n",
       "    <tr style=\"text-align: right;\">\n",
       "      <th></th>\n",
       "      <th>text</th>\n",
       "      <th>label</th>\n",
       "    </tr>\n",
       "  </thead>\n",
       "  <tbody>\n",
       "    <tr>\n",
       "      <th>0</th>\n",
       "      <td>http://216.127.171.242/</td>\n",
       "      <td>1</td>\n",
       "    </tr>\n",
       "    <tr>\n",
       "      <th>1</th>\n",
       "      <td>upcoming.yahoo.com/event/8545497/GA/Statesboro...</td>\n",
       "      <td>0</td>\n",
       "    </tr>\n",
       "    <tr>\n",
       "      <th>2</th>\n",
       "      <td>nhl.com/ice/page.htm?id=25429</td>\n",
       "      <td>0</td>\n",
       "    </tr>\n",
       "    <tr>\n",
       "      <th>3</th>\n",
       "      <td>lasell.edu/</td>\n",
       "      <td>0</td>\n",
       "    </tr>\n",
       "    <tr>\n",
       "      <th>4</th>\n",
       "      <td>http://www.acccaseoen.acacoccnsaa.qxykiz.top/</td>\n",
       "      <td>1</td>\n",
       "    </tr>\n",
       "    <tr>\n",
       "      <th>...</th>\n",
       "      <td>...</td>\n",
       "      <td>...</td>\n",
       "    </tr>\n",
       "    <tr>\n",
       "      <th>812690</th>\n",
       "      <td>www.StockInNews.com</td>\n",
       "      <td>1</td>\n",
       "    </tr>\n",
       "    <tr>\n",
       "      <th>812691</th>\n",
       "      <td>www.phb1.com</td>\n",
       "      <td>1</td>\n",
       "    </tr>\n",
       "    <tr>\n",
       "      <th>812692</th>\n",
       "      <td>www.SMS.ac/u/natalie2k9</td>\n",
       "      <td>1</td>\n",
       "    </tr>\n",
       "    <tr>\n",
       "      <th>812693</th>\n",
       "      <td>uk.com</td>\n",
       "      <td>1</td>\n",
       "    </tr>\n",
       "    <tr>\n",
       "      <th>812694</th>\n",
       "      <td>http://rghst.us/xRI2284</td>\n",
       "      <td>1</td>\n",
       "    </tr>\n",
       "  </tbody>\n",
       "</table>\n",
       "<p>812695 rows × 2 columns</p>\n",
       "</div>"
      ],
      "text/plain": [
       "                                                     text  label\n",
       "0                                 http://216.127.171.242/      1\n",
       "1       upcoming.yahoo.com/event/8545497/GA/Statesboro...      0\n",
       "2                           nhl.com/ice/page.htm?id=25429      0\n",
       "3                                             lasell.edu/      0\n",
       "4           http://www.acccaseoen.acacoccnsaa.qxykiz.top/      1\n",
       "...                                                   ...    ...\n",
       "812690                                www.StockInNews.com      1\n",
       "812691                                       www.phb1.com      1\n",
       "812692                            www.SMS.ac/u/natalie2k9      1\n",
       "812693                                             uk.com      1\n",
       "812694                            http://rghst.us/xRI2284      1\n",
       "\n",
       "[812695 rows x 2 columns]"
      ]
     },
     "execution_count": 21,
     "metadata": {},
     "output_type": "execute_result"
    }
   ],
   "source": [
    "# extract url from sms messages using regex\n",
    "sms_urls = []\n",
    "for message in sms['text']:\n",
    "    match = re.search(url_regex, message)\n",
    "    if match:\n",
    "        sms_urls.append(match.group(0))\n",
    "    else:\n",
    "        sms_urls.append(None)\n",
    "sms['url'] = pd.Series(sms_urls)\n",
    "\n",
    "# add urls to URLs dataframe\n",
    "urls, urls_added_num = add_urls(urls, sms)\n",
    "\n",
    "# print new urls added\n",
    "print(f\"New URLs added (+{urls_added_num}):\\n\")\n",
    "urls"
   ]
  },
  {
   "cell_type": "markdown",
   "metadata": {},
   "source": [
    "#### Split in training and test sets ✂️"
   ]
  },
  {
   "cell_type": "code",
   "execution_count": 22,
   "metadata": {},
   "outputs": [],
   "source": [
    "train_sms, test_sms = split_dataset(sms, 0.2, 'label')"
   ]
  },
  {
   "cell_type": "markdown",
   "metadata": {},
   "source": [
    "#### Preprocess SMS Messages ✏️"
   ]
  },
  {
   "cell_type": "code",
   "execution_count": 23,
   "metadata": {},
   "outputs": [
    {
     "data": {
      "text/html": [
       "<div>\n",
       "<style scoped>\n",
       "    .dataframe tbody tr th:only-of-type {\n",
       "        vertical-align: middle;\n",
       "    }\n",
       "\n",
       "    .dataframe tbody tr th {\n",
       "        vertical-align: top;\n",
       "    }\n",
       "\n",
       "    .dataframe thead th {\n",
       "        text-align: right;\n",
       "    }\n",
       "</style>\n",
       "<table border=\"1\" class=\"dataframe\">\n",
       "  <thead>\n",
       "    <tr style=\"text-align: right;\">\n",
       "      <th></th>\n",
       "      <th>text</th>\n",
       "      <th>label</th>\n",
       "    </tr>\n",
       "  </thead>\n",
       "  <tbody>\n",
       "    <tr>\n",
       "      <th>72</th>\n",
       "      <td>sweet heart</td>\n",
       "      <td>0</td>\n",
       "    </tr>\n",
       "    <tr>\n",
       "      <th>1967</th>\n",
       "      <td>girl bba mba executive mba b sc bio tech b tec...</td>\n",
       "      <td>1</td>\n",
       "    </tr>\n",
       "    <tr>\n",
       "      <th>1327</th>\n",
       "      <td>yup ok go home look timing msg ü xuhui go lear...</td>\n",
       "      <td>0</td>\n",
       "    </tr>\n",
       "    <tr>\n",
       "      <th>2049</th>\n",
       "      <td>hey really want chat see text 08718738034</td>\n",
       "      <td>1</td>\n",
       "    </tr>\n",
       "    <tr>\n",
       "      <th>310</th>\n",
       "      <td>think chennai well settle</td>\n",
       "      <td>0</td>\n",
       "    </tr>\n",
       "    <tr>\n",
       "      <th>...</th>\n",
       "      <td>...</td>\n",
       "      <td>...</td>\n",
       "    </tr>\n",
       "    <tr>\n",
       "      <th>255</th>\n",
       "      <td>depends quality want type sent boye fade glory...</td>\n",
       "      <td>0</td>\n",
       "    </tr>\n",
       "    <tr>\n",
       "      <th>1979</th>\n",
       "      <td>private 2003 account statement show 800 un red...</td>\n",
       "      <td>1</td>\n",
       "    </tr>\n",
       "    <tr>\n",
       "      <th>1146</th>\n",
       "      <td>ill obey</td>\n",
       "      <td>0</td>\n",
       "    </tr>\n",
       "    <tr>\n",
       "      <th>1377</th>\n",
       "      <td>aiyo u always c ex one dunno abt mei reply fir...</td>\n",
       "      <td>0</td>\n",
       "    </tr>\n",
       "    <tr>\n",
       "      <th>1616</th>\n",
       "      <td>call 08702490080 tell u 2 call 09066358152 cla...</td>\n",
       "      <td>1</td>\n",
       "    </tr>\n",
       "  </tbody>\n",
       "</table>\n",
       "<p>2080 rows × 2 columns</p>\n",
       "</div>"
      ],
      "text/plain": [
       "                                                   text  label\n",
       "72                                          sweet heart      0\n",
       "1967  girl bba mba executive mba b sc bio tech b tec...      1\n",
       "1327  yup ok go home look timing msg ü xuhui go lear...      0\n",
       "2049          hey really want chat see text 08718738034      1\n",
       "310                           think chennai well settle      0\n",
       "...                                                 ...    ...\n",
       "255   depends quality want type sent boye fade glory...      0\n",
       "1979  private 2003 account statement show 800 un red...      1\n",
       "1146                                           ill obey      0\n",
       "1377  aiyo u always c ex one dunno abt mei reply fir...      0\n",
       "1616  call 08702490080 tell u 2 call 09066358152 cla...      1\n",
       "\n",
       "[2080 rows x 2 columns]"
      ]
     },
     "execution_count": 23,
     "metadata": {},
     "output_type": "execute_result"
    }
   ],
   "source": [
    "train_sms['text'] = train_sms['text'].parallel_apply(preprocess_text)\n",
    "train_sms"
   ]
  },
  {
   "cell_type": "markdown",
   "metadata": {},
   "source": [
    "* * *"
   ]
  },
  {
   "cell_type": "markdown",
   "metadata": {},
   "source": [
    "## **WEBSITES DATASET**"
   ]
  },
  {
   "cell_type": "code",
   "execution_count": 24,
   "metadata": {},
   "outputs": [
    {
     "data": {
      "text/html": [
       "<div>\n",
       "<style scoped>\n",
       "    .dataframe tbody tr th:only-of-type {\n",
       "        vertical-align: middle;\n",
       "    }\n",
       "\n",
       "    .dataframe tbody tr th {\n",
       "        vertical-align: top;\n",
       "    }\n",
       "\n",
       "    .dataframe thead th {\n",
       "        text-align: right;\n",
       "    }\n",
       "</style>\n",
       "<table border=\"1\" class=\"dataframe\">\n",
       "  <thead>\n",
       "    <tr style=\"text-align: right;\">\n",
       "      <th></th>\n",
       "      <th>url</th>\n",
       "      <th>text</th>\n",
       "      <th>label</th>\n",
       "    </tr>\n",
       "  </thead>\n",
       "  <tbody>\n",
       "    <tr>\n",
       "      <th>0</th>\n",
       "      <td>http://intego3.info/EXEL/index.php</td>\n",
       "      <td>1613573972338075.html</td>\n",
       "      <td>1</td>\n",
       "    </tr>\n",
       "    <tr>\n",
       "      <th>1</th>\n",
       "      <td>https://www.mathopenref.com/segment.html</td>\n",
       "      <td>1635698138155948.html</td>\n",
       "      <td>0</td>\n",
       "    </tr>\n",
       "    <tr>\n",
       "      <th>2</th>\n",
       "      <td>https://www.computerhope.com/issues/ch000254.htm</td>\n",
       "      <td>1635699228889266.html</td>\n",
       "      <td>0</td>\n",
       "    </tr>\n",
       "    <tr>\n",
       "      <th>3</th>\n",
       "      <td>https://www.investopedia.com/terms/n/next-elev...</td>\n",
       "      <td>1635750062162701.html</td>\n",
       "      <td>0</td>\n",
       "    </tr>\n",
       "    <tr>\n",
       "      <th>4</th>\n",
       "      <td>https://jobs.emss.org.uk/lcc.aspx</td>\n",
       "      <td>161356510250721.html</td>\n",
       "      <td>0</td>\n",
       "    </tr>\n",
       "    <tr>\n",
       "      <th>...</th>\n",
       "      <td>...</td>\n",
       "      <td>...</td>\n",
       "      <td>...</td>\n",
       "    </tr>\n",
       "    <tr>\n",
       "      <th>19995</th>\n",
       "      <td>https://www.click.co.uk/bloggers-signup/</td>\n",
       "      <td>1635745139364882.html</td>\n",
       "      <td>0</td>\n",
       "    </tr>\n",
       "    <tr>\n",
       "      <th>19996</th>\n",
       "      <td>http://steamcoummunity.gq/en/chat/TaraKlass</td>\n",
       "      <td>1613572837296168.html</td>\n",
       "      <td>1</td>\n",
       "    </tr>\n",
       "    <tr>\n",
       "      <th>19997</th>\n",
       "      <td>https://www.ncbi.nlm.nih.gov/pmc/articles/PMC7...</td>\n",
       "      <td>1609107774284011.html</td>\n",
       "      <td>0</td>\n",
       "    </tr>\n",
       "    <tr>\n",
       "      <th>19998</th>\n",
       "      <td>https://hairfairly.com/docu/file/indexa.php</td>\n",
       "      <td>1613575453561959.html</td>\n",
       "      <td>1</td>\n",
       "    </tr>\n",
       "    <tr>\n",
       "      <th>19999</th>\n",
       "      <td>https://360dogprof.com/cakdd/c0mc45t-u53r-v3ri...</td>\n",
       "      <td>1613574869241639.html</td>\n",
       "      <td>1</td>\n",
       "    </tr>\n",
       "  </tbody>\n",
       "</table>\n",
       "<p>20000 rows × 3 columns</p>\n",
       "</div>"
      ],
      "text/plain": [
       "                                                     url  \\\n",
       "0                     http://intego3.info/EXEL/index.php   \n",
       "1               https://www.mathopenref.com/segment.html   \n",
       "2       https://www.computerhope.com/issues/ch000254.htm   \n",
       "3      https://www.investopedia.com/terms/n/next-elev...   \n",
       "4                      https://jobs.emss.org.uk/lcc.aspx   \n",
       "...                                                  ...   \n",
       "19995           https://www.click.co.uk/bloggers-signup/   \n",
       "19996        http://steamcoummunity.gq/en/chat/TaraKlass   \n",
       "19997  https://www.ncbi.nlm.nih.gov/pmc/articles/PMC7...   \n",
       "19998        https://hairfairly.com/docu/file/indexa.php   \n",
       "19999  https://360dogprof.com/cakdd/c0mc45t-u53r-v3ri...   \n",
       "\n",
       "                        text  label  \n",
       "0      1613573972338075.html      1  \n",
       "1      1635698138155948.html      0  \n",
       "2      1635699228889266.html      0  \n",
       "3      1635750062162701.html      0  \n",
       "4       161356510250721.html      0  \n",
       "...                      ...    ...  \n",
       "19995  1635745139364882.html      0  \n",
       "19996  1613572837296168.html      1  \n",
       "19997  1609107774284011.html      0  \n",
       "19998  1613575453561959.html      1  \n",
       "19999  1613574869241639.html      1  \n",
       "\n",
       "[20000 rows x 3 columns]"
      ]
     },
     "execution_count": 24,
     "metadata": {},
     "output_type": "execute_result"
    }
   ],
   "source": [
    "# we have to create a database to get html files\n",
    "conn = sqlite3.connect(Path(\"~/Documents/WEBSITES/websites.db\").expanduser())\n",
    "\n",
    "# open and read index.sql, where html files are\n",
    "with open(Path(\"~/Documents/WEBSITES/index.sql\").expanduser(), \"r\") as f:\n",
    "    sql = f.read()\n",
    "\n",
    "sql = sql.replace(\"`\", \"'\")\n",
    "conn.executescript(sql)\n",
    "conn.commit()\n",
    "\n",
    "# read table data and pass it to a pandas dataframe\n",
    "webs = pd.read_sql_query(\"SELECT * FROM \\\"index\\\" LIMIT 20000\", conn)\n",
    "\n",
    "conn.close()\n",
    "\n",
    "webs.drop(['rec_id', 'created_date'], inplace=True, axis=1)\n",
    "webs.rename(columns={'website': 'text', 'result': 'label'}, inplace=True)\n",
    "webs"
   ]
  },
  {
   "cell_type": "markdown",
   "metadata": {},
   "source": [
    "#### HTML Codes Extraction"
   ]
  },
  {
   "cell_type": "markdown",
   "metadata": {},
   "source": [
    "It's worthwhile to analyze the websites dataset. Nevertheless, processing each HTML code sample could be pretty heavy and delayed. That's why is necessary to filter those HTML samples that exceed a SIZE threshold. On this case, we decided the threshold to be: **100 KB**. Also, we can speed HTML extraction from disk by executing the code using Cython library. Cython compile python code in C, and this increases the performance significantly."
   ]
  },
  {
   "cell_type": "code",
   "execution_count": 25,
   "metadata": {},
   "outputs": [],
   "source": [
    "%load_ext Cython"
   ]
  },
  {
   "cell_type": "code",
   "execution_count": 26,
   "metadata": {},
   "outputs": [],
   "source": [
    "%%cython\n",
    "import os\n",
    "\n",
    "MAX_FILE_SIZE = 100 # max file size in KB\n",
    "\n",
    "prefix = os.path.expanduser(\"~/Documents/WEBSITES/DATASET/\") # common prefix where HTML codes are stored\n",
    "html_directories = [\n",
    "    \"dataset-part-1/\", \n",
    "    \"dataset-part-2/\",\n",
    "    \"dataset-part-3/\",\n",
    "    \"dataset-part-4/\",\n",
    "    \"dataset-part-5/\",\n",
    "    \"dataset-part-6/\",\n",
    "    \"dataset-part-7/\",\n",
    "    \"dataset-part-8/\"]\n",
    "\n",
    "def B_TO_KB(b):\n",
    "    kilobytes = b / 1024\n",
    "    return kilobytes\n",
    "\n",
    "def get_html(filename):\n",
    "    \n",
    "    for directory in html_directories:\n",
    "        dir_path = os.path.join(prefix, directory)\n",
    "        files = os.listdir(dir_path)\n",
    "        for file in files:\n",
    "            if file == filename:\n",
    "                html_path = os.path.join(dir_path, file)\n",
    "                break\n",
    "            \n",
    "    if B_TO_KB(os.path.getsize(html_path)) <= MAX_FILE_SIZE:\n",
    "        with open(html_path, 'r') as html_file:\n",
    "            html = html_file.read()\n",
    "        return html\n",
    "    else:\n",
    "        return None"
   ]
  },
  {
   "cell_type": "code",
   "execution_count": 27,
   "metadata": {},
   "outputs": [
    {
     "name": "stdout",
     "output_type": "stream",
     "text": [
      "Webs dataset shape: (13870, 3)\n"
     ]
    },
    {
     "data": {
      "text/html": [
       "<div>\n",
       "<style scoped>\n",
       "    .dataframe tbody tr th:only-of-type {\n",
       "        vertical-align: middle;\n",
       "    }\n",
       "\n",
       "    .dataframe tbody tr th {\n",
       "        vertical-align: top;\n",
       "    }\n",
       "\n",
       "    .dataframe thead th {\n",
       "        text-align: right;\n",
       "    }\n",
       "</style>\n",
       "<table border=\"1\" class=\"dataframe\">\n",
       "  <thead>\n",
       "    <tr style=\"text-align: right;\">\n",
       "      <th></th>\n",
       "      <th>url</th>\n",
       "      <th>text</th>\n",
       "      <th>label</th>\n",
       "    </tr>\n",
       "  </thead>\n",
       "  <tbody>\n",
       "    <tr>\n",
       "      <th>0</th>\n",
       "      <td>http://intego3.info/EXEL/index.php</td>\n",
       "      <td>&lt;!DOCTYPE html PUBLIC \"-//W3C//DTD HTML 4.01 T...</td>\n",
       "      <td>1</td>\n",
       "    </tr>\n",
       "    <tr>\n",
       "      <th>1</th>\n",
       "      <td>https://www.mathopenref.com/segment.html</td>\n",
       "      <td>&lt;!DOCTYPE html&gt;\\n&lt;html&gt;\\n &lt;head&gt;\\n  &lt;title&gt;\\n ...</td>\n",
       "      <td>0</td>\n",
       "    </tr>\n",
       "    <tr>\n",
       "      <th>2</th>\n",
       "      <td>https://www.computerhope.com/issues/ch000254.htm</td>\n",
       "      <td>&lt;!DOCTYPE html&gt;\\n&lt;!--[if lt IE 7]&gt;&lt;html class=...</td>\n",
       "      <td>0</td>\n",
       "    </tr>\n",
       "    <tr>\n",
       "      <th>3</th>\n",
       "      <td>https://jobs.emss.org.uk/lcc.aspx</td>\n",
       "      <td>&lt;!DOCTYPE html PUBLIC \"-//W3C//DTD XHTML 1.0 T...</td>\n",
       "      <td>0</td>\n",
       "    </tr>\n",
       "    <tr>\n",
       "      <th>4</th>\n",
       "      <td>http://www.pracspedia.com/INS/one-time-passwor...</td>\n",
       "      <td>&lt;html&gt;\\n &lt;head&gt;\\n  &lt;title&gt;\\n   Not Acceptable!...</td>\n",
       "      <td>0</td>\n",
       "    </tr>\n",
       "    <tr>\n",
       "      <th>...</th>\n",
       "      <td>...</td>\n",
       "      <td>...</td>\n",
       "      <td>...</td>\n",
       "    </tr>\n",
       "    <tr>\n",
       "      <th>13865</th>\n",
       "      <td>https://543111.selcdn.ru/office/index8.html?em...</td>\n",
       "      <td>&lt;html class=\"\" dir=\"ltr\" lang=\"en\"&gt;\\n &lt;head&gt;\\n...</td>\n",
       "      <td>1</td>\n",
       "    </tr>\n",
       "    <tr>\n",
       "      <th>13866</th>\n",
       "      <td>https://www.stealthpay.com/</td>\n",
       "      <td>&lt;!DOCTYPE html&gt;\\n&lt;html lang=\"en-US\"&gt;\\n &lt;head&gt;\\...</td>\n",
       "      <td>0</td>\n",
       "    </tr>\n",
       "    <tr>\n",
       "      <th>13867</th>\n",
       "      <td>http://steamcoummunity.gq/en/chat/TaraKlass</td>\n",
       "      <td>&lt;html&gt;\\n &lt;head&gt;\\n  &lt;title&gt;\\n   steamcoummunity...</td>\n",
       "      <td>1</td>\n",
       "    </tr>\n",
       "    <tr>\n",
       "      <th>13868</th>\n",
       "      <td>https://hairfairly.com/docu/file/indexa.php</td>\n",
       "      <td>&lt;!DOCTYPE html&gt;\\n&lt;html dir=\"ltr\" lang=\"EN-US\"&gt;...</td>\n",
       "      <td>1</td>\n",
       "    </tr>\n",
       "    <tr>\n",
       "      <th>13869</th>\n",
       "      <td>https://360dogprof.com/cakdd/c0mc45t-u53r-v3ri...</td>\n",
       "      <td>&lt;!DOCTYPE html PUBLIC \"-//W3C//DTD HTML 4.01//...</td>\n",
       "      <td>1</td>\n",
       "    </tr>\n",
       "  </tbody>\n",
       "</table>\n",
       "<p>13870 rows × 3 columns</p>\n",
       "</div>"
      ],
      "text/plain": [
       "                                                     url  \\\n",
       "0                     http://intego3.info/EXEL/index.php   \n",
       "1               https://www.mathopenref.com/segment.html   \n",
       "2       https://www.computerhope.com/issues/ch000254.htm   \n",
       "3                      https://jobs.emss.org.uk/lcc.aspx   \n",
       "4      http://www.pracspedia.com/INS/one-time-passwor...   \n",
       "...                                                  ...   \n",
       "13865  https://543111.selcdn.ru/office/index8.html?em...   \n",
       "13866                        https://www.stealthpay.com/   \n",
       "13867        http://steamcoummunity.gq/en/chat/TaraKlass   \n",
       "13868        https://hairfairly.com/docu/file/indexa.php   \n",
       "13869  https://360dogprof.com/cakdd/c0mc45t-u53r-v3ri...   \n",
       "\n",
       "                                                    text  label  \n",
       "0      <!DOCTYPE html PUBLIC \"-//W3C//DTD HTML 4.01 T...      1  \n",
       "1      <!DOCTYPE html>\\n<html>\\n <head>\\n  <title>\\n ...      0  \n",
       "2      <!DOCTYPE html>\\n<!--[if lt IE 7]><html class=...      0  \n",
       "3      <!DOCTYPE html PUBLIC \"-//W3C//DTD XHTML 1.0 T...      0  \n",
       "4      <html>\\n <head>\\n  <title>\\n   Not Acceptable!...      0  \n",
       "...                                                  ...    ...  \n",
       "13865  <html class=\"\" dir=\"ltr\" lang=\"en\">\\n <head>\\n...      1  \n",
       "13866  <!DOCTYPE html>\\n<html lang=\"en-US\">\\n <head>\\...      0  \n",
       "13867  <html>\\n <head>\\n  <title>\\n   steamcoummunity...      1  \n",
       "13868  <!DOCTYPE html>\\n<html dir=\"ltr\" lang=\"EN-US\">...      1  \n",
       "13869  <!DOCTYPE html PUBLIC \"-//W3C//DTD HTML 4.01//...      1  \n",
       "\n",
       "[13870 rows x 3 columns]"
      ]
     },
     "execution_count": 27,
     "metadata": {},
     "output_type": "execute_result"
    }
   ],
   "source": [
    "# retrieve html codes from disk\n",
    "webs['text'] = webs['text'].parallel_map(lambda file: get_html(file))\n",
    "# drop those samples where html text is None, because they were too heavy\n",
    "webs = webs[webs.text.notnull()]\n",
    "# reset indexes after drop\n",
    "webs.reset_index(drop=True, inplace=True)\n",
    "# print resulting webs dataset shape\n",
    "print(f\"Webs dataset shape: {webs.shape}\")\n",
    "webs"
   ]
  },
  {
   "cell_type": "markdown",
   "metadata": {},
   "source": [
    "#### Missing and Duplicated Values"
   ]
  },
  {
   "cell_type": "code",
   "execution_count": 28,
   "metadata": {},
   "outputs": [
    {
     "name": "stdout",
     "output_type": "stream",
     "text": [
      "There are missing values?: False\n",
      "There are duplicated webs: True\n",
      "There are empty strings in text column?: False\n"
     ]
    }
   ],
   "source": [
    "print(f\"There are missing values?: {webs.isna().any().any()}\")\n",
    "print(f\"There are duplicated webs: {webs['text'].duplicated().any()}\")\n",
    "print(f\"There are empty strings in text column?: {webs.where(webs['text'] == '').any().any()}\")"
   ]
  },
  {
   "cell_type": "code",
   "execution_count": 29,
   "metadata": {},
   "outputs": [
    {
     "name": "stdout",
     "output_type": "stream",
     "text": [
      "Webs dataset shape: (10803, 3)\n"
     ]
    }
   ],
   "source": [
    "# Solving duplicates\n",
    "webs = webs.drop_duplicates(subset=['text'])\n",
    "webs.reset_index(drop=True, inplace=True)\n",
    "print(f\"Webs dataset shape: {webs.shape}\")"
   ]
  },
  {
   "cell_type": "markdown",
   "metadata": {},
   "source": [
    "#### Balance Dataset"
   ]
  },
  {
   "cell_type": "code",
   "execution_count": 30,
   "metadata": {},
   "outputs": [
    {
     "data": {
      "image/png": "[encoded data removed]",
      "text/plain": [
       "<Figure size 640x480 with 1 Axes>"
      ]
     },
     "metadata": {},
     "output_type": "display_data"
    },
    {
     "name": "stdout",
     "output_type": "stream",
     "text": [
      "label\n",
      "0    6886\n",
      "1    3917\n",
      "Name: count, dtype: int64\n"
     ]
    }
   ],
   "source": [
    "web_label_counts = webs['label'].value_counts()\n",
    "plt.bar(['benign', 'phishing'], web_label_counts, color=['turquoise', 'teal'])\n",
    "plt.xlabel('Label')\n",
    "plt.ylabel('Frequency')\n",
    "plt.show()\n",
    "print(web_label_counts)"
   ]
  },
  {
   "cell_type": "markdown",
   "metadata": {},
   "source": [
    "#### URLs Extraction"
   ]
  },
  {
   "cell_type": "code",
   "execution_count": 31,
   "metadata": {},
   "outputs": [
    {
     "name": "stdout",
     "output_type": "stream",
     "text": [
      "New URLs added (+10803):\n",
      "\n"
     ]
    },
    {
     "name": "stderr",
     "output_type": "stream",
     "text": [
      "/var/folders/bf/74p6fnsx6v582xb04v67qg4r0000gn/T/ipykernel_17033/739879485.py:11: SettingWithCopyWarning: \n",
      "A value is trying to be set on a copy of a slice from a DataFrame\n",
      "\n",
      "See the caveats in the documentation: https://pandas.pydata.org/pandas-docs/stable/user_guide/indexing.html#returning-a-view-versus-a-copy\n",
      "  df.drop(['url'], axis=1, inplace=True)\n"
     ]
    },
    {
     "data": {
      "text/html": [
       "<div>\n",
       "<style scoped>\n",
       "    .dataframe tbody tr th:only-of-type {\n",
       "        vertical-align: middle;\n",
       "    }\n",
       "\n",
       "    .dataframe tbody tr th {\n",
       "        vertical-align: top;\n",
       "    }\n",
       "\n",
       "    .dataframe thead th {\n",
       "        text-align: right;\n",
       "    }\n",
       "</style>\n",
       "<table border=\"1\" class=\"dataframe\">\n",
       "  <thead>\n",
       "    <tr style=\"text-align: right;\">\n",
       "      <th></th>\n",
       "      <th>text</th>\n",
       "      <th>label</th>\n",
       "    </tr>\n",
       "  </thead>\n",
       "  <tbody>\n",
       "    <tr>\n",
       "      <th>0</th>\n",
       "      <td>http://216.127.171.242/</td>\n",
       "      <td>1</td>\n",
       "    </tr>\n",
       "    <tr>\n",
       "      <th>1</th>\n",
       "      <td>upcoming.yahoo.com/event/8545497/GA/Statesboro...</td>\n",
       "      <td>0</td>\n",
       "    </tr>\n",
       "    <tr>\n",
       "      <th>2</th>\n",
       "      <td>nhl.com/ice/page.htm?id=25429</td>\n",
       "      <td>0</td>\n",
       "    </tr>\n",
       "    <tr>\n",
       "      <th>3</th>\n",
       "      <td>lasell.edu/</td>\n",
       "      <td>0</td>\n",
       "    </tr>\n",
       "    <tr>\n",
       "      <th>4</th>\n",
       "      <td>http://www.acccaseoen.acacoccnsaa.qxykiz.top/</td>\n",
       "      <td>1</td>\n",
       "    </tr>\n",
       "    <tr>\n",
       "      <th>...</th>\n",
       "      <td>...</td>\n",
       "      <td>...</td>\n",
       "    </tr>\n",
       "    <tr>\n",
       "      <th>823493</th>\n",
       "      <td>https://vk-continuous.ru</td>\n",
       "      <td>1</td>\n",
       "    </tr>\n",
       "    <tr>\n",
       "      <th>823494</th>\n",
       "      <td>https://543111.selcdn.ru/office/index8.html?em...</td>\n",
       "      <td>1</td>\n",
       "    </tr>\n",
       "    <tr>\n",
       "      <th>823495</th>\n",
       "      <td>https://www.stealthpay.com/</td>\n",
       "      <td>0</td>\n",
       "    </tr>\n",
       "    <tr>\n",
       "      <th>823496</th>\n",
       "      <td>http://steamcoummunity.gq/en/chat/TaraKlass</td>\n",
       "      <td>1</td>\n",
       "    </tr>\n",
       "    <tr>\n",
       "      <th>823497</th>\n",
       "      <td>https://360dogprof.com/cakdd/c0mc45t-u53r-v3ri...</td>\n",
       "      <td>1</td>\n",
       "    </tr>\n",
       "  </tbody>\n",
       "</table>\n",
       "<p>823498 rows × 2 columns</p>\n",
       "</div>"
      ],
      "text/plain": [
       "                                                     text  label\n",
       "0                                 http://216.127.171.242/      1\n",
       "1       upcoming.yahoo.com/event/8545497/GA/Statesboro...      0\n",
       "2                           nhl.com/ice/page.htm?id=25429      0\n",
       "3                                             lasell.edu/      0\n",
       "4           http://www.acccaseoen.acacoccnsaa.qxykiz.top/      1\n",
       "...                                                   ...    ...\n",
       "823493                           https://vk-continuous.ru      1\n",
       "823494  https://543111.selcdn.ru/office/index8.html?em...      1\n",
       "823495                        https://www.stealthpay.com/      0\n",
       "823496        http://steamcoummunity.gq/en/chat/TaraKlass      1\n",
       "823497  https://360dogprof.com/cakdd/c0mc45t-u53r-v3ri...      1\n",
       "\n",
       "[823498 rows x 2 columns]"
      ]
     },
     "execution_count": 31,
     "metadata": {},
     "output_type": "execute_result"
    }
   ],
   "source": [
    "# add urls to URLs dataframe\n",
    "urls, urls_added_num = add_urls(urls, webs)\n",
    "\n",
    "# print new urls added\n",
    "print(f\"New URLs added (+{urls_added_num}):\\n\")\n",
    "urls"
   ]
  },
  {
   "cell_type": "code",
   "execution_count": 32,
   "metadata": {},
   "outputs": [],
   "source": [
    "webs.to_csv('../DATASETS/INIT/WEBS.csv', index=False)"
   ]
  },
  {
   "cell_type": "markdown",
   "metadata": {},
   "source": [
    "#### Split in training and test sets ✂️"
   ]
  },
  {
   "cell_type": "code",
   "execution_count": 33,
   "metadata": {},
   "outputs": [],
   "source": [
    "train_webs, test_webs = split_dataset(webs, 0.2, 'label')"
   ]
  },
  {
   "cell_type": "markdown",
   "metadata": {},
   "source": [
    "#### Preprocess HTML texts ✏️"
   ]
  },
  {
   "cell_type": "markdown",
   "metadata": {},
   "source": [
    "For preprocessing, we have to use, one more time, Cython library to speedup the iterations."
   ]
  },
  {
   "cell_type": "code",
   "execution_count": 34,
   "metadata": {},
   "outputs": [],
   "source": [
    "%%cython\n",
    "import minify_html\n",
    "\n",
    "def minify(html):\n",
    "    return minify_html.minify(html)"
   ]
  },
  {
   "cell_type": "code",
   "execution_count": 35,
   "metadata": {},
   "outputs": [
    {
     "data": {
      "text/html": [
       "<div>\n",
       "<style scoped>\n",
       "    .dataframe tbody tr th:only-of-type {\n",
       "        vertical-align: middle;\n",
       "    }\n",
       "\n",
       "    .dataframe tbody tr th {\n",
       "        vertical-align: top;\n",
       "    }\n",
       "\n",
       "    .dataframe thead th {\n",
       "        text-align: right;\n",
       "    }\n",
       "</style>\n",
       "<table border=\"1\" class=\"dataframe\">\n",
       "  <thead>\n",
       "    <tr style=\"text-align: right;\">\n",
       "      <th></th>\n",
       "      <th>text</th>\n",
       "      <th>label</th>\n",
       "    </tr>\n",
       "  </thead>\n",
       "  <tbody>\n",
       "    <tr>\n",
       "      <th>7879</th>\n",
       "      <td>&lt;title&gt;\\n   ram.kossboss.com\\n  &lt;/title&gt;&lt;style...</td>\n",
       "      <td>0</td>\n",
       "    </tr>\n",
       "    <tr>\n",
       "      <th>3723</th>\n",
       "      <td>&lt;!doctypehtml PUBLIC \"-//W3C//DTD XHTML 1.0 Tr...</td>\n",
       "      <td>1</td>\n",
       "    </tr>\n",
       "    <tr>\n",
       "      <th>2280</th>\n",
       "      <td>&lt;html dir=ltr lang=en&gt;&lt;title&gt;\\n   Sign in to y...</td>\n",
       "      <td>1</td>\n",
       "    </tr>\n",
       "    <tr>\n",
       "      <th>7219</th>\n",
       "      <td>&lt;!doctypehtml&gt;&lt;html class=m2 lang=si&gt;&lt;link rel...</td>\n",
       "      <td>1</td>\n",
       "    </tr>\n",
       "    <tr>\n",
       "      <th>7704</th>\n",
       "      <td>&lt;!doctypehtml PUBLIC \"-//W3C//DTD HTML 4.01 Tr...</td>\n",
       "      <td>1</td>\n",
       "    </tr>\n",
       "    <tr>\n",
       "      <th>...</th>\n",
       "      <td>...</td>\n",
       "      <td>...</td>\n",
       "    </tr>\n",
       "    <tr>\n",
       "      <th>2939</th>\n",
       "      <td>&lt;!doctypehtml&gt;&lt;html prefix=\"og: https://ogp.me...</td>\n",
       "      <td>0</td>\n",
       "    </tr>\n",
       "    <tr>\n",
       "      <th>6555</th>\n",
       "      <td>&lt;!doctypehtml&gt;&lt;html lang=en xml:lang=en xmlns=...</td>\n",
       "      <td>0</td>\n",
       "    </tr>\n",
       "    <tr>\n",
       "      <th>1279</th>\n",
       "      <td>&lt;html style=\"user-select: none;\"class=no-js la...</td>\n",
       "      <td>1</td>\n",
       "    </tr>\n",
       "    <tr>\n",
       "      <th>10653</th>\n",
       "      <td>&lt;!doctypehtml PUBLIC \"-//W3C//DTD XHTML 1.0 Tr...</td>\n",
       "      <td>0</td>\n",
       "    </tr>\n",
       "    <tr>\n",
       "      <th>9057</th>\n",
       "      <td>&lt;meta content=\"text/html; charset=utf-8\"http-e...</td>\n",
       "      <td>1</td>\n",
       "    </tr>\n",
       "  </tbody>\n",
       "</table>\n",
       "<p>8642 rows × 2 columns</p>\n",
       "</div>"
      ],
      "text/plain": [
       "                                                    text  label\n",
       "7879   <title>\\n   ram.kossboss.com\\n  </title><style...      0\n",
       "3723   <!doctypehtml PUBLIC \"-//W3C//DTD XHTML 1.0 Tr...      1\n",
       "2280   <html dir=ltr lang=en><title>\\n   Sign in to y...      1\n",
       "7219   <!doctypehtml><html class=m2 lang=si><link rel...      1\n",
       "7704   <!doctypehtml PUBLIC \"-//W3C//DTD HTML 4.01 Tr...      1\n",
       "...                                                  ...    ...\n",
       "2939   <!doctypehtml><html prefix=\"og: https://ogp.me...      0\n",
       "6555   <!doctypehtml><html lang=en xml:lang=en xmlns=...      0\n",
       "1279   <html style=\"user-select: none;\"class=no-js la...      1\n",
       "10653  <!doctypehtml PUBLIC \"-//W3C//DTD XHTML 1.0 Tr...      0\n",
       "9057   <meta content=\"text/html; charset=utf-8\"http-e...      1\n",
       "\n",
       "[8642 rows x 2 columns]"
      ]
     },
     "execution_count": 35,
     "metadata": {},
     "output_type": "execute_result"
    }
   ],
   "source": [
    "# minifying html texts to improve training speed\n",
    "train_webs['text'] = train_webs['text'].parallel_map(lambda html: minify(html))\n",
    "train_webs"
   ]
  },
  {
   "cell_type": "markdown",
   "metadata": {},
   "source": [
    "Now that we've finished adding the new URLs, we can split the URLs dataset in training and test sets"
   ]
  },
  {
   "cell_type": "code",
   "execution_count": 36,
   "metadata": {},
   "outputs": [],
   "source": [
    "train_urls, test_urls = split_dataset(urls, 0.2, 'label')"
   ]
  },
  {
   "cell_type": "markdown",
   "metadata": {},
   "source": [
    "* * *"
   ]
  },
  {
   "cell_type": "markdown",
   "metadata": {},
   "source": [
    "## **COMBINED DATASET**"
   ]
  },
  {
   "cell_type": "markdown",
   "metadata": {},
   "source": [
    "Finally, we can combine all datasets we've preprocessed in a single dataset that stores: URLs, Emails, SMS and HTML codes. Great!"
   ]
  },
  {
   "cell_type": "code",
   "execution_count": 37,
   "metadata": {},
   "outputs": [
    {
     "data": {
      "text/html": [
       "<div>\n",
       "<style scoped>\n",
       "    .dataframe tbody tr th:only-of-type {\n",
       "        vertical-align: middle;\n",
       "    }\n",
       "\n",
       "    .dataframe tbody tr th {\n",
       "        vertical-align: top;\n",
       "    }\n",
       "\n",
       "    .dataframe thead th {\n",
       "        text-align: right;\n",
       "    }\n",
       "</style>\n",
       "<table border=\"1\" class=\"dataframe\">\n",
       "  <thead>\n",
       "    <tr style=\"text-align: right;\">\n",
       "      <th></th>\n",
       "      <th>text</th>\n",
       "      <th>label</th>\n",
       "    </tr>\n",
       "  </thead>\n",
       "  <tbody>\n",
       "    <tr>\n",
       "      <th>0</th>\n",
       "      <td>http://popupbarbados.com/wp-includes/certifica...</td>\n",
       "      <td>1</td>\n",
       "    </tr>\n",
       "    <tr>\n",
       "      <th>1</th>\n",
       "      <td>faux-lights.000webhostapp.com</td>\n",
       "      <td>1</td>\n",
       "    </tr>\n",
       "    <tr>\n",
       "      <th>2</th>\n",
       "      <td>yggui.de</td>\n",
       "      <td>1</td>\n",
       "    </tr>\n",
       "    <tr>\n",
       "      <th>3</th>\n",
       "      <td>http://awesometime4you.com/wp-admin/js/cmfr/54...</td>\n",
       "      <td>1</td>\n",
       "    </tr>\n",
       "    <tr>\n",
       "      <th>4</th>\n",
       "      <td>en.wikipedia.org/wiki/Michael_Richards</td>\n",
       "      <td>0</td>\n",
       "    </tr>\n",
       "    <tr>\n",
       "      <th>...</th>\n",
       "      <td>...</td>\n",
       "      <td>...</td>\n",
       "    </tr>\n",
       "    <tr>\n",
       "      <th>683543</th>\n",
       "      <td>cbssports.com/nfl/teams/roster/OAK/oakland-rai...</td>\n",
       "      <td>0</td>\n",
       "    </tr>\n",
       "    <tr>\n",
       "      <th>683544</th>\n",
       "      <td>www.convospark.com/wp-content//plugins/aio-sho...</td>\n",
       "      <td>1</td>\n",
       "    </tr>\n",
       "    <tr>\n",
       "      <th>683545</th>\n",
       "      <td>https://www3.idpas-nenklni.xyz/</td>\n",
       "      <td>1</td>\n",
       "    </tr>\n",
       "    <tr>\n",
       "      <th>683546</th>\n",
       "      <td>highbeam.com/doc/1G1-125227587.html</td>\n",
       "      <td>0</td>\n",
       "    </tr>\n",
       "    <tr>\n",
       "      <th>683547</th>\n",
       "      <td>www.stellarinfo.com/edb-exchange-server-recove...</td>\n",
       "      <td>0</td>\n",
       "    </tr>\n",
       "  </tbody>\n",
       "</table>\n",
       "<p>683548 rows × 2 columns</p>\n",
       "</div>"
      ],
      "text/plain": [
       "                                                     text  label\n",
       "0       http://popupbarbados.com/wp-includes/certifica...      1\n",
       "1                           faux-lights.000webhostapp.com      1\n",
       "2                                                yggui.de      1\n",
       "3       http://awesometime4you.com/wp-admin/js/cmfr/54...      1\n",
       "4                  en.wikipedia.org/wiki/Michael_Richards      0\n",
       "...                                                   ...    ...\n",
       "683543  cbssports.com/nfl/teams/roster/OAK/oakland-rai...      0\n",
       "683544  www.convospark.com/wp-content//plugins/aio-sho...      1\n",
       "683545                    https://www3.idpas-nenklni.xyz/      1\n",
       "683546                highbeam.com/doc/1G1-125227587.html      0\n",
       "683547  www.stellarinfo.com/edb-exchange-server-recove...      0\n",
       "\n",
       "[683548 rows x 2 columns]"
      ]
     },
     "execution_count": 37,
     "metadata": {},
     "output_type": "execute_result"
    }
   ],
   "source": [
    "train_all = pd.concat([train_urls, train_emails, train_sms, train_webs], axis=0, ignore_index=True)\n",
    "train_all = train_all.sample(frac=1).reset_index(drop=True)\n",
    "train_all"
   ]
  },
  {
   "cell_type": "code",
   "execution_count": 38,
   "metadata": {},
   "outputs": [
    {
     "data": {
      "text/html": [
       "<div>\n",
       "<style scoped>\n",
       "    .dataframe tbody tr th:only-of-type {\n",
       "        vertical-align: middle;\n",
       "    }\n",
       "\n",
       "    .dataframe tbody tr th {\n",
       "        vertical-align: top;\n",
       "    }\n",
       "\n",
       "    .dataframe thead th {\n",
       "        text-align: right;\n",
       "    }\n",
       "</style>\n",
       "<table border=\"1\" class=\"dataframe\">\n",
       "  <thead>\n",
       "    <tr style=\"text-align: right;\">\n",
       "      <th></th>\n",
       "      <th>text</th>\n",
       "      <th>label</th>\n",
       "    </tr>\n",
       "  </thead>\n",
       "  <tbody>\n",
       "    <tr>\n",
       "      <th>0</th>\n",
       "      <td>pipl.com/directory/name/Finestone/Daniel</td>\n",
       "      <td>0</td>\n",
       "    </tr>\n",
       "    <tr>\n",
       "      <th>1</th>\n",
       "      <td>tvnews.vanderbilt.edu/program.pl?ID=486553</td>\n",
       "      <td>0</td>\n",
       "    </tr>\n",
       "    <tr>\n",
       "      <th>2</th>\n",
       "      <td>[Tim]\\n&gt; One effect of getting rid of MINCOUNT...</td>\n",
       "      <td>0</td>\n",
       "    </tr>\n",
       "    <tr>\n",
       "      <th>3</th>\n",
       "      <td>performanceoutdooradvertising.com/folder/verif...</td>\n",
       "      <td>1</td>\n",
       "    </tr>\n",
       "    <tr>\n",
       "      <th>4</th>\n",
       "      <td>mikianvelope.ro/words/gdrive/login.php</td>\n",
       "      <td>1</td>\n",
       "    </tr>\n",
       "    <tr>\n",
       "      <th>...</th>\n",
       "      <td>...</td>\n",
       "      <td>...</td>\n",
       "    </tr>\n",
       "    <tr>\n",
       "      <th>170885</th>\n",
       "      <td>www.secured.paypal.com.cgi.bin.dspatch.autolog...</td>\n",
       "      <td>1</td>\n",
       "    </tr>\n",
       "    <tr>\n",
       "      <th>170886</th>\n",
       "      <td>thegagenweb.com/gamontgo/</td>\n",
       "      <td>0</td>\n",
       "    </tr>\n",
       "    <tr>\n",
       "      <th>170887</th>\n",
       "      <td>learnboost.github.com/cluster/</td>\n",
       "      <td>0</td>\n",
       "    </tr>\n",
       "    <tr>\n",
       "      <th>170888</th>\n",
       "      <td>secned.ugi.cc/database/login.htm</td>\n",
       "      <td>1</td>\n",
       "    </tr>\n",
       "    <tr>\n",
       "      <th>170889</th>\n",
       "      <td>&lt;!DOCTYPE html PUBLIC \"-//W3C//DTD XHTML 1.0 T...</td>\n",
       "      <td>0</td>\n",
       "    </tr>\n",
       "  </tbody>\n",
       "</table>\n",
       "<p>170890 rows × 2 columns</p>\n",
       "</div>"
      ],
      "text/plain": [
       "                                                     text  label\n",
       "0                pipl.com/directory/name/Finestone/Daniel      0\n",
       "1              tvnews.vanderbilt.edu/program.pl?ID=486553      0\n",
       "2       [Tim]\\n> One effect of getting rid of MINCOUNT...      0\n",
       "3       performanceoutdooradvertising.com/folder/verif...      1\n",
       "4                  mikianvelope.ro/words/gdrive/login.php      1\n",
       "...                                                   ...    ...\n",
       "170885  www.secured.paypal.com.cgi.bin.dspatch.autolog...      1\n",
       "170886                          thegagenweb.com/gamontgo/      0\n",
       "170887                     learnboost.github.com/cluster/      0\n",
       "170888                   secned.ugi.cc/database/login.htm      1\n",
       "170889  <!DOCTYPE html PUBLIC \"-//W3C//DTD XHTML 1.0 T...      0\n",
       "\n",
       "[170890 rows x 2 columns]"
      ]
     },
     "execution_count": 38,
     "metadata": {},
     "output_type": "execute_result"
    }
   ],
   "source": [
    "test_all = pd.concat([test_urls, test_emails, test_sms, test_webs], axis=0, ignore_index=True)\n",
    "test_all = test_all.sample(frac=1).reset_index(drop=True)\n",
    "test_all"
   ]
  },
  {
   "cell_type": "markdown",
   "metadata": {},
   "source": [
    "The resulting datasets we can export them as JSON files for further use in Hugging Face"
   ]
  },
  {
   "cell_type": "code",
   "execution_count": 39,
   "metadata": {},
   "outputs": [],
   "source": [
    "def df_to_json(df: pd.DataFrame, filename: str):\n",
    "    \n",
    "    df_json = []\n",
    "    for row in df.itertuples():\n",
    "        df_json.append(\n",
    "            {\n",
    "                \"text\": row.text,\n",
    "                \"label\": row.label\n",
    "            }\n",
    "        )\n",
    "    with open(f\"DATASETS/END/{filename}.json\", \"w\", encoding='utf-8') as f:\n",
    "        json.dump(df_json, f, indent=2)"
   ]
  },
  {
   "cell_type": "code",
   "execution_count": 40,
   "metadata": {},
   "outputs": [],
   "source": [
    "df_to_json(train_all, 'train')\n",
    "df_to_json(test_all, 'test')"
   ]
  },
  {
   "cell_type": "markdown",
   "metadata": {},
   "source": [
    "* * *"
   ]
  },
  {
   "cell_type": "markdown",
   "metadata": {},
   "source": [
    "## **EXPERIMENTS**"
   ]
  },
  {
   "cell_type": "markdown",
   "metadata": {},
   "source": [
    "For further experiments, we're going to save preprocessed and test datasets in CSV files"
   ]
  },
  {
   "cell_type": "code",
   "execution_count": 41,
   "metadata": {},
   "outputs": [],
   "source": [
    "train_urls.to_csv('../DATASETS/EXP/TRAIN_URLS.csv', index=False)\n",
    "train_emails.to_csv('../DATASETS/EXP/TRAIN_EMAILS.CSV', index=False)\n",
    "train_sms.to_csv('../DATASETS/EXP/TRAIN_SMS.CSV', index=False)\n",
    "train_webs.to_csv('../DATASETS/EXP/TRAIN_WEBS.csv', index=False)\n",
    "test_emails.to_csv('../DATASETS/EXP/TEST_EMAILS.CSV', index=False)\n",
    "test_sms.to_csv('../DATASETS/EXP/TEST_SMS.CSV', index=False)\n",
    "test_webs.to_csv('../DATASETS/EXP/TEST_WEBS.csv', index=False)\n",
    "test_urls.to_csv('../DATASETS/EXP/TEST_URLS.csv', index=False)"
   ]
  }
 ],
 "metadata": {
  "kernelspec": {
   "display_name": "base",
   "language": "python",
   "name": "python3"
  },
  "language_info": {
   "codemirror_mode": {
    "name": "ipython",
    "version": 3
   },
   "file_extension": ".py",
   "mimetype": "text/x-python",
   "name": "python",
   "nbconvert_exporter": "python",
   "pygments_lexer": "ipython3",
   "version": "3.9.13"
  },
  "orig_nbformat": 4
 },
 "nbformat": 4,
 "nbformat_minor": 2
}
