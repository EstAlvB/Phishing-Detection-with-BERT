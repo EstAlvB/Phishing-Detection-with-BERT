{
 "cells": [
  {
   "cell_type": "code",
   "execution_count": 1,
   "metadata": {},
   "outputs": [],
   "source": [
    "import pandas as pd\n",
    "import numpy as np\n",
    "import matplotlib.pyplot as plt\n",
    "from sklearn.feature_extraction.text import TfidfVectorizer, CountVectorizer\n",
    "from features import HTMLFeatures, URLFeatures, TextFeatures"
   ]
  },
  {
   "cell_type": "markdown",
   "metadata": {},
   "source": [
    "# **PHISHING DATASET ANALYSIS**"
   ]
  },
  {
   "cell_type": "markdown",
   "metadata": {},
   "source": [
    "* * *"
   ]
  },
  {
   "cell_type": "code",
   "execution_count": 2,
   "metadata": {},
   "outputs": [],
   "source": [
    "# importing datasets\n",
    "texts = pd.read_csv('DATASETS/PRE/TEXTS.csv')\n",
    "urls = pd.read_csv('DATASETS/PRE/URLS.csv')\n",
    "webs = pd.read_csv('DATASETS/PRE/WEBS.csv')"
   ]
  },
  {
   "cell_type": "markdown",
   "metadata": {},
   "source": [
    "### Classes Distribution"
   ]
  },
  {
   "cell_type": "code",
   "execution_count": 3,
   "metadata": {},
   "outputs": [
    {
     "data": {
      "text/plain": [
       "<Axes: ylabel='label'>"
      ]
     },
     "execution_count": 3,
     "metadata": {},
     "output_type": "execute_result"
    },
    {
     "data": {
      "image/png": "[encoded data removed]",
      "text/plain": [
       "<Figure size 640x480 with 1 Axes>"
      ]
     },
     "metadata": {},
     "output_type": "display_data"
    }
   ],
   "source": [
    "dist = pd.concat([texts['label'], urls['label'], webs['label']]).value_counts()\n",
    "dist.index = dist.index.map({0: 'Benigno', 1: 'Phishing'})\n",
    "plt.text(230010, 0, '53.5%', color='black', fontweight='bold')\n",
    "plt.text(200000, 1, '46.5%', color='black', fontweight='bold')\n",
    "dist.plot.barh(color=['royalblue', 'gold'])"
   ]
  },
  {
   "cell_type": "markdown",
   "metadata": {},
   "source": [
    "## **URL Analysis**"
   ]
  },
  {
   "cell_type": "markdown",
   "metadata": {},
   "source": [
    "A URL has lexical characteristics, which refer to the textual properties of the URL. According to some investigations, some URL features related to phishing attacks are:\n",
    "\n",
    "- Presence of suffix or prefix \"-\" in the domain\n",
    "- Points number\n",
    "- Presence of the IP direction in the domain\n",
    "- Presence of keywords such as 'login', 'server', and 'admin'\n",
    "- Subdirectories number\n",
    "- Host Length\n",
    "- etc"
   ]
  },
  {
   "cell_type": "code",
   "execution_count": 4,
   "metadata": {},
   "outputs": [],
   "source": [
    "# extract url relevant features\n",
    "urls = pd.DataFrame([URLFeatures(row.text).get_features()|{'label': row.label} for row in urls.itertuples(index=False)])\n",
    "urls = urls.astype(int)"
   ]
  },
  {
   "cell_type": "code",
   "execution_count": 5,
   "metadata": {},
   "outputs": [],
   "source": [
    "# calculate averages of each feature by class\n",
    "urls_features = pd.concat([\n",
    "    urls.loc[urls['label'] == 0].mean(axis=0),\n",
    "    urls.loc[urls['label'] == 1].mean(axis=0)\n",
    "], axis=1).rename(columns={0: 'Benigno', 1:'Phishing'})[:-1]"
   ]
  },
  {
   "cell_type": "code",
   "execution_count": 6,
   "metadata": {},
   "outputs": [
    {
     "data": {
      "text/html": [
       "<div>\n",
       "<style scoped>\n",
       "    .dataframe tbody tr th:only-of-type {\n",
       "        vertical-align: middle;\n",
       "    }\n",
       "\n",
       "    .dataframe tbody tr th {\n",
       "        vertical-align: top;\n",
       "    }\n",
       "\n",
       "    .dataframe thead th {\n",
       "        text-align: right;\n",
       "    }\n",
       "</style>\n",
       "<table border=\"1\" class=\"dataframe\">\n",
       "  <thead>\n",
       "    <tr style=\"text-align: right;\">\n",
       "      <th></th>\n",
       "      <th>Benigno</th>\n",
       "      <th>Phishing</th>\n",
       "      <th>Diff</th>\n",
       "    </tr>\n",
       "  </thead>\n",
       "  <tbody>\n",
       "    <tr>\n",
       "      <th>use_shortening_service</th>\n",
       "      <td>7.072162</td>\n",
       "      <td>5.166026</td>\n",
       "      <td>-1.906136</td>\n",
       "    </tr>\n",
       "    <tr>\n",
       "      <th>prefix_suffix_presence</th>\n",
       "      <td>0.626812</td>\n",
       "      <td>11.062183</td>\n",
       "      <td>10.435370</td>\n",
       "    </tr>\n",
       "    <tr>\n",
       "      <th>has_double_slash</th>\n",
       "      <td>0.018980</td>\n",
       "      <td>0.631297</td>\n",
       "      <td>0.612316</td>\n",
       "    </tr>\n",
       "    <tr>\n",
       "      <th>has_haveat_sign</th>\n",
       "      <td>0.056713</td>\n",
       "      <td>1.186786</td>\n",
       "      <td>1.130074</td>\n",
       "    </tr>\n",
       "    <tr>\n",
       "      <th>has_port</th>\n",
       "      <td>0.017151</td>\n",
       "      <td>0.026390</td>\n",
       "      <td>0.009239</td>\n",
       "    </tr>\n",
       "    <tr>\n",
       "      <th>has_admin_keyword</th>\n",
       "      <td>0.101534</td>\n",
       "      <td>1.906051</td>\n",
       "      <td>1.804517</td>\n",
       "    </tr>\n",
       "    <tr>\n",
       "      <th>has_server_keyword</th>\n",
       "      <td>0.216560</td>\n",
       "      <td>0.485892</td>\n",
       "      <td>0.269331</td>\n",
       "    </tr>\n",
       "    <tr>\n",
       "      <th>has_login_keyword</th>\n",
       "      <td>0.192320</td>\n",
       "      <td>9.076185</td>\n",
       "      <td>8.883865</td>\n",
       "    </tr>\n",
       "    <tr>\n",
       "      <th>has_client_keyword</th>\n",
       "      <td>0.102677</td>\n",
       "      <td>0.527547</td>\n",
       "      <td>0.424869</td>\n",
       "    </tr>\n",
       "    <tr>\n",
       "      <th>host_is_ip</th>\n",
       "      <td>0.000229</td>\n",
       "      <td>0.561181</td>\n",
       "      <td>0.560953</td>\n",
       "    </tr>\n",
       "    <tr>\n",
       "      <th>is_encoded</th>\n",
       "      <td>2.544524</td>\n",
       "      <td>1.558320</td>\n",
       "      <td>-0.986204</td>\n",
       "    </tr>\n",
       "  </tbody>\n",
       "</table>\n",
       "</div>"
      ],
      "text/plain": [
       "                         Benigno   Phishing       Diff\n",
       "use_shortening_service  7.072162   5.166026  -1.906136\n",
       "prefix_suffix_presence  0.626812  11.062183  10.435370\n",
       "has_double_slash        0.018980   0.631297   0.612316\n",
       "has_haveat_sign         0.056713   1.186786   1.130074\n",
       "has_port                0.017151   0.026390   0.009239\n",
       "has_admin_keyword       0.101534   1.906051   1.804517\n",
       "has_server_keyword      0.216560   0.485892   0.269331\n",
       "has_login_keyword       0.192320   9.076185   8.883865\n",
       "has_client_keyword      0.102677   0.527547   0.424869\n",
       "host_is_ip              0.000229   0.561181   0.560953\n",
       "is_encoded              2.544524   1.558320  -0.986204"
      ]
     },
     "execution_count": 6,
     "metadata": {},
     "output_type": "execute_result"
    }
   ],
   "source": [
    "# calculate proportions in bool url features\n",
    "url_proportions = urls_features.copy()[:11] * 100\n",
    "url_proportions['Diff'] = url_proportions['Phishing'] - url_proportions['Benigno']\n",
    "url_proportions"
   ]
  },
  {
   "cell_type": "code",
   "execution_count": 7,
   "metadata": {},
   "outputs": [
    {
     "data": {
      "text/html": [
       "<div>\n",
       "<style scoped>\n",
       "    .dataframe tbody tr th:only-of-type {\n",
       "        vertical-align: middle;\n",
       "    }\n",
       "\n",
       "    .dataframe tbody tr th {\n",
       "        vertical-align: top;\n",
       "    }\n",
       "\n",
       "    .dataframe thead th {\n",
       "        text-align: right;\n",
       "    }\n",
       "</style>\n",
       "<table border=\"1\" class=\"dataframe\">\n",
       "  <thead>\n",
       "    <tr style=\"text-align: right;\">\n",
       "      <th></th>\n",
       "      <th>Benigno</th>\n",
       "      <th>Phishing</th>\n",
       "      <th>Diff</th>\n",
       "      <th>Factor</th>\n",
       "    </tr>\n",
       "  </thead>\n",
       "  <tbody>\n",
       "    <tr>\n",
       "      <th>length</th>\n",
       "      <td>47.004192</td>\n",
       "      <td>47.575145</td>\n",
       "      <td>0.570953</td>\n",
       "      <td>1.012147</td>\n",
       "    </tr>\n",
       "    <tr>\n",
       "      <th>path_length</th>\n",
       "      <td>41.423458</td>\n",
       "      <td>25.190401</td>\n",
       "      <td>-16.233058</td>\n",
       "      <td>0.608119</td>\n",
       "    </tr>\n",
       "    <tr>\n",
       "      <th>host_length</th>\n",
       "      <td>1.815871</td>\n",
       "      <td>9.813579</td>\n",
       "      <td>7.997707</td>\n",
       "      <td>5.404336</td>\n",
       "    </tr>\n",
       "    <tr>\n",
       "      <th>entropy</th>\n",
       "      <td>3.641731</td>\n",
       "      <td>3.502396</td>\n",
       "      <td>-0.139336</td>\n",
       "      <td>0.961739</td>\n",
       "    </tr>\n",
       "    <tr>\n",
       "      <th>digits_num</th>\n",
       "      <td>3.065922</td>\n",
       "      <td>5.017011</td>\n",
       "      <td>1.951090</td>\n",
       "      <td>1.636380</td>\n",
       "    </tr>\n",
       "    <tr>\n",
       "      <th>subdirectories_num</th>\n",
       "      <td>3.320061</td>\n",
       "      <td>2.533673</td>\n",
       "      <td>-0.786387</td>\n",
       "      <td>0.763141</td>\n",
       "    </tr>\n",
       "    <tr>\n",
       "      <th>periods_num</th>\n",
       "      <td>1.825842</td>\n",
       "      <td>2.467589</td>\n",
       "      <td>0.641747</td>\n",
       "      <td>1.351480</td>\n",
       "    </tr>\n",
       "    <tr>\n",
       "      <th>params_num</th>\n",
       "      <td>0.183683</td>\n",
       "      <td>0.259251</td>\n",
       "      <td>0.075568</td>\n",
       "      <td>1.411405</td>\n",
       "    </tr>\n",
       "  </tbody>\n",
       "</table>\n",
       "</div>"
      ],
      "text/plain": [
       "                      Benigno   Phishing       Diff    Factor\n",
       "length              47.004192  47.575145   0.570953  1.012147\n",
       "path_length         41.423458  25.190401 -16.233058  0.608119\n",
       "host_length          1.815871   9.813579   7.997707  5.404336\n",
       "entropy              3.641731   3.502396  -0.139336  0.961739\n",
       "digits_num           3.065922   5.017011   1.951090  1.636380\n",
       "subdirectories_num   3.320061   2.533673  -0.786387  0.763141\n",
       "periods_num          1.825842   2.467589   0.641747  1.351480\n",
       "params_num           0.183683   0.259251   0.075568  1.411405"
      ]
     },
     "execution_count": 7,
     "metadata": {},
     "output_type": "execute_result"
    }
   ],
   "source": [
    "# calculate averages in numeric url features\n",
    "url_averages = urls_features.copy()[11:]\n",
    "url_averages['Diff'] = url_averages['Phishing'] - url_averages['Benigno']\n",
    "url_averages['Factor'] = url_averages['Phishing'] / url_averages['Benigno']\n",
    "url_averages"
   ]
  },
  {
   "cell_type": "markdown",
   "metadata": {},
   "source": [
    "## **HTML ANALYSIS**"
   ]
  },
  {
   "cell_type": "markdown",
   "metadata": {},
   "source": [
    "From websites we can also extract characteristics concerning to phishing. These features capture the structure of the web page and the content included in it, such as:\n",
    "\n",
    "- Number of internal & external links\n",
    "- Number of functions that modify the DOM\n",
    "- Number of scripts\n",
    "- Number of tags\n",
    "- Number of suspicious scripts functions\n",
    "- etc"
   ]
  },
  {
   "cell_type": "code",
   "execution_count": 8,
   "metadata": {},
   "outputs": [],
   "source": [
    "# extract html relevant features\n",
    "webs = pd.DataFrame([HTMLFeatures(row.text).get_features()|{'label': row.label} for row in webs.itertuples(index=False)])\n",
    "webs = webs.astype(int)"
   ]
  },
  {
   "cell_type": "code",
   "execution_count": 9,
   "metadata": {},
   "outputs": [
    {
     "data": {
      "text/html": [
       "<div>\n",
       "<style scoped>\n",
       "    .dataframe tbody tr th:only-of-type {\n",
       "        vertical-align: middle;\n",
       "    }\n",
       "\n",
       "    .dataframe tbody tr th {\n",
       "        vertical-align: top;\n",
       "    }\n",
       "\n",
       "    .dataframe thead th {\n",
       "        text-align: right;\n",
       "    }\n",
       "</style>\n",
       "<table border=\"1\" class=\"dataframe\">\n",
       "  <thead>\n",
       "    <tr style=\"text-align: right;\">\n",
       "      <th></th>\n",
       "      <th>Benigno</th>\n",
       "      <th>Phishing</th>\n",
       "      <th>Diff</th>\n",
       "      <th>Factor</th>\n",
       "    </tr>\n",
       "  </thead>\n",
       "  <tbody>\n",
       "    <tr>\n",
       "      <th>suspicious_func_num</th>\n",
       "      <td>0.312549</td>\n",
       "      <td>0.274035</td>\n",
       "      <td>-0.038514</td>\n",
       "      <td>0.876775</td>\n",
       "    </tr>\n",
       "    <tr>\n",
       "      <th>page_entropy</th>\n",
       "      <td>4.478566</td>\n",
       "      <td>4.316642</td>\n",
       "      <td>-0.161923</td>\n",
       "      <td>0.963845</td>\n",
       "    </tr>\n",
       "    <tr>\n",
       "      <th>script_tags_num</th>\n",
       "      <td>15.126072</td>\n",
       "      <td>6.244720</td>\n",
       "      <td>-8.881352</td>\n",
       "      <td>0.412845</td>\n",
       "    </tr>\n",
       "    <tr>\n",
       "      <th>html_length</th>\n",
       "      <td>14183.575799</td>\n",
       "      <td>7956.913693</td>\n",
       "      <td>-6226.662106</td>\n",
       "      <td>0.560995</td>\n",
       "    </tr>\n",
       "    <tr>\n",
       "      <th>tokens_num</th>\n",
       "      <td>1157.061185</td>\n",
       "      <td>550.026038</td>\n",
       "      <td>-607.035147</td>\n",
       "      <td>0.475365</td>\n",
       "    </tr>\n",
       "    <tr>\n",
       "      <th>sentences_num</th>\n",
       "      <td>236.187744</td>\n",
       "      <td>159.838128</td>\n",
       "      <td>-76.349615</td>\n",
       "      <td>0.676742</td>\n",
       "    </tr>\n",
       "    <tr>\n",
       "      <th>punctuation_num</th>\n",
       "      <td>2224.979345</td>\n",
       "      <td>1394.538602</td>\n",
       "      <td>-830.440744</td>\n",
       "      <td>0.626765</td>\n",
       "    </tr>\n",
       "    <tr>\n",
       "      <th>capitalization_num</th>\n",
       "      <td>1352.086321</td>\n",
       "      <td>976.650947</td>\n",
       "      <td>-375.435374</td>\n",
       "      <td>0.722329</td>\n",
       "    </tr>\n",
       "    <tr>\n",
       "      <th>avg_sentence_tokens_num</th>\n",
       "      <td>8.169817</td>\n",
       "      <td>9.974873</td>\n",
       "      <td>1.805056</td>\n",
       "      <td>1.220942</td>\n",
       "    </tr>\n",
       "    <tr>\n",
       "      <th>html_tags_num</th>\n",
       "      <td>361.285269</td>\n",
       "      <td>129.689913</td>\n",
       "      <td>-231.595356</td>\n",
       "      <td>0.358968</td>\n",
       "    </tr>\n",
       "    <tr>\n",
       "      <th>hidden_tags_num</th>\n",
       "      <td>0.298032</td>\n",
       "      <td>0.226329</td>\n",
       "      <td>-0.071703</td>\n",
       "      <td>0.759413</td>\n",
       "    </tr>\n",
       "    <tr>\n",
       "      <th>iframe_num</th>\n",
       "      <td>0.410951</td>\n",
       "      <td>0.189366</td>\n",
       "      <td>-0.221585</td>\n",
       "      <td>0.460800</td>\n",
       "    </tr>\n",
       "    <tr>\n",
       "      <th>objects_num</th>\n",
       "      <td>0.016758</td>\n",
       "      <td>0.007465</td>\n",
       "      <td>-0.009292</td>\n",
       "      <td>0.445494</td>\n",
       "    </tr>\n",
       "    <tr>\n",
       "      <th>embeds_num</th>\n",
       "      <td>0.004579</td>\n",
       "      <td>0.004552</td>\n",
       "      <td>-0.000027</td>\n",
       "      <td>0.994096</td>\n",
       "    </tr>\n",
       "    <tr>\n",
       "      <th>internal_links_num</th>\n",
       "      <td>26.731294</td>\n",
       "      <td>1.229425</td>\n",
       "      <td>-25.501869</td>\n",
       "      <td>0.045992</td>\n",
       "    </tr>\n",
       "    <tr>\n",
       "      <th>external_links_num</th>\n",
       "      <td>27.560503</td>\n",
       "      <td>6.596140</td>\n",
       "      <td>-20.964363</td>\n",
       "      <td>0.239333</td>\n",
       "    </tr>\n",
       "    <tr>\n",
       "      <th>whitespaces_num</th>\n",
       "      <td>2460.243277</td>\n",
       "      <td>1703.753642</td>\n",
       "      <td>-756.489636</td>\n",
       "      <td>0.692514</td>\n",
       "    </tr>\n",
       "    <tr>\n",
       "      <th>included_elements_num</th>\n",
       "      <td>8.317128</td>\n",
       "      <td>3.753277</td>\n",
       "      <td>-4.563850</td>\n",
       "      <td>0.451271</td>\n",
       "    </tr>\n",
       "    <tr>\n",
       "      <th>double_doc_num</th>\n",
       "      <td>0.000000</td>\n",
       "      <td>0.000000</td>\n",
       "      <td>0.000000</td>\n",
       "      <td>NaN</td>\n",
       "    </tr>\n",
       "    <tr>\n",
       "      <th>keywords_to_words_ratio</th>\n",
       "      <td>0.000000</td>\n",
       "      <td>0.000000</td>\n",
       "      <td>0.000000</td>\n",
       "      <td>NaN</td>\n",
       "    </tr>\n",
       "    <tr>\n",
       "      <th>dom_mod_func_num</th>\n",
       "      <td>7.210542</td>\n",
       "      <td>4.048070</td>\n",
       "      <td>-3.162472</td>\n",
       "      <td>0.561410</td>\n",
       "    </tr>\n",
       "    <tr>\n",
       "      <th>avg_script_len</th>\n",
       "      <td>549.005553</td>\n",
       "      <td>878.392025</td>\n",
       "      <td>329.386471</td>\n",
       "      <td>1.599969</td>\n",
       "    </tr>\n",
       "    <tr>\n",
       "      <th>avg_script_entropy</th>\n",
       "      <td>1.740939</td>\n",
       "      <td>1.603423</td>\n",
       "      <td>-0.137516</td>\n",
       "      <td>0.921010</td>\n",
       "    </tr>\n",
       "  </tbody>\n",
       "</table>\n",
       "</div>"
      ],
      "text/plain": [
       "                              Benigno     Phishing         Diff    Factor\n",
       "suspicious_func_num          0.312549     0.274035    -0.038514  0.876775\n",
       "page_entropy                 4.478566     4.316642    -0.161923  0.963845\n",
       "script_tags_num             15.126072     6.244720    -8.881352  0.412845\n",
       "html_length              14183.575799  7956.913693 -6226.662106  0.560995\n",
       "tokens_num                1157.061185   550.026038  -607.035147  0.475365\n",
       "sentences_num              236.187744   159.838128   -76.349615  0.676742\n",
       "punctuation_num           2224.979345  1394.538602  -830.440744  0.626765\n",
       "capitalization_num        1352.086321   976.650947  -375.435374  0.722329\n",
       "avg_sentence_tokens_num      8.169817     9.974873     1.805056  1.220942\n",
       "html_tags_num              361.285269   129.689913  -231.595356  0.358968\n",
       "hidden_tags_num              0.298032     0.226329    -0.071703  0.759413\n",
       "iframe_num                   0.410951     0.189366    -0.221585  0.460800\n",
       "objects_num                  0.016758     0.007465    -0.009292  0.445494\n",
       "embeds_num                   0.004579     0.004552    -0.000027  0.994096\n",
       "internal_links_num          26.731294     1.229425   -25.501869  0.045992\n",
       "external_links_num          27.560503     6.596140   -20.964363  0.239333\n",
       "whitespaces_num           2460.243277  1703.753642  -756.489636  0.692514\n",
       "included_elements_num        8.317128     3.753277    -4.563850  0.451271\n",
       "double_doc_num               0.000000     0.000000     0.000000       NaN\n",
       "keywords_to_words_ratio      0.000000     0.000000     0.000000       NaN\n",
       "dom_mod_func_num             7.210542     4.048070    -3.162472  0.561410\n",
       "avg_script_len             549.005553   878.392025   329.386471  1.599969\n",
       "avg_script_entropy           1.740939     1.603423    -0.137516  0.921010"
      ]
     },
     "execution_count": 9,
     "metadata": {},
     "output_type": "execute_result"
    }
   ],
   "source": [
    "# calculate averages of each feature by class\n",
    "webs_features = pd.concat([\n",
    "    webs.loc[webs['label'] == 0].mean(axis=0),\n",
    "    webs.loc[webs['label'] == 1].mean(axis=0)\n",
    "], axis=1).rename(columns={0: 'Benigno', 1:'Phishing'})[:-1]\n",
    "\n",
    "# Calculate differences between phishing and benign features \n",
    "webs_features['Diff'] = webs_features['Phishing'] - webs_features['Benigno']\n",
    "webs_features['Factor'] = webs_features['Phishing'] / webs_features['Benigno']\n",
    "\n",
    "webs_features"
   ]
  },
  {
   "cell_type": "markdown",
   "metadata": {},
   "source": [
    "## **TEXT ANALYSIS**"
   ]
  },
  {
   "cell_type": "markdown",
   "metadata": {},
   "source": [
    "Before preprocessing the text, we will perform a basic analysis of the texts, considering such things as length, entropy, number of words, etc."
   ]
  },
  {
   "cell_type": "code",
   "execution_count": 4,
   "metadata": {},
   "outputs": [],
   "source": [
    "texts = pd.DataFrame(\n",
    "    [{'text': row.text}|TextFeatures(row.text).get_features()|{'label': row.label} \n",
    "     for row in texts.itertuples(index=False)]\n",
    ")"
   ]
  },
  {
   "cell_type": "code",
   "execution_count": 5,
   "metadata": {},
   "outputs": [
    {
     "data": {
      "text/html": [
       "<div>\n",
       "<style scoped>\n",
       "    .dataframe tbody tr th:only-of-type {\n",
       "        vertical-align: middle;\n",
       "    }\n",
       "\n",
       "    .dataframe tbody tr th {\n",
       "        vertical-align: top;\n",
       "    }\n",
       "\n",
       "    .dataframe thead th {\n",
       "        text-align: right;\n",
       "    }\n",
       "</style>\n",
       "<table border=\"1\" class=\"dataframe\">\n",
       "  <thead>\n",
       "    <tr style=\"text-align: right;\">\n",
       "      <th></th>\n",
       "      <th>Benigno</th>\n",
       "      <th>Phishing</th>\n",
       "      <th>Diff</th>\n",
       "    </tr>\n",
       "  </thead>\n",
       "  <tbody>\n",
       "    <tr>\n",
       "      <th>has_email</th>\n",
       "      <td>0.159727</td>\n",
       "      <td>0.077033</td>\n",
       "      <td>-0.082694</td>\n",
       "    </tr>\n",
       "    <tr>\n",
       "      <th>has_url</th>\n",
       "      <td>0.285760</td>\n",
       "      <td>0.141945</td>\n",
       "      <td>-0.143815</td>\n",
       "    </tr>\n",
       "    <tr>\n",
       "      <th>length</th>\n",
       "      <td>3141.967188</td>\n",
       "      <td>1471.028936</td>\n",
       "      <td>-1670.938252</td>\n",
       "    </tr>\n",
       "    <tr>\n",
       "      <th>entropy</th>\n",
       "      <td>3.913839</td>\n",
       "      <td>3.946038</td>\n",
       "      <td>0.032199</td>\n",
       "    </tr>\n",
       "    <tr>\n",
       "      <th>words_num</th>\n",
       "      <td>623.505576</td>\n",
       "      <td>282.357143</td>\n",
       "      <td>-341.148433</td>\n",
       "    </tr>\n",
       "    <tr>\n",
       "      <th>digits_num</th>\n",
       "      <td>69.788849</td>\n",
       "      <td>35.058785</td>\n",
       "      <td>-34.730064</td>\n",
       "    </tr>\n",
       "  </tbody>\n",
       "</table>\n",
       "</div>"
      ],
      "text/plain": [
       "                Benigno     Phishing         Diff\n",
       "has_email      0.159727     0.077033    -0.082694\n",
       "has_url        0.285760     0.141945    -0.143815\n",
       "length      3141.967188  1471.028936 -1670.938252\n",
       "entropy        3.913839     3.946038     0.032199\n",
       "words_num    623.505576   282.357143  -341.148433\n",
       "digits_num    69.788849    35.058785   -34.730064"
      ]
     },
     "execution_count": 5,
     "metadata": {},
     "output_type": "execute_result"
    }
   ],
   "source": [
    "# calculate averages of each feature by class\n",
    "texts_features = pd.concat([\n",
    "    texts.iloc[:, 1:].astype(int).loc[texts['label'] == 0].mean(axis=0),\n",
    "    texts.iloc[:, 1:].astype(int).loc[texts['label'] == 1].mean(axis=0)\n",
    "], axis=1).rename(columns={0: 'Benigno', 1:'Phishing'})[:-1]\n",
    "\n",
    "# Calculate differences between phishing and benign features in percentage\n",
    "texts_features['Diff'] = texts_features['Phishing'] - texts_features['Benigno']\n",
    "\n",
    "texts_features"
   ]
  },
  {
   "cell_type": "markdown",
   "metadata": {},
   "source": [
    "### TF-IDF Analysis"
   ]
  },
  {
   "cell_type": "markdown",
   "metadata": {},
   "source": [
    "TF-IDF Vectorizer is a very common algorithm to transform text into a meaningful representation of numbers, which can be used for our text analysis. "
   ]
  },
  {
   "cell_type": "code",
   "execution_count": 6,
   "metadata": {},
   "outputs": [],
   "source": [
    "# vectorize texts\n",
    "tfidf_vect = TfidfVectorizer(ngram_range=(1, 2), max_df=0.25, stop_words='english', max_features=10000)\n",
    "texts_tfidfs = tfidf_vect.fit_transform(texts['text'])"
   ]
  },
  {
   "cell_type": "markdown",
   "metadata": {},
   "source": [
    "**TF-IDF (term frequency-inverse document frequency)** is a statistical measure that evaluates how relevant a word is to a document in a collection of documents. This is done by multiplying two metrics: how many times a word appears in a document, and the inverse document frequency of the word across a set of documents. The higher is the value, the more relevant the term is in that document. Hence, we'll check TF-IDF averages scores of all features extracted from TF-IDF Vectorizer and sort them in descending order, so we can know which are the most relevant words over all phishing and benign texts."
   ]
  },
  {
   "cell_type": "code",
   "execution_count": 7,
   "metadata": {},
   "outputs": [],
   "source": [
    "# Get TF-IDF scores from all features\n",
    "tfidfs = pd.DataFrame.sparse.from_spmatrix(texts_tfidfs, columns=tfidf_vect.get_feature_names_out())\n",
    "tfidfs['label'] = texts['label']"
   ]
  },
  {
   "cell_type": "code",
   "execution_count": 8,
   "metadata": {},
   "outputs": [
    {
     "data": {
      "text/plain": [
       "enron       0.027281\n",
       "ect         0.021609\n",
       "linux       0.018734\n",
       "www         0.015536\n",
       "list        0.014974\n",
       "http www    0.014301\n",
       "2002        0.013505\n",
       "know        0.012886\n",
       "language    0.012263\n",
       "thanks      0.011919\n",
       "dtype: Sparse[float64, 0]"
      ]
     },
     "execution_count": 8,
     "metadata": {},
     "output_type": "execute_result"
    }
   ],
   "source": [
    "# Calculate TF-IDF Averages in benign samples and sort them in descending order\n",
    "top_relevant_benign_words = tfidfs.loc[tfidfs['label'] == 0].drop('label', axis=1).mean(axis=0).sort_values(ascending=False)[:10]\n",
    "top_relevant_benign_words"
   ]
  },
  {
   "cell_type": "code",
   "execution_count": 9,
   "metadata": {},
   "outputs": [
    {
     "data": {
      "text/plain": [
       "free       0.026833\n",
       "click      0.023108\n",
       "email      0.020099\n",
       "www        0.016920\n",
       "money      0.015797\n",
       "000        0.015061\n",
       "new        0.015012\n",
       "online     0.014321\n",
       "just       0.013659\n",
       "company    0.013308\n",
       "dtype: Sparse[float64, 0]"
      ]
     },
     "execution_count": 9,
     "metadata": {},
     "output_type": "execute_result"
    }
   ],
   "source": [
    "top_relevant_phishing_words = tfidfs.loc[tfidfs['label'] == 1].drop('label', axis=1).mean(axis=0).sort_values(ascending=False)[:10]\n",
    "top_relevant_phishing_words"
   ]
  },
  {
   "cell_type": "code",
   "execution_count": 10,
   "metadata": {},
   "outputs": [
    {
     "data": {
      "image/png": "[encoded data removed]",
      "text/plain": [
       "<Figure size 1500x500 with 2 Axes>"
      ]
     },
     "metadata": {},
     "output_type": "display_data"
    }
   ],
   "source": [
    "plt.figure(figsize=(15, 5)) \n",
    "\n",
    "plt.subplot(1, 2, 1) \n",
    "plt.barh(top_relevant_benign_words.index, top_relevant_benign_words.values, color='royalblue')\n",
    "plt.xlabel(\"Promedio TF-IDF\")\n",
    "plt.ylabel(\"Palabras\")\n",
    "plt.title('TOP 10 PALABRAS BENIGNAS MÁS RELEVANTES')\n",
    "\n",
    "plt.subplot(1, 2, 2)\n",
    "plt.barh(top_relevant_phishing_words.index, top_relevant_phishing_words.values, color='gold')\n",
    "plt.xlabel(\"Promedio TF-IDF\")\n",
    "plt.ylabel(\"Palabras\")\n",
    "plt.title('TOP 10 PALABRAS MALIGNAS MÁS RELEVANTES')\n",
    "\n",
    "plt.show()"
   ]
  },
  {
   "cell_type": "markdown",
   "metadata": {},
   "source": [
    "### Term Frequency Analysis"
   ]
  },
  {
   "cell_type": "markdown",
   "metadata": {},
   "source": [
    "Once we have detected the most relevant words, we will focus on the terms frequencies. We will use `CountVectorizer`, a tool that converts a collection of text documents into a matrix of token counts often used to measure the term frequency of words in a corpus. Term frequency is simply the number of times a word appears in a document. With this tool we'll be able to get the most common words in all texts, and contrast this information against the previous graphs."
   ]
  },
  {
   "cell_type": "code",
   "execution_count": 11,
   "metadata": {},
   "outputs": [],
   "source": [
    "cv = CountVectorizer(ngram_range=(1, 2), max_df=0.25, stop_words='english', max_features=10000)\n",
    "texts_tf = cv.fit_transform(texts['text'])"
   ]
  },
  {
   "cell_type": "code",
   "execution_count": 15,
   "metadata": {},
   "outputs": [],
   "source": [
    "# Get TF-IDF scores from all features\n",
    "tfs = pd.DataFrame.sparse.from_spmatrix(texts_tf, columns=cv.get_feature_names_out())\n",
    "tfs['label'] = texts['label']"
   ]
  },
  {
   "cell_type": "code",
   "execution_count": 17,
   "metadata": {},
   "outputs": [
    {
     "data": {
      "text/plain": [
       "enron          17840\n",
       "language       17216\n",
       "university     17165\n",
       "subject        11020\n",
       "ect            10899\n",
       "00             10772\n",
       "information    10772\n",
       "www            10483\n",
       "mail           10253\n",
       "new            10194\n",
       "dtype: Sparse[int64, 0]"
      ]
     },
     "execution_count": 17,
     "metadata": {},
     "output_type": "execute_result"
    }
   ],
   "source": [
    "# Calculate TF in benign samples and get the 10 most frequent\n",
    "top_frequent_benign_words = tfs.loc[tfs['label'] == 0].drop('label', axis=1).sum(axis=0).nlargest(10)\n",
    "top_frequent_benign_words"
   ]
  },
  {
   "cell_type": "code",
   "execution_count": 18,
   "metadata": {},
   "outputs": [
    {
     "data": {
      "text/plain": [
       "½ï             6610\n",
       "½ï ½ï          5332\n",
       "email          5047\n",
       "free           4522\n",
       "000            4061\n",
       "mail           3770\n",
       "money          3762\n",
       "company        3711\n",
       "information    3693\n",
       "business       3427\n",
       "dtype: Sparse[int64, 0]"
      ]
     },
     "execution_count": 18,
     "metadata": {},
     "output_type": "execute_result"
    }
   ],
   "source": [
    "# Calculate TF in phishing samples and get the 10 most frequent\n",
    "top_frequent_phishing_words = tfs.loc[tfs['label'] == 1].drop('label', axis=1).sum(axis=0).nlargest(10)\n",
    "top_frequent_phishing_words"
   ]
  },
  {
   "cell_type": "code",
   "execution_count": 19,
   "metadata": {},
   "outputs": [
    {
     "data": {
      "image/png": "[encoded data removed]",
      "text/plain": [
       "<Figure size 1500x500 with 2 Axes>"
      ]
     },
     "metadata": {},
     "output_type": "display_data"
    }
   ],
   "source": [
    "plt.figure(figsize=(15, 5)) \n",
    "\n",
    "plt.subplot(1, 2, 1) \n",
    "plt.barh(top_frequent_benign_words.index, top_frequent_benign_words.values, color='royalblue')\n",
    "plt.xlabel(\"Frecuencia\")\n",
    "plt.ylabel(\"Palabras\")\n",
    "plt.title('TOP 10 PALABRAS BENIGNAS MÁS FRECUENTES')\n",
    "\n",
    "plt.subplot(1, 2, 2)\n",
    "plt.barh(top_frequent_phishing_words.index, top_frequent_phishing_words.values, color='gold')\n",
    "plt.xlabel(\"Frecuencia\")\n",
    "plt.ylabel(\"Palabras\")\n",
    "plt.title('TOP 10 PALABRAS MALIGNAS MÁS FRECUENTES')\n",
    "\n",
    "plt.show()"
   ]
  }
 ],
 "metadata": {
  "kernelspec": {
   "display_name": "machine_learning",
   "language": "python",
   "name": "python3"
  },
  "language_info": {
   "codemirror_mode": {
    "name": "ipython",
    "version": 3
   },
   "file_extension": ".py",
   "mimetype": "text/x-python",
   "name": "python",
   "nbconvert_exporter": "python",
   "pygments_lexer": "ipython3",
   "version": "3.10.13"
  }
 },
 "nbformat": 4,
 "nbformat_minor": 2
}
