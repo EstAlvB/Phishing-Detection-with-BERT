{
 "cells": [
  {
   "cell_type": "code",
   "execution_count": 1,
   "metadata": {},
   "outputs": [
    {
     "name": "stdout",
     "output_type": "stream",
     "text": [
      "INFO: Pandarallel will run on 8 workers.\n",
      "INFO: Pandarallel will use standard multiprocessing data transfer (pipe) to transfer data between the main process and workers.\n"
     ]
    }
   ],
   "source": [
    "import pandas as pd\n",
    "import numpy as np\n",
    "import matplotlib.pyplot as plt\n",
    "import seaborn as sns\n",
    "from pandarallel import pandarallel\n",
    "from sklearn.feature_extraction.text import TfidfVectorizer\n",
    "from features import HTMLFeatures, URLFeatures\n",
    "pandarallel.initialize()"
   ]
  },
  {
   "cell_type": "markdown",
   "metadata": {},
   "source": [
    "# **PHISHING DATASET ANALYSIS**"
   ]
  },
  {
   "cell_type": "markdown",
   "metadata": {},
   "source": [
    "* * *"
   ]
  },
  {
   "cell_type": "code",
   "execution_count": 2,
   "metadata": {},
   "outputs": [],
   "source": [
    "# importing datasets\n",
    "texts = pd.read_csv('DATASETS/PRE/TEXTS.csv')\n",
    "urls = pd.read_csv('DATASETS/PRE/URLS.csv')\n",
    "webs = pd.read_csv('DATASETS/PRE/WEBS.csv')"
   ]
  },
  {
   "cell_type": "markdown",
   "metadata": {},
   "source": [
    "### Classes Distribution"
   ]
  },
  {
   "cell_type": "code",
   "execution_count": 3,
   "metadata": {},
   "outputs": [
    {
     "data": {
      "text/plain": [
       "<Axes: ylabel='label'>"
      ]
     },
     "execution_count": 3,
     "metadata": {},
     "output_type": "execute_result"
    },
    {
     "data": {
      "image/png": "[encoded data removed]",
      "text/plain": [
       "<Figure size 640x480 with 1 Axes>"
      ]
     },
     "metadata": {},
     "output_type": "display_data"
    }
   ],
   "source": [
    "dist = pd.concat([texts['label'], urls['label'], webs['label']]).value_counts()\n",
    "dist.index = dist.index.map({0: 'Benigno', 1: 'Phishing'})\n",
    "plt.text(230010, 0, '53.5%', color='black', fontweight='bold')\n",
    "plt.text(200000, 1, '46.5%', color='black', fontweight='bold')\n",
    "dist.plot.barh(color=['royalblue', 'gold'])"
   ]
  },
  {
   "cell_type": "markdown",
   "metadata": {},
   "source": [
    "## **URL Analysis**"
   ]
  },
  {
   "cell_type": "markdown",
   "metadata": {},
   "source": [
    "A URL has lexical characteristics, which refer to the textual properties of the URL. According to some investigations, some URL features related to phishing attacks are:\n",
    "\n",
    "- Presence of suffix or prefix \"-\" in the domain\n",
    "- Points number\n",
    "- Presence of the IP direction in the domain\n",
    "- Presence of keywords such as 'login', 'server', and 'admin'\n",
    "- Subdirectories number\n",
    "- Host Length\n",
    "- etc"
   ]
  },
  {
   "cell_type": "code",
   "execution_count": 4,
   "metadata": {},
   "outputs": [],
   "source": [
    "# extract url relevant features\n",
    "urls = pd.DataFrame([URLFeatures(row.text).get_features()|{'label': row.label} for row in urls.itertuples(index=False)])\n",
    "urls = urls.astype(int)"
   ]
  },
  {
   "cell_type": "code",
   "execution_count": 5,
   "metadata": {},
   "outputs": [],
   "source": [
    "# calculate averages of each feature by class\n",
    "urls_features = pd.concat([\n",
    "    urls.loc[urls['label'] == 0].mean(axis=0),\n",
    "    urls.loc[urls['label'] == 1].mean(axis=0)\n",
    "], axis=1).rename(columns={0: 'Benigno', 1:'Phishing'})[:-1]"
   ]
  },
  {
   "cell_type": "code",
   "execution_count": 6,
   "metadata": {},
   "outputs": [
    {
     "data": {
      "text/html": [
       "<div>\n",
       "<style scoped>\n",
       "    .dataframe tbody tr th:only-of-type {\n",
       "        vertical-align: middle;\n",
       "    }\n",
       "\n",
       "    .dataframe tbody tr th {\n",
       "        vertical-align: top;\n",
       "    }\n",
       "\n",
       "    .dataframe thead th {\n",
       "        text-align: right;\n",
       "    }\n",
       "</style>\n",
       "<table border=\"1\" class=\"dataframe\">\n",
       "  <thead>\n",
       "    <tr style=\"text-align: right;\">\n",
       "      <th></th>\n",
       "      <th>Benigno</th>\n",
       "      <th>Phishing</th>\n",
       "      <th>Diff</th>\n",
       "    </tr>\n",
       "  </thead>\n",
       "  <tbody>\n",
       "    <tr>\n",
       "      <th>use_shortening_service</th>\n",
       "      <td>7.072162</td>\n",
       "      <td>5.166026</td>\n",
       "      <td>1.906</td>\n",
       "    </tr>\n",
       "    <tr>\n",
       "      <th>prefix_suffix_presence</th>\n",
       "      <td>0.626812</td>\n",
       "      <td>11.062183</td>\n",
       "      <td>10.435</td>\n",
       "    </tr>\n",
       "    <tr>\n",
       "      <th>has_double_slash</th>\n",
       "      <td>0.018980</td>\n",
       "      <td>0.631297</td>\n",
       "      <td>0.612</td>\n",
       "    </tr>\n",
       "    <tr>\n",
       "      <th>has_haveat_sign</th>\n",
       "      <td>0.056713</td>\n",
       "      <td>1.186786</td>\n",
       "      <td>1.130</td>\n",
       "    </tr>\n",
       "    <tr>\n",
       "      <th>has_port</th>\n",
       "      <td>0.017151</td>\n",
       "      <td>0.026390</td>\n",
       "      <td>0.009</td>\n",
       "    </tr>\n",
       "    <tr>\n",
       "      <th>has_admin_keyword</th>\n",
       "      <td>0.101534</td>\n",
       "      <td>1.906051</td>\n",
       "      <td>1.805</td>\n",
       "    </tr>\n",
       "    <tr>\n",
       "      <th>has_server_keyword</th>\n",
       "      <td>0.216560</td>\n",
       "      <td>0.485892</td>\n",
       "      <td>0.269</td>\n",
       "    </tr>\n",
       "    <tr>\n",
       "      <th>has_login_keyword</th>\n",
       "      <td>0.192320</td>\n",
       "      <td>9.076185</td>\n",
       "      <td>8.884</td>\n",
       "    </tr>\n",
       "    <tr>\n",
       "      <th>has_client_keyword</th>\n",
       "      <td>0.102677</td>\n",
       "      <td>0.527547</td>\n",
       "      <td>0.425</td>\n",
       "    </tr>\n",
       "    <tr>\n",
       "      <th>host_is_ip</th>\n",
       "      <td>0.000229</td>\n",
       "      <td>0.561181</td>\n",
       "      <td>0.561</td>\n",
       "    </tr>\n",
       "    <tr>\n",
       "      <th>is_encoded</th>\n",
       "      <td>2.544524</td>\n",
       "      <td>1.558320</td>\n",
       "      <td>0.986</td>\n",
       "    </tr>\n",
       "  </tbody>\n",
       "</table>\n",
       "</div>"
      ],
      "text/plain": [
       "                         Benigno   Phishing    Diff\n",
       "use_shortening_service  7.072162   5.166026   1.906\n",
       "prefix_suffix_presence  0.626812  11.062183  10.435\n",
       "has_double_slash        0.018980   0.631297   0.612\n",
       "has_haveat_sign         0.056713   1.186786   1.130\n",
       "has_port                0.017151   0.026390   0.009\n",
       "has_admin_keyword       0.101534   1.906051   1.805\n",
       "has_server_keyword      0.216560   0.485892   0.269\n",
       "has_login_keyword       0.192320   9.076185   8.884\n",
       "has_client_keyword      0.102677   0.527547   0.425\n",
       "host_is_ip              0.000229   0.561181   0.561\n",
       "is_encoded              2.544524   1.558320   0.986"
      ]
     },
     "execution_count": 6,
     "metadata": {},
     "output_type": "execute_result"
    }
   ],
   "source": [
    "# calculate proportions in bool url features\n",
    "url_proportions = urls_features.copy()[:11] * 100\n",
    "url_proportions['Diff'] = abs(url_proportions['Benigno'] - url_proportions['Phishing']).round(3)\n",
    "url_proportions"
   ]
  },
  {
   "cell_type": "code",
   "execution_count": 7,
   "metadata": {},
   "outputs": [
    {
     "data": {
      "text/html": [
       "<div>\n",
       "<style scoped>\n",
       "    .dataframe tbody tr th:only-of-type {\n",
       "        vertical-align: middle;\n",
       "    }\n",
       "\n",
       "    .dataframe tbody tr th {\n",
       "        vertical-align: top;\n",
       "    }\n",
       "\n",
       "    .dataframe thead th {\n",
       "        text-align: right;\n",
       "    }\n",
       "</style>\n",
       "<table border=\"1\" class=\"dataframe\">\n",
       "  <thead>\n",
       "    <tr style=\"text-align: right;\">\n",
       "      <th></th>\n",
       "      <th>Benigno</th>\n",
       "      <th>Phishing</th>\n",
       "      <th>Pct Change</th>\n",
       "    </tr>\n",
       "  </thead>\n",
       "  <tbody>\n",
       "    <tr>\n",
       "      <th>length</th>\n",
       "      <td>47.004192</td>\n",
       "      <td>47.575145</td>\n",
       "      <td>1.215</td>\n",
       "    </tr>\n",
       "    <tr>\n",
       "      <th>path_length</th>\n",
       "      <td>41.423458</td>\n",
       "      <td>25.190401</td>\n",
       "      <td>-39.188</td>\n",
       "    </tr>\n",
       "    <tr>\n",
       "      <th>host_length</th>\n",
       "      <td>1.815871</td>\n",
       "      <td>9.813579</td>\n",
       "      <td>440.434</td>\n",
       "    </tr>\n",
       "    <tr>\n",
       "      <th>entropy</th>\n",
       "      <td>3.641731</td>\n",
       "      <td>3.502396</td>\n",
       "      <td>-3.826</td>\n",
       "    </tr>\n",
       "    <tr>\n",
       "      <th>digits_num</th>\n",
       "      <td>3.065922</td>\n",
       "      <td>5.017011</td>\n",
       "      <td>63.638</td>\n",
       "    </tr>\n",
       "    <tr>\n",
       "      <th>subdirectories_num</th>\n",
       "      <td>3.320061</td>\n",
       "      <td>2.533673</td>\n",
       "      <td>-23.686</td>\n",
       "    </tr>\n",
       "    <tr>\n",
       "      <th>periods_num</th>\n",
       "      <td>1.825842</td>\n",
       "      <td>2.467589</td>\n",
       "      <td>35.148</td>\n",
       "    </tr>\n",
       "    <tr>\n",
       "      <th>params_num</th>\n",
       "      <td>0.183683</td>\n",
       "      <td>0.259251</td>\n",
       "      <td>41.141</td>\n",
       "    </tr>\n",
       "  </tbody>\n",
       "</table>\n",
       "</div>"
      ],
      "text/plain": [
       "                      Benigno   Phishing  Pct Change\n",
       "length              47.004192  47.575145       1.215\n",
       "path_length         41.423458  25.190401     -39.188\n",
       "host_length          1.815871   9.813579     440.434\n",
       "entropy              3.641731   3.502396      -3.826\n",
       "digits_num           3.065922   5.017011      63.638\n",
       "subdirectories_num   3.320061   2.533673     -23.686\n",
       "periods_num          1.825842   2.467589      35.148\n",
       "params_num           0.183683   0.259251      41.141"
      ]
     },
     "execution_count": 7,
     "metadata": {},
     "output_type": "execute_result"
    }
   ],
   "source": [
    "# calculate averages in numeric url features\n",
    "url_averages = urls_features.copy()[11:]\n",
    "url_averages['Pct Change'] = ((url_averages[['Benigno', 'Phishing']].pct_change(axis=1)['Phishing']) * 100).round(3)\n",
    "url_averages"
   ]
  },
  {
   "cell_type": "markdown",
   "metadata": {},
   "source": [
    "## **HTML ANALYSIS**"
   ]
  },
  {
   "cell_type": "markdown",
   "metadata": {},
   "source": [
    "From websites we can also extract characteristics concerning to phishing. These features capture the structure of the web page and the content included in it, such as:\n",
    "\n",
    "- Number of internal & external links\n",
    "- Number of functions that modify the DOM\n",
    "- Number of scripts\n",
    "- Number of tags\n",
    "- Number of suspicious scripts functions\n",
    "- etc"
   ]
  },
  {
   "cell_type": "code",
   "execution_count": 8,
   "metadata": {},
   "outputs": [],
   "source": [
    "# extract html relevant features\n",
    "webs = pd.DataFrame([HTMLFeatures(row.text).get_features()|{'label': row.label} for row in webs.itertuples(index=False)])\n",
    "webs = webs.astype(int)"
   ]
  },
  {
   "cell_type": "code",
   "execution_count": 10,
   "metadata": {},
   "outputs": [
    {
     "data": {
      "text/html": [
       "<div>\n",
       "<style scoped>\n",
       "    .dataframe tbody tr th:only-of-type {\n",
       "        vertical-align: middle;\n",
       "    }\n",
       "\n",
       "    .dataframe tbody tr th {\n",
       "        vertical-align: top;\n",
       "    }\n",
       "\n",
       "    .dataframe thead th {\n",
       "        text-align: right;\n",
       "    }\n",
       "</style>\n",
       "<table border=\"1\" class=\"dataframe\">\n",
       "  <thead>\n",
       "    <tr style=\"text-align: right;\">\n",
       "      <th></th>\n",
       "      <th>Benigno</th>\n",
       "      <th>Phishing</th>\n",
       "      <th>Pct Change</th>\n",
       "    </tr>\n",
       "  </thead>\n",
       "  <tbody>\n",
       "    <tr>\n",
       "      <th>suspicious_func_num</th>\n",
       "      <td>0.312549</td>\n",
       "      <td>0.274035</td>\n",
       "      <td>-12.322</td>\n",
       "    </tr>\n",
       "    <tr>\n",
       "      <th>page_entropy</th>\n",
       "      <td>4.478566</td>\n",
       "      <td>4.316642</td>\n",
       "      <td>-3.616</td>\n",
       "    </tr>\n",
       "    <tr>\n",
       "      <th>script_tags_num</th>\n",
       "      <td>15.126072</td>\n",
       "      <td>6.244720</td>\n",
       "      <td>-58.716</td>\n",
       "    </tr>\n",
       "    <tr>\n",
       "      <th>html_length</th>\n",
       "      <td>14183.575799</td>\n",
       "      <td>7956.913693</td>\n",
       "      <td>-43.901</td>\n",
       "    </tr>\n",
       "    <tr>\n",
       "      <th>tokens_num</th>\n",
       "      <td>1157.061185</td>\n",
       "      <td>550.026038</td>\n",
       "      <td>-52.464</td>\n",
       "    </tr>\n",
       "    <tr>\n",
       "      <th>sentences_num</th>\n",
       "      <td>236.187744</td>\n",
       "      <td>159.838128</td>\n",
       "      <td>-32.326</td>\n",
       "    </tr>\n",
       "    <tr>\n",
       "      <th>punctuation_num</th>\n",
       "      <td>2224.979345</td>\n",
       "      <td>1394.538602</td>\n",
       "      <td>-37.324</td>\n",
       "    </tr>\n",
       "    <tr>\n",
       "      <th>capitalization_num</th>\n",
       "      <td>1352.086321</td>\n",
       "      <td>976.650947</td>\n",
       "      <td>-27.767</td>\n",
       "    </tr>\n",
       "    <tr>\n",
       "      <th>avg_sentence_tokens_num</th>\n",
       "      <td>8.169817</td>\n",
       "      <td>9.974873</td>\n",
       "      <td>22.094</td>\n",
       "    </tr>\n",
       "    <tr>\n",
       "      <th>html_tags_num</th>\n",
       "      <td>361.285269</td>\n",
       "      <td>129.689913</td>\n",
       "      <td>-64.103</td>\n",
       "    </tr>\n",
       "    <tr>\n",
       "      <th>hidden_tags_num</th>\n",
       "      <td>0.298032</td>\n",
       "      <td>0.226329</td>\n",
       "      <td>-24.059</td>\n",
       "    </tr>\n",
       "    <tr>\n",
       "      <th>iframe_num</th>\n",
       "      <td>0.410951</td>\n",
       "      <td>0.189366</td>\n",
       "      <td>-53.920</td>\n",
       "    </tr>\n",
       "    <tr>\n",
       "      <th>objects_num</th>\n",
       "      <td>0.016758</td>\n",
       "      <td>0.007465</td>\n",
       "      <td>-55.451</td>\n",
       "    </tr>\n",
       "    <tr>\n",
       "      <th>embeds_num</th>\n",
       "      <td>0.004579</td>\n",
       "      <td>0.004552</td>\n",
       "      <td>-0.590</td>\n",
       "    </tr>\n",
       "    <tr>\n",
       "      <th>internal_links_num</th>\n",
       "      <td>26.731294</td>\n",
       "      <td>1.229425</td>\n",
       "      <td>-95.401</td>\n",
       "    </tr>\n",
       "    <tr>\n",
       "      <th>external_links_num</th>\n",
       "      <td>27.560503</td>\n",
       "      <td>6.596140</td>\n",
       "      <td>-76.067</td>\n",
       "    </tr>\n",
       "    <tr>\n",
       "      <th>whitespaces_num</th>\n",
       "      <td>2460.243277</td>\n",
       "      <td>1703.753642</td>\n",
       "      <td>-30.749</td>\n",
       "    </tr>\n",
       "    <tr>\n",
       "      <th>included_elements_num</th>\n",
       "      <td>8.317128</td>\n",
       "      <td>3.753277</td>\n",
       "      <td>-54.873</td>\n",
       "    </tr>\n",
       "    <tr>\n",
       "      <th>double_doc_num</th>\n",
       "      <td>0.000000</td>\n",
       "      <td>0.000000</td>\n",
       "      <td>NaN</td>\n",
       "    </tr>\n",
       "    <tr>\n",
       "      <th>keywords_to_words_ratio</th>\n",
       "      <td>0.000000</td>\n",
       "      <td>0.000000</td>\n",
       "      <td>NaN</td>\n",
       "    </tr>\n",
       "    <tr>\n",
       "      <th>dom_mod_func_num</th>\n",
       "      <td>7.210542</td>\n",
       "      <td>4.048070</td>\n",
       "      <td>-43.859</td>\n",
       "    </tr>\n",
       "    <tr>\n",
       "      <th>avg_script_len</th>\n",
       "      <td>549.005553</td>\n",
       "      <td>878.392025</td>\n",
       "      <td>59.997</td>\n",
       "    </tr>\n",
       "    <tr>\n",
       "      <th>avg_script_entropy</th>\n",
       "      <td>1.740939</td>\n",
       "      <td>1.603423</td>\n",
       "      <td>-7.899</td>\n",
       "    </tr>\n",
       "  </tbody>\n",
       "</table>\n",
       "</div>"
      ],
      "text/plain": [
       "                              Benigno     Phishing  Pct Change\n",
       "suspicious_func_num          0.312549     0.274035     -12.322\n",
       "page_entropy                 4.478566     4.316642      -3.616\n",
       "script_tags_num             15.126072     6.244720     -58.716\n",
       "html_length              14183.575799  7956.913693     -43.901\n",
       "tokens_num                1157.061185   550.026038     -52.464\n",
       "sentences_num              236.187744   159.838128     -32.326\n",
       "punctuation_num           2224.979345  1394.538602     -37.324\n",
       "capitalization_num        1352.086321   976.650947     -27.767\n",
       "avg_sentence_tokens_num      8.169817     9.974873      22.094\n",
       "html_tags_num              361.285269   129.689913     -64.103\n",
       "hidden_tags_num              0.298032     0.226329     -24.059\n",
       "iframe_num                   0.410951     0.189366     -53.920\n",
       "objects_num                  0.016758     0.007465     -55.451\n",
       "embeds_num                   0.004579     0.004552      -0.590\n",
       "internal_links_num          26.731294     1.229425     -95.401\n",
       "external_links_num          27.560503     6.596140     -76.067\n",
       "whitespaces_num           2460.243277  1703.753642     -30.749\n",
       "included_elements_num        8.317128     3.753277     -54.873\n",
       "double_doc_num               0.000000     0.000000         NaN\n",
       "keywords_to_words_ratio      0.000000     0.000000         NaN\n",
       "dom_mod_func_num             7.210542     4.048070     -43.859\n",
       "avg_script_len             549.005553   878.392025      59.997\n",
       "avg_script_entropy           1.740939     1.603423      -7.899"
      ]
     },
     "execution_count": 10,
     "metadata": {},
     "output_type": "execute_result"
    }
   ],
   "source": [
    "# calculate averages of each feature by class\n",
    "webs_features = pd.concat([\n",
    "    webs.loc[webs['label'] == 0].mean(axis=0),\n",
    "    webs.loc[webs['label'] == 1].mean(axis=0)\n",
    "], axis=1).rename(columns={0: 'Benigno', 1:'Phishing'})[:-1]\n",
    "\n",
    "# Calculate differences between phishing and benign features in percentage\n",
    "webs_features['Pct Change'] = ((webs_features[['Benigno', 'Phishing']].pct_change(axis=1)['Phishing']) * 100).round(3)\n",
    "\n",
    "webs_features"
   ]
  },
  {
   "cell_type": "code",
   "execution_count": 11,
   "metadata": {},
   "outputs": [
    {
     "data": {
      "text/html": [
       "<div>\n",
       "<style scoped>\n",
       "    .dataframe tbody tr th:only-of-type {\n",
       "        vertical-align: middle;\n",
       "    }\n",
       "\n",
       "    .dataframe tbody tr th {\n",
       "        vertical-align: top;\n",
       "    }\n",
       "\n",
       "    .dataframe thead th {\n",
       "        text-align: right;\n",
       "    }\n",
       "</style>\n",
       "<table border=\"1\" class=\"dataframe\">\n",
       "  <thead>\n",
       "    <tr style=\"text-align: right;\">\n",
       "      <th></th>\n",
       "      <th>Benigno</th>\n",
       "      <th>Phishing</th>\n",
       "      <th>Pct Change</th>\n",
       "    </tr>\n",
       "  </thead>\n",
       "  <tbody>\n",
       "    <tr>\n",
       "      <th>script_tags_num</th>\n",
       "      <td>15.126072</td>\n",
       "      <td>6.244720</td>\n",
       "      <td>-58.716</td>\n",
       "    </tr>\n",
       "    <tr>\n",
       "      <th>tokens_num</th>\n",
       "      <td>1157.061185</td>\n",
       "      <td>550.026038</td>\n",
       "      <td>-52.464</td>\n",
       "    </tr>\n",
       "    <tr>\n",
       "      <th>html_tags_num</th>\n",
       "      <td>361.285269</td>\n",
       "      <td>129.689913</td>\n",
       "      <td>-64.103</td>\n",
       "    </tr>\n",
       "    <tr>\n",
       "      <th>iframe_num</th>\n",
       "      <td>0.410951</td>\n",
       "      <td>0.189366</td>\n",
       "      <td>-53.920</td>\n",
       "    </tr>\n",
       "    <tr>\n",
       "      <th>objects_num</th>\n",
       "      <td>0.016758</td>\n",
       "      <td>0.007465</td>\n",
       "      <td>-55.451</td>\n",
       "    </tr>\n",
       "    <tr>\n",
       "      <th>internal_links_num</th>\n",
       "      <td>26.731294</td>\n",
       "      <td>1.229425</td>\n",
       "      <td>-95.401</td>\n",
       "    </tr>\n",
       "    <tr>\n",
       "      <th>external_links_num</th>\n",
       "      <td>27.560503</td>\n",
       "      <td>6.596140</td>\n",
       "      <td>-76.067</td>\n",
       "    </tr>\n",
       "    <tr>\n",
       "      <th>included_elements_num</th>\n",
       "      <td>8.317128</td>\n",
       "      <td>3.753277</td>\n",
       "      <td>-54.873</td>\n",
       "    </tr>\n",
       "    <tr>\n",
       "      <th>avg_script_len</th>\n",
       "      <td>549.005553</td>\n",
       "      <td>878.392025</td>\n",
       "      <td>59.997</td>\n",
       "    </tr>\n",
       "  </tbody>\n",
       "</table>\n",
       "</div>"
      ],
      "text/plain": [
       "                           Benigno    Phishing  Pct Change\n",
       "script_tags_num          15.126072    6.244720     -58.716\n",
       "tokens_num             1157.061185  550.026038     -52.464\n",
       "html_tags_num           361.285269  129.689913     -64.103\n",
       "iframe_num                0.410951    0.189366     -53.920\n",
       "objects_num               0.016758    0.007465     -55.451\n",
       "internal_links_num       26.731294    1.229425     -95.401\n",
       "external_links_num       27.560503    6.596140     -76.067\n",
       "included_elements_num     8.317128    3.753277     -54.873\n",
       "avg_script_len          549.005553  878.392025      59.997"
      ]
     },
     "execution_count": 11,
     "metadata": {},
     "output_type": "execute_result"
    }
   ],
   "source": [
    "# Filtrate features with a significant difference (>50%)\n",
    "relevant_webs_features = webs_features.loc[webs_features['Pct Change'].abs() > 50]\n",
    "relevant_webs_features"
   ]
  },
  {
   "cell_type": "code",
   "execution_count": 12,
   "metadata": {},
   "outputs": [
    {
     "data": {
      "image/png": "[encoded data removed]",
      "text/plain": [
       "<Figure size 1000x500 with 1 Axes>"
      ]
     },
     "metadata": {},
     "output_type": "display_data"
    }
   ],
   "source": [
    "# plot features gain averages by class\n",
    "relevant_webs_features[['Benigno', 'Phishing']].plot.bar(width=0.4, figsize=(10, 5), color=['royalblue', 'gold'])\n",
    "plt.xlabel('Características')\n",
    "plt.ylabel('Promedio Logarítmico')\n",
    "plt.title('PROMEDIO DE LAS CARACTERÍSTICAS HTML POR CLASE')\n",
    "plt.yscale('log')\n",
    "plt.xticks(rotation=30)\n",
    "plt.show() "
   ]
  },
  {
   "cell_type": "markdown",
   "metadata": {},
   "source": [
    "## **TEXT ANALYSIS**"
   ]
  },
  {
   "cell_type": "markdown",
   "metadata": {},
   "source": [
    "Text preprocessing is a fundamental step in textual data analysis, which consists of cleaning and transforming unstructured text to prepare it for natural language processing (NLP) tasks. Some of the most common text preprocessing techniques are:\n",
    "\n",
    "- Converting text to lowercase\n",
    "- Removing punctuation marks\n",
    "- Removing stop words\n",
    "- Removing very frequent or very rare words\n",
    "- Applying stemming or lemmatization of words"
   ]
  },
  {
   "cell_type": "code",
   "execution_count": 12,
   "metadata": {},
   "outputs": [],
   "source": [
    "%load_ext Cython"
   ]
  },
  {
   "cell_type": "code",
   "execution_count": 13,
   "metadata": {},
   "outputs": [],
   "source": [
    "%%cython\n",
    "import re\n",
    "from nltk.tag import pos_tag\n",
    "from nltk.tokenize import word_tokenize\n",
    "from nltk.stem import WordNetLemmatizer\n",
    "from nltk.corpus import stopwords, wordnet\n",
    "\n",
    "lemmatizer = WordNetLemmatizer()\n",
    "stop_words = stopwords.words('english')\n",
    "\n",
    "def get_wordnet_pos(word):\n",
    "    \"\"\"Map POS tag to first character lemmatize() accepts\"\"\"\n",
    "    tag = pos_tag([word])[0][1][0].upper()\n",
    "    tag_dict = {\"J\": wordnet.ADJ,\n",
    "                \"N\": wordnet.NOUN,\n",
    "                \"V\": wordnet.VERB,\n",
    "                \"R\": wordnet.ADV}\n",
    "\n",
    "    return tag_dict.get(tag, wordnet.NOUN)\n",
    "\n",
    "def preprocess_text(text: str):\n",
    "    \"\"\"Preprocess text with regex and NLTK library\"\"\"\n",
    "    text = re.sub(r'[^\\w\\s]', ' ', text) # remove punctuation signs and special chars\n",
    "    text = re.sub(r' +', ' ', text) # remove unnecessary spaces\n",
    "    text = text.lower() # put text in lower case\n",
    "    text = ' '.join([word for word in text.split() if word not in stop_words])\n",
    "    text = ' '.join([lemmatizer.lemmatize(w, get_wordnet_pos(w)) for w in word_tokenize(text)])\n",
    "    return text.strip()"
   ]
  },
  {
   "cell_type": "code",
   "execution_count": 14,
   "metadata": {},
   "outputs": [
    {
     "data": {
      "text/html": [
       "<div>\n",
       "<style scoped>\n",
       "    .dataframe tbody tr th:only-of-type {\n",
       "        vertical-align: middle;\n",
       "    }\n",
       "\n",
       "    .dataframe tbody tr th {\n",
       "        vertical-align: top;\n",
       "    }\n",
       "\n",
       "    .dataframe thead th {\n",
       "        text-align: right;\n",
       "    }\n",
       "</style>\n",
       "<table border=\"1\" class=\"dataframe\">\n",
       "  <thead>\n",
       "    <tr style=\"text-align: right;\">\n",
       "      <th></th>\n",
       "      <th>text</th>\n",
       "      <th>label</th>\n",
       "    </tr>\n",
       "  </thead>\n",
       "  <tbody>\n",
       "    <tr>\n",
       "      <th>0</th>\n",
       "      <td>6 1100 disc uniformitarianism 1086 sex lang di...</td>\n",
       "      <td>0</td>\n",
       "    </tr>\n",
       "    <tr>\n",
       "      <th>1</th>\n",
       "      <td>side galicismos galicismo spanish term name im...</td>\n",
       "      <td>0</td>\n",
       "    </tr>\n",
       "    <tr>\n",
       "      <th>2</th>\n",
       "      <td>equistar deal ticket still available assist ro...</td>\n",
       "      <td>0</td>\n",
       "    </tr>\n",
       "    <tr>\n",
       "      <th>3</th>\n",
       "      <td>hello hot lil horny toy one dream open mind pe...</td>\n",
       "      <td>1</td>\n",
       "    </tr>\n",
       "    <tr>\n",
       "      <th>4</th>\n",
       "      <td>software incredibly low price 86 low drapery s...</td>\n",
       "      <td>1</td>\n",
       "    </tr>\n",
       "    <tr>\n",
       "      <th>...</th>\n",
       "      <td>...</td>\n",
       "      <td>...</td>\n",
       "    </tr>\n",
       "    <tr>\n",
       "      <th>20132</th>\n",
       "      <td>nokia 7250i get win free auction take part sen...</td>\n",
       "      <td>1</td>\n",
       "    </tr>\n",
       "    <tr>\n",
       "      <th>20133</th>\n",
       "      <td>get ur 1st ringtone free reply msg tone gr8 to...</td>\n",
       "      <td>1</td>\n",
       "    </tr>\n",
       "    <tr>\n",
       "      <th>20134</th>\n",
       "      <td>ur cash balance currently 500 pound maximize u...</td>\n",
       "      <td>1</td>\n",
       "    </tr>\n",
       "    <tr>\n",
       "      <th>20135</th>\n",
       "      <td>record indicate involve accident last 2 5 year...</td>\n",
       "      <td>1</td>\n",
       "    </tr>\n",
       "    <tr>\n",
       "      <th>20136</th>\n",
       "      <td>call 08707509020 20p per min ntt ltd po box 13...</td>\n",
       "      <td>1</td>\n",
       "    </tr>\n",
       "  </tbody>\n",
       "</table>\n",
       "<p>20137 rows × 2 columns</p>\n",
       "</div>"
      ],
      "text/plain": [
       "                                                    text  label\n",
       "0      6 1100 disc uniformitarianism 1086 sex lang di...      0\n",
       "1      side galicismos galicismo spanish term name im...      0\n",
       "2      equistar deal ticket still available assist ro...      0\n",
       "3      hello hot lil horny toy one dream open mind pe...      1\n",
       "4      software incredibly low price 86 low drapery s...      1\n",
       "...                                                  ...    ...\n",
       "20132  nokia 7250i get win free auction take part sen...      1\n",
       "20133  get ur 1st ringtone free reply msg tone gr8 to...      1\n",
       "20134  ur cash balance currently 500 pound maximize u...      1\n",
       "20135  record indicate involve accident last 2 5 year...      1\n",
       "20136  call 08707509020 20p per min ntt ltd po box 13...      1\n",
       "\n",
       "[20137 rows x 2 columns]"
      ]
     },
     "execution_count": 14,
     "metadata": {},
     "output_type": "execute_result"
    }
   ],
   "source": [
    "texts['text'] = texts['text'].parallel_map(preprocess_text)\n",
    "texts"
   ]
  },
  {
   "cell_type": "markdown",
   "metadata": {},
   "source": [
    "### TF-IDF Analysis"
   ]
  },
  {
   "cell_type": "markdown",
   "metadata": {},
   "source": [
    "TF-IDF Vectorizer is a very common algorithm to transform text into a meaningful representation of numbers, which can be used for our text analysis. "
   ]
  },
  {
   "cell_type": "code",
   "execution_count": 15,
   "metadata": {},
   "outputs": [],
   "source": [
    "# vectorize texts\n",
    "vect = TfidfVectorizer(ngram_range=(1, 2), max_df=0.25, stop_words='english')\n",
    "vect_matrix = vect.fit_transform(texts['text'])"
   ]
  },
  {
   "cell_type": "markdown",
   "metadata": {},
   "source": [
    "**TF-IDF (term frequency-inverse document frequency)** is a statistical measure that evaluates how relevant a word is to a document in a collection of documents. This is done by multiplying two metrics: how many times a word appears in a document, and the inverse document frequency of the word across a set of documents. The higher is the value, the more relevant the term is in that document. Hence, we'll check TF-IDF averages scores of all features extracted from TF-IDF Vectorizer and sort them in descending order, so we can know which are the most relevant words over all texts corpus."
   ]
  },
  {
   "cell_type": "code",
   "execution_count": 16,
   "metadata": {},
   "outputs": [],
   "source": [
    "# Get TF-IDF scores from all features\n",
    "tfidfs = pd.DataFrame.sparse.from_spmatrix(vect_matrix, columns=vect.get_feature_names_out())"
   ]
  },
  {
   "cell_type": "code",
   "execution_count": 17,
   "metadata": {},
   "outputs": [
    {
     "data": {
      "text/plain": [
       "list           0.010181\n",
       "enron          0.010109\n",
       "ect            0.008954\n",
       "www            0.007807\n",
       "mail           0.007708\n",
       "linux          0.006962\n",
       "http www       0.006893\n",
       "email          0.006833\n",
       "use            0.006571\n",
       "free           0.006371\n",
       "net            0.006361\n",
       "time           0.006289\n",
       "make           0.006224\n",
       "new            0.006212\n",
       "click          0.006084\n",
       "message        0.006071\n",
       "00             0.006008\n",
       "language       0.005969\n",
       "information    0.005788\n",
       "know           0.005758\n",
       "dtype: Sparse[float64, 0]"
      ]
     },
     "execution_count": 17,
     "metadata": {},
     "output_type": "execute_result"
    }
   ],
   "source": [
    "# Calculate TF-IDF Averages and sort them in descending order\n",
    "tfidf_avgs = tfidfs.mean(axis=0).sort_values(ascending=False)[:20]\n",
    "tfidf_avgs"
   ]
  },
  {
   "cell_type": "code",
   "execution_count": 18,
   "metadata": {},
   "outputs": [
    {
     "data": {
      "image/png": "[encoded data removed]",
      "text/plain": [
       "<Figure size 640x480 with 1 Axes>"
      ]
     },
     "metadata": {},
     "output_type": "display_data"
    }
   ],
   "source": [
    "plt.barh(tfidf_avgs.index, tfidf_avgs.values, color='limegreen')\n",
    "plt.xlabel(\"Promedio TF-IDF\")\n",
    "plt.ylabel(\"Palabra\")\n",
    "plt.title('TOP 2O PALABRAS MÁS RELEVANTES')\n",
    "plt.show()"
   ]
  },
  {
   "cell_type": "markdown",
   "metadata": {},
   "source": [
    "**IDF** is a measure of how common or rare a term is across the entire corpus of documents (texts samples). If the word is common and appears in many documents, the idf value (normalized) will approach 0 or else approach 1 if it’s rare. Hence, let's see which are the most common words across all texts samples using this measure."
   ]
  },
  {
   "cell_type": "code",
   "execution_count": 19,
   "metadata": {},
   "outputs": [],
   "source": [
    "feature_names = vect.get_feature_names_out()"
   ]
  },
  {
   "cell_type": "code",
   "execution_count": 20,
   "metadata": {},
   "outputs": [],
   "source": [
    "idfs = vect.idf_ * (1/vect.idf_.max()) # normalize idfs vector between 0 to 1\n",
    "lower_idfs_indexes = np.argsort(idfs)[:20]\n",
    "most_common_words = [feature_names[i] for i in lower_idfs_indexes]\n",
    "most_common_words_idfs = [idfs[i] for i in lower_idfs_indexes]"
   ]
  },
  {
   "cell_type": "code",
   "execution_count": 21,
   "metadata": {},
   "outputs": [
    {
     "data": {
      "text/plain": [
       "mail           0.240285\n",
       "time           0.242369\n",
       "www            0.243095\n",
       "use            0.243417\n",
       "list           0.248152\n",
       "make           0.249883\n",
       "information    0.251177\n",
       "new            0.251621\n",
       "know           0.256461\n",
       "http www       0.256707\n",
       "like           0.257499\n",
       "work           0.259227\n",
       "email          0.261943\n",
       "need           0.262360\n",
       "subject        0.265112\n",
       "message        0.268192\n",
       "10             0.270603\n",
       "want           0.283349\n",
       "day            0.284389\n",
       "include        0.284749\n",
       "dtype: float64"
      ]
     },
     "execution_count": 21,
     "metadata": {},
     "output_type": "execute_result"
    }
   ],
   "source": [
    "pd.Series(data=most_common_words_idfs, index=most_common_words)"
   ]
  },
  {
   "cell_type": "code",
   "execution_count": 22,
   "metadata": {},
   "outputs": [
    {
     "data": {
      "image/png": "[encoded data removed]",
      "text/plain": [
       "<Figure size 640x480 with 1 Axes>"
      ]
     },
     "metadata": {},
     "output_type": "display_data"
    }
   ],
   "source": [
    "plt.barh(most_common_words, most_common_words_idfs, color='limegreen')\n",
    "plt.xlabel(\"IDF\")\n",
    "plt.ylabel(\"Palabra\")\n",
    "plt.title('TOP 20 PALABRAS MÁS COMUNES')\n",
    "plt.show()"
   ]
  },
  {
   "cell_type": "code",
   "execution_count": 23,
   "metadata": {},
   "outputs": [],
   "source": [
    "benign_tf = pd.Series(' '.join(texts[texts['label'] == 0].text).split()).value_counts()\n",
    "benign_tf = benign_tf[benign_tf.index.isin(tfidf_avgs.index.values)]\n",
    "benign_tf.name = 'Benigno'\n",
    "\n",
    "phishing_tf = pd.Series(' '.join(texts[texts['label'] == 1].text).split()).value_counts()\n",
    "phishing_tf = phishing_tf[phishing_tf.index.isin(tfidf_avgs.index.values)]\n",
    "phishing_tf.name = 'Phishing'"
   ]
  },
  {
   "cell_type": "code",
   "execution_count": 24,
   "metadata": {},
   "outputs": [
    {
     "data": {
      "text/html": [
       "<div>\n",
       "<style scoped>\n",
       "    .dataframe tbody tr th:only-of-type {\n",
       "        vertical-align: middle;\n",
       "    }\n",
       "\n",
       "    .dataframe tbody tr th {\n",
       "        vertical-align: top;\n",
       "    }\n",
       "\n",
       "    .dataframe thead th {\n",
       "        text-align: right;\n",
       "    }\n",
       "</style>\n",
       "<table border=\"1\" class=\"dataframe\">\n",
       "  <thead>\n",
       "    <tr style=\"text-align: right;\">\n",
       "      <th></th>\n",
       "      <th>Benigno</th>\n",
       "      <th>Phishing</th>\n",
       "    </tr>\n",
       "  </thead>\n",
       "  <tbody>\n",
       "    <tr>\n",
       "      <th>language</th>\n",
       "      <td>23700</td>\n",
       "      <td>93</td>\n",
       "    </tr>\n",
       "    <tr>\n",
       "      <th>enron</th>\n",
       "      <td>17840</td>\n",
       "      <td>3</td>\n",
       "    </tr>\n",
       "    <tr>\n",
       "      <th>mail</th>\n",
       "      <td>13206</td>\n",
       "      <td>5376</td>\n",
       "    </tr>\n",
       "    <tr>\n",
       "      <th>use</th>\n",
       "      <td>12264</td>\n",
       "      <td>2937</td>\n",
       "    </tr>\n",
       "    <tr>\n",
       "      <th>list</th>\n",
       "      <td>11119</td>\n",
       "      <td>3270</td>\n",
       "    </tr>\n",
       "    <tr>\n",
       "      <th>ect</th>\n",
       "      <td>10902</td>\n",
       "      <td>76</td>\n",
       "    </tr>\n",
       "    <tr>\n",
       "      <th>information</th>\n",
       "      <td>10816</td>\n",
       "      <td>3720</td>\n",
       "    </tr>\n",
       "    <tr>\n",
       "      <th>00</th>\n",
       "      <td>10772</td>\n",
       "      <td>3279</td>\n",
       "    </tr>\n",
       "    <tr>\n",
       "      <th>www</th>\n",
       "      <td>10486</td>\n",
       "      <td>3069</td>\n",
       "    </tr>\n",
       "    <tr>\n",
       "      <th>new</th>\n",
       "      <td>10277</td>\n",
       "      <td>3068</td>\n",
       "    </tr>\n",
       "    <tr>\n",
       "      <th>make</th>\n",
       "      <td>9586</td>\n",
       "      <td>4719</td>\n",
       "    </tr>\n",
       "    <tr>\n",
       "      <th>time</th>\n",
       "      <td>8505</td>\n",
       "      <td>3614</td>\n",
       "    </tr>\n",
       "    <tr>\n",
       "      <th>email</th>\n",
       "      <td>6787</td>\n",
       "      <td>5496</td>\n",
       "    </tr>\n",
       "    <tr>\n",
       "      <th>know</th>\n",
       "      <td>6522</td>\n",
       "      <td>1759</td>\n",
       "    </tr>\n",
       "    <tr>\n",
       "      <th>message</th>\n",
       "      <td>5598</td>\n",
       "      <td>1816</td>\n",
       "    </tr>\n",
       "    <tr>\n",
       "      <th>net</th>\n",
       "      <td>5419</td>\n",
       "      <td>1921</td>\n",
       "    </tr>\n",
       "    <tr>\n",
       "      <th>free</th>\n",
       "      <td>3899</td>\n",
       "      <td>4526</td>\n",
       "    </tr>\n",
       "    <tr>\n",
       "      <th>linux</th>\n",
       "      <td>3795</td>\n",
       "      <td>411</td>\n",
       "    </tr>\n",
       "    <tr>\n",
       "      <th>click</th>\n",
       "      <td>1659</td>\n",
       "      <td>2969</td>\n",
       "    </tr>\n",
       "  </tbody>\n",
       "</table>\n",
       "</div>"
      ],
      "text/plain": [
       "             Benigno  Phishing\n",
       "language       23700        93\n",
       "enron          17840         3\n",
       "mail           13206      5376\n",
       "use            12264      2937\n",
       "list           11119      3270\n",
       "ect            10902        76\n",
       "information    10816      3720\n",
       "00             10772      3279\n",
       "www            10486      3069\n",
       "new            10277      3068\n",
       "make            9586      4719\n",
       "time            8505      3614\n",
       "email           6787      5496\n",
       "know            6522      1759\n",
       "message         5598      1816\n",
       "net             5419      1921\n",
       "free            3899      4526\n",
       "linux           3795       411\n",
       "click           1659      2969"
      ]
     },
     "execution_count": 24,
     "metadata": {},
     "output_type": "execute_result"
    }
   ],
   "source": [
    "tf = pd.concat([benign_tf, phishing_tf], axis=1)\n",
    "tf"
   ]
  },
  {
   "cell_type": "code",
   "execution_count": 27,
   "metadata": {},
   "outputs": [
    {
     "data": {
      "image/png": "[encoded data removed]",
      "text/plain": [
       "<Figure size 1200x500 with 1 Axes>"
      ]
     },
     "metadata": {},
     "output_type": "display_data"
    }
   ],
   "source": [
    "# plot features gain averages by class\n",
    "tf[['Benigno', 'Phishing']].plot.bar(width=0.4, figsize=(12, 5), color=['royalblue', 'gold'])\n",
    "plt.xlabel('Palabras')\n",
    "plt.ylabel('TF')\n",
    "plt.title('FRECUENCIA DE LAS PALABRAS MÁS RELEVANTES POR CLASE')\n",
    "plt.xticks(rotation=45)\n",
    "plt.show() "
   ]
  }
 ],
 "metadata": {
  "kernelspec": {
   "display_name": "machine_learning",
   "language": "python",
   "name": "python3"
  },
  "language_info": {
   "codemirror_mode": {
    "name": "ipython",
    "version": 3
   },
   "file_extension": ".py",
   "mimetype": "text/x-python",
   "name": "python",
   "nbconvert_exporter": "python",
   "pygments_lexer": "ipython3",
   "version": "3.10.13"
  }
 },
 "nbformat": 4,
 "nbformat_minor": 2
}
