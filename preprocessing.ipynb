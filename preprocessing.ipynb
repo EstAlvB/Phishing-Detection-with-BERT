{
 "cells": [
  {
   "cell_type": "code",
   "execution_count": 1,
   "metadata": {},
   "outputs": [
    {
     "name": "stdout",
     "output_type": "stream",
     "text": [
      "INFO: Pandarallel will run on 8 workers.\n",
      "INFO: Pandarallel will use standard multiprocessing data transfer (pipe) to transfer data between the main process and workers.\n"
     ]
    }
   ],
   "source": [
    "import json\n",
    "import pandas as pd\n",
    "import numpy as np\n",
    "import sqlite3\n",
    "import matplotlib.pyplot as plt\n",
    "from pathlib import Path\n",
    "from sklearn.model_selection import train_test_split\n",
    "from pandarallel import pandarallel\n",
    "pandarallel.initialize()"
   ]
  },
  {
   "cell_type": "markdown",
   "metadata": {},
   "source": [
    "# **DATASETS PREPROCESSING**"
   ]
  },
  {
   "cell_type": "markdown",
   "metadata": {},
   "source": [
    "* * *"
   ]
  },
  {
   "cell_type": "markdown",
   "metadata": {},
   "source": [
    "## **URLs DATASET**"
   ]
  },
  {
   "cell_type": "code",
   "execution_count": 2,
   "metadata": {},
   "outputs": [
    {
     "data": {
      "text/html": [
       "<div>\n",
       "<style scoped>\n",
       "    .dataframe tbody tr th:only-of-type {\n",
       "        vertical-align: middle;\n",
       "    }\n",
       "\n",
       "    .dataframe tbody tr th {\n",
       "        vertical-align: top;\n",
       "    }\n",
       "\n",
       "    .dataframe thead th {\n",
       "        text-align: right;\n",
       "    }\n",
       "</style>\n",
       "<table border=\"1\" class=\"dataframe\">\n",
       "  <thead>\n",
       "    <tr style=\"text-align: right;\">\n",
       "      <th></th>\n",
       "      <th>text</th>\n",
       "      <th>label</th>\n",
       "    </tr>\n",
       "  </thead>\n",
       "  <tbody>\n",
       "    <tr>\n",
       "      <th>0</th>\n",
       "      <td>mccartenviolins.com</td>\n",
       "      <td>1</td>\n",
       "    </tr>\n",
       "    <tr>\n",
       "      <th>1</th>\n",
       "      <td>https://gtrfdfsd.dsmtp.com/</td>\n",
       "      <td>1</td>\n",
       "    </tr>\n",
       "    <tr>\n",
       "      <th>2</th>\n",
       "      <td>91.239.25.121:6892</td>\n",
       "      <td>1</td>\n",
       "    </tr>\n",
       "    <tr>\n",
       "      <th>3</th>\n",
       "      <td>nsecoaching.ca/cd62kg4btm</td>\n",
       "      <td>1</td>\n",
       "    </tr>\n",
       "    <tr>\n",
       "      <th>4</th>\n",
       "      <td>footballfanatics.com/MLB_Kansas_City_Royals</td>\n",
       "      <td>0</td>\n",
       "    </tr>\n",
       "    <tr>\n",
       "      <th>...</th>\n",
       "      <td>...</td>\n",
       "      <td>...</td>\n",
       "    </tr>\n",
       "    <tr>\n",
       "      <th>822005</th>\n",
       "      <td>far.PREPHANLAW.COM/?q=w33QMvXcJxnQFYbGMvnDSKNb...</td>\n",
       "      <td>1</td>\n",
       "    </tr>\n",
       "    <tr>\n",
       "      <th>822006</th>\n",
       "      <td>loglar.com/album.php?id=2652</td>\n",
       "      <td>0</td>\n",
       "    </tr>\n",
       "    <tr>\n",
       "      <th>822007</th>\n",
       "      <td>businessweek.com/globalbiz/blog/eyeonasia/arch...</td>\n",
       "      <td>0</td>\n",
       "    </tr>\n",
       "    <tr>\n",
       "      <th>822008</th>\n",
       "      <td>outpersonals.com/geozones/gaymen/United_States...</td>\n",
       "      <td>0</td>\n",
       "    </tr>\n",
       "    <tr>\n",
       "      <th>822009</th>\n",
       "      <td>mpoets.org/IllustrationsOfMasonry.htm</td>\n",
       "      <td>0</td>\n",
       "    </tr>\n",
       "  </tbody>\n",
       "</table>\n",
       "<p>822010 rows × 2 columns</p>\n",
       "</div>"
      ],
      "text/plain": [
       "                                                     text  label\n",
       "0                                     mccartenviolins.com      1\n",
       "1                             https://gtrfdfsd.dsmtp.com/      1\n",
       "2                                      91.239.25.121:6892      1\n",
       "3                               nsecoaching.ca/cd62kg4btm      1\n",
       "4             footballfanatics.com/MLB_Kansas_City_Royals      0\n",
       "...                                                   ...    ...\n",
       "822005  far.PREPHANLAW.COM/?q=w33QMvXcJxnQFYbGMvnDSKNb...      1\n",
       "822006                       loglar.com/album.php?id=2652      0\n",
       "822007  businessweek.com/globalbiz/blog/eyeonasia/arch...      0\n",
       "822008  outpersonals.com/geozones/gaymen/United_States...      0\n",
       "822009              mpoets.org/IllustrationsOfMasonry.htm      0\n",
       "\n",
       "[822010 rows x 2 columns]"
      ]
     },
     "execution_count": 2,
     "metadata": {},
     "output_type": "execute_result"
    }
   ],
   "source": [
    "# import urls dataset\n",
    "urls = pd.read_csv('DATASETS/INIT/URLS.csv')\n",
    "# mapping 0 to 1 for phishing, and 1 to 0 for benign samples\n",
    "urls['status'] = urls['status'].map({0: 1, 1: 0})\n",
    "# renaming column to maintain uniformity\n",
    "urls.rename(columns={'status': 'label', 'url': 'text'}, inplace=True)\n",
    "# shuffling rows due to dataset structure\n",
    "urls = urls.sample(frac=1).reset_index(drop=True)\n",
    "urls"
   ]
  },
  {
   "cell_type": "markdown",
   "metadata": {},
   "source": [
    "#### Missing and Duplicated Values"
   ]
  },
  {
   "cell_type": "code",
   "execution_count": 3,
   "metadata": {},
   "outputs": [
    {
     "name": "stdout",
     "output_type": "stream",
     "text": [
      "There are missing values?: False\n",
      "There are duplicated URLs?: True\n",
      "There are empty strings in url column?: False\n"
     ]
    }
   ],
   "source": [
    "print(f\"There are missing values?: {urls.isna().any().any()}\")\n",
    "print(f\"There are duplicated URLs?: {urls['text'].duplicated().any()}\")\n",
    "print(f\"There are empty strings in url column?: {urls.where(urls['text'] == '').any().any()}\")"
   ]
  },
  {
   "cell_type": "code",
   "execution_count": 4,
   "metadata": {},
   "outputs": [
    {
     "name": "stdout",
     "output_type": "stream",
     "text": [
      "URL dataset shape: (808042, 2)\n"
     ]
    }
   ],
   "source": [
    "# Solving duplicates\n",
    "urls = urls.drop_duplicates(subset=['text'])\n",
    "urls.reset_index(drop=True, inplace=True)\n",
    "print(f\"URL dataset shape: {urls.shape}\")"
   ]
  },
  {
   "cell_type": "markdown",
   "metadata": {},
   "source": [
    "#### Balance Dataset"
   ]
  },
  {
   "cell_type": "code",
   "execution_count": 5,
   "metadata": {},
   "outputs": [
    {
     "data": {
      "image/png": "[encoded data removed]",
      "text/plain": [
       "<Figure size 640x480 with 1 Axes>"
      ]
     },
     "metadata": {},
     "output_type": "display_data"
    },
    {
     "name": "stdout",
     "output_type": "stream",
     "text": [
      "label\n",
      "0    427028\n",
      "1    381014\n",
      "Name: count, dtype: int64\n"
     ]
    }
   ],
   "source": [
    "url_label_counts = urls['label'].value_counts()\n",
    "plt.bar(['benign', 'phishing'], url_label_counts, color=['turquoise', 'teal'])\n",
    "plt.xlabel('Label')\n",
    "plt.ylabel('Frequency')\n",
    "plt.show()\n",
    "print(url_label_counts)"
   ]
  },
  {
   "cell_type": "markdown",
   "metadata": {},
   "source": [
    "We have 427028 benign samples and 381014 phishing samples. That means that the proportions are: \n",
    "- 52.8% benign\n",
    "- 47.1% phishing"
   ]
  },
  {
   "cell_type": "markdown",
   "metadata": {},
   "source": [
    "The dataset is balanced."
   ]
  },
  {
   "cell_type": "markdown",
   "metadata": {},
   "source": [
    "* * *"
   ]
  },
  {
   "cell_type": "markdown",
   "metadata": {},
   "source": [
    "## **EMAILS DATASET**"
   ]
  },
  {
   "cell_type": "code",
   "execution_count": 6,
   "metadata": {},
   "outputs": [
    {
     "data": {
      "text/html": [
       "<div>\n",
       "<style scoped>\n",
       "    .dataframe tbody tr th:only-of-type {\n",
       "        vertical-align: middle;\n",
       "    }\n",
       "\n",
       "    .dataframe tbody tr th {\n",
       "        vertical-align: top;\n",
       "    }\n",
       "\n",
       "    .dataframe thead th {\n",
       "        text-align: right;\n",
       "    }\n",
       "</style>\n",
       "<table border=\"1\" class=\"dataframe\">\n",
       "  <thead>\n",
       "    <tr style=\"text-align: right;\">\n",
       "      <th></th>\n",
       "      <th>text</th>\n",
       "      <th>label</th>\n",
       "    </tr>\n",
       "  </thead>\n",
       "  <tbody>\n",
       "    <tr>\n",
       "      <th>0</th>\n",
       "      <td>re : 6 . 1100 , disc : uniformitarianism , re ...</td>\n",
       "      <td>0</td>\n",
       "    </tr>\n",
       "    <tr>\n",
       "      <th>1</th>\n",
       "      <td>the other side of * galicismos * * galicismo *...</td>\n",
       "      <td>0</td>\n",
       "    </tr>\n",
       "    <tr>\n",
       "      <th>2</th>\n",
       "      <td>re : equistar deal tickets are you still avail...</td>\n",
       "      <td>0</td>\n",
       "    </tr>\n",
       "    <tr>\n",
       "      <th>3</th>\n",
       "      <td>\\nHello I am your hot lil horny toy.\\n    I am...</td>\n",
       "      <td>1</td>\n",
       "    </tr>\n",
       "    <tr>\n",
       "      <th>4</th>\n",
       "      <td>software at incredibly low prices ( 86 % lower...</td>\n",
       "      <td>1</td>\n",
       "    </tr>\n",
       "    <tr>\n",
       "      <th>...</th>\n",
       "      <td>...</td>\n",
       "      <td>...</td>\n",
       "    </tr>\n",
       "    <tr>\n",
       "      <th>18646</th>\n",
       "      <td>date a lonely housewife always wanted to date ...</td>\n",
       "      <td>1</td>\n",
       "    </tr>\n",
       "    <tr>\n",
       "      <th>18647</th>\n",
       "      <td>request submitted : access request for anita ....</td>\n",
       "      <td>0</td>\n",
       "    </tr>\n",
       "    <tr>\n",
       "      <th>18648</th>\n",
       "      <td>re : important - prc mtg hi dorn &amp; john , as y...</td>\n",
       "      <td>0</td>\n",
       "    </tr>\n",
       "    <tr>\n",
       "      <th>18649</th>\n",
       "      <td>press clippings - letter on californian utilit...</td>\n",
       "      <td>0</td>\n",
       "    </tr>\n",
       "    <tr>\n",
       "      <th>18650</th>\n",
       "      <td>empty</td>\n",
       "      <td>1</td>\n",
       "    </tr>\n",
       "  </tbody>\n",
       "</table>\n",
       "<p>18650 rows × 2 columns</p>\n",
       "</div>"
      ],
      "text/plain": [
       "                                                    text  label\n",
       "0      re : 6 . 1100 , disc : uniformitarianism , re ...      0\n",
       "1      the other side of * galicismos * * galicismo *...      0\n",
       "2      re : equistar deal tickets are you still avail...      0\n",
       "3      \\nHello I am your hot lil horny toy.\\n    I am...      1\n",
       "4      software at incredibly low prices ( 86 % lower...      1\n",
       "...                                                  ...    ...\n",
       "18646  date a lonely housewife always wanted to date ...      1\n",
       "18647  request submitted : access request for anita ....      0\n",
       "18648  re : important - prc mtg hi dorn & john , as y...      0\n",
       "18649  press clippings - letter on californian utilit...      0\n",
       "18650                                              empty      1\n",
       "\n",
       "[18650 rows x 2 columns]"
      ]
     },
     "execution_count": 6,
     "metadata": {},
     "output_type": "execute_result"
    }
   ],
   "source": [
    "# importing emails dataset\n",
    "emails = pd.read_csv('DATASETS/INIT/EMAILS.csv', index_col=0)\n",
    "# renaming columns to maintain uniformity\n",
    "emails.rename(columns={'Email Text': 'text', 'Email Type': 'label'}, inplace=True)\n",
    "# mapping label values to 1 (phishing) and 0s (benign)\n",
    "emails['label'] = emails['label'].map({'Phishing Email': 1, 'Safe Email': 0})\n",
    "emails"
   ]
  },
  {
   "cell_type": "markdown",
   "metadata": {},
   "source": [
    "#### Missing and Duplicated Values"
   ]
  },
  {
   "cell_type": "code",
   "execution_count": 7,
   "metadata": {},
   "outputs": [
    {
     "name": "stdout",
     "output_type": "stream",
     "text": [
      "There are missing values?: True\n",
      "There are duplicated emails?: True\n",
      "There are empty strings in text column?: False\n"
     ]
    }
   ],
   "source": [
    "print(f\"There are missing values?: {emails.isna().any().any()}\")\n",
    "print(f\"There are duplicated emails?: {emails['text'].duplicated().any()}\")\n",
    "print(f\"There are empty strings in text column?: {emails.where(emails['text'] == '').any().any()}\")"
   ]
  },
  {
   "cell_type": "code",
   "execution_count": 8,
   "metadata": {},
   "outputs": [
    {
     "name": "stdout",
     "output_type": "stream",
     "text": [
      "Emails dataset shape: (17536, 2)\n"
     ]
    }
   ],
   "source": [
    "# Solving duplicated and missing values\n",
    "emails = emails.drop_duplicates(subset=['text']) \n",
    "emails = emails.dropna(how='any',axis=0) \n",
    "emails = emails[emails['text'] != 'empty'] \n",
    "emails.reset_index(drop=True, inplace=True)\n",
    "print(f\"Emails dataset shape: {emails.shape}\")"
   ]
  },
  {
   "cell_type": "markdown",
   "metadata": {},
   "source": [
    "#### Balance Dataset "
   ]
  },
  {
   "cell_type": "code",
   "execution_count": 9,
   "metadata": {},
   "outputs": [
    {
     "data": {
      "image/png": "[encoded data removed]",
      "text/plain": [
       "<Figure size 640x480 with 1 Axes>"
      ]
     },
     "metadata": {},
     "output_type": "display_data"
    },
    {
     "name": "stdout",
     "output_type": "stream",
     "text": [
      "label\n",
      "0    10979\n",
      "1     6557\n",
      "Name: count, dtype: int64\n"
     ]
    }
   ],
   "source": [
    "email_label_counts = emails['label'].value_counts()\n",
    "plt.bar(['benign', 'phishing'], email_label_counts, color=['turquoise', 'teal'])\n",
    "plt.xlabel('Label')\n",
    "plt.ylabel('Frequency')\n",
    "plt.show()\n",
    "print(email_label_counts)"
   ]
  },
  {
   "cell_type": "markdown",
   "metadata": {},
   "source": [
    "We have 10979 benign samples and 6557 phishing samples. That means that the proportions are: \n",
    "- 62.6% benign\n",
    "- 37.4% phishing\n",
    "\n",
    "There is no significant difference between classes proportion, so we can continue"
   ]
  },
  {
   "cell_type": "markdown",
   "metadata": {},
   "source": [
    "* * *"
   ]
  },
  {
   "cell_type": "markdown",
   "metadata": {},
   "source": [
    "## **SMS DATASET**"
   ]
  },
  {
   "cell_type": "code",
   "execution_count": 10,
   "metadata": {},
   "outputs": [
    {
     "data": {
      "text/html": [
       "<div>\n",
       "<style scoped>\n",
       "    .dataframe tbody tr th:only-of-type {\n",
       "        vertical-align: middle;\n",
       "    }\n",
       "\n",
       "    .dataframe tbody tr th {\n",
       "        vertical-align: top;\n",
       "    }\n",
       "\n",
       "    .dataframe thead th {\n",
       "        text-align: right;\n",
       "    }\n",
       "</style>\n",
       "<table border=\"1\" class=\"dataframe\">\n",
       "  <thead>\n",
       "    <tr style=\"text-align: right;\">\n",
       "      <th></th>\n",
       "      <th>text</th>\n",
       "      <th>label</th>\n",
       "    </tr>\n",
       "  </thead>\n",
       "  <tbody>\n",
       "    <tr>\n",
       "      <th>0</th>\n",
       "      <td>Your opinion about me? 1. Over 2. Jada 3. Kusr...</td>\n",
       "      <td>0</td>\n",
       "    </tr>\n",
       "    <tr>\n",
       "      <th>1</th>\n",
       "      <td>What's up? Do you want me to come online? If y...</td>\n",
       "      <td>0</td>\n",
       "    </tr>\n",
       "    <tr>\n",
       "      <th>2</th>\n",
       "      <td>So u workin overtime nigpun?</td>\n",
       "      <td>0</td>\n",
       "    </tr>\n",
       "    <tr>\n",
       "      <th>3</th>\n",
       "      <td>Also sir, i sent you an email about how to log...</td>\n",
       "      <td>0</td>\n",
       "    </tr>\n",
       "    <tr>\n",
       "      <th>4</th>\n",
       "      <td>Please Stay At Home. To encourage the notion o...</td>\n",
       "      <td>1</td>\n",
       "    </tr>\n",
       "    <tr>\n",
       "      <th>...</th>\n",
       "      <td>...</td>\n",
       "      <td>...</td>\n",
       "    </tr>\n",
       "    <tr>\n",
       "      <th>5966</th>\n",
       "      <td>:( but your not here....</td>\n",
       "      <td>0</td>\n",
       "    </tr>\n",
       "    <tr>\n",
       "      <th>5967</th>\n",
       "      <td>Becoz its  &amp;lt;#&amp;gt;  jan whn al the post ofic...</td>\n",
       "      <td>0</td>\n",
       "    </tr>\n",
       "    <tr>\n",
       "      <th>5968</th>\n",
       "      <td>Its a valentine game. . . send dis msg to all ...</td>\n",
       "      <td>0</td>\n",
       "    </tr>\n",
       "    <tr>\n",
       "      <th>5969</th>\n",
       "      <td>We r outside already.</td>\n",
       "      <td>0</td>\n",
       "    </tr>\n",
       "    <tr>\n",
       "      <th>5970</th>\n",
       "      <td>The Xmas story is peace.. The Xmas msg is love...</td>\n",
       "      <td>0</td>\n",
       "    </tr>\n",
       "  </tbody>\n",
       "</table>\n",
       "<p>5971 rows × 2 columns</p>\n",
       "</div>"
      ],
      "text/plain": [
       "                                                   text  label\n",
       "0     Your opinion about me? 1. Over 2. Jada 3. Kusr...      0\n",
       "1     What's up? Do you want me to come online? If y...      0\n",
       "2                          So u workin overtime nigpun?      0\n",
       "3     Also sir, i sent you an email about how to log...      0\n",
       "4     Please Stay At Home. To encourage the notion o...      1\n",
       "...                                                 ...    ...\n",
       "5966                           :( but your not here....      0\n",
       "5967  Becoz its  &lt;#&gt;  jan whn al the post ofic...      0\n",
       "5968  Its a valentine game. . . send dis msg to all ...      0\n",
       "5969                              We r outside already.      0\n",
       "5970  The Xmas story is peace.. The Xmas msg is love...      0\n",
       "\n",
       "[5971 rows x 2 columns]"
      ]
     },
     "execution_count": 10,
     "metadata": {},
     "output_type": "execute_result"
    }
   ],
   "source": [
    "# import sms dataset\n",
    "sms = pd.read_csv('DATASETS/INIT/SMS.csv')\n",
    "# rename, dropping and moving columns to maintain uniformity\n",
    "sms.rename(columns={'LABEL': 'label', 'TEXT': 'text'}, inplace=True)\n",
    "sms.drop(['EMAIL', 'PHONE', 'URL'], axis=1, inplace=True)\n",
    "sms = sms.assign(label=sms.pop('label'))\n",
    "# mapping label values to 1 (phishing) and 0s (benign)\n",
    "sms['label'] = (sms['label'].str.lower()).map({'ham': 0, 'smishing': 1, 'spam': 1})\n",
    "sms"
   ]
  },
  {
   "cell_type": "markdown",
   "metadata": {},
   "source": [
    "#### Missing and Duplicate Values"
   ]
  },
  {
   "cell_type": "code",
   "execution_count": 11,
   "metadata": {},
   "outputs": [
    {
     "name": "stdout",
     "output_type": "stream",
     "text": [
      "There are missing values?: False\n",
      "There are duplicated sms?: True\n",
      "There are empty strings in text column?: False\n"
     ]
    }
   ],
   "source": [
    "print(f\"There are missing values?: {sms.isnull().any().any()}\")\n",
    "print(f\"There are duplicated sms?: {sms['text'].duplicated().any()}\")\n",
    "print(f\"There are empty strings in text column?: {sms.where(sms['text'] == '').any().any()}\")"
   ]
  },
  {
   "cell_type": "code",
   "execution_count": 12,
   "metadata": {},
   "outputs": [
    {
     "name": "stdout",
     "output_type": "stream",
     "text": [
      "SMS dataset shape: (5949, 2)\n"
     ]
    }
   ],
   "source": [
    "# Solving duplicates\n",
    "sms = sms.drop_duplicates(subset=['text'])\n",
    "sms.reset_index(drop=True, inplace=True)\n",
    "print(f\"SMS dataset shape: {sms.shape}\")"
   ]
  },
  {
   "cell_type": "markdown",
   "metadata": {},
   "source": [
    "#### Balance Dataset"
   ]
  },
  {
   "cell_type": "code",
   "execution_count": 13,
   "metadata": {},
   "outputs": [
    {
     "data": {
      "image/png": "[encoded data removed]",
      "text/plain": [
       "<Figure size 640x480 with 1 Axes>"
      ]
     },
     "metadata": {},
     "output_type": "display_data"
    },
    {
     "name": "stdout",
     "output_type": "stream",
     "text": [
      "label\n",
      "0    4834\n",
      "1    1115\n",
      "Name: count, dtype: int64\n"
     ]
    }
   ],
   "source": [
    "sms_label_counts = sms['label'].value_counts()\n",
    "plt.bar(['benign', 'phishing'], sms_label_counts, color=['turquoise', 'teal'])\n",
    "plt.xlabel('Label')\n",
    "plt.ylabel('Frequency')\n",
    "plt.show()\n",
    "print(sms_label_counts)"
   ]
  },
  {
   "cell_type": "markdown",
   "metadata": {},
   "source": [
    "We have 4834 benign samples and 1115 phishing samples. That means that the proportions are: \n",
    "- 81.2% benign\n",
    "- 18.7% phishing\n",
    "\n",
    "There is a significant difference between classes proportion. This is an unbalanced dataset"
   ]
  },
  {
   "cell_type": "markdown",
   "metadata": {},
   "source": [
    "We have an unbalanced dataset, with many more benign SMS messages than malicious ones. If we want to eliminate some benign samples in order to balance the dataset it we can use the **undersampling** method. This method consists in to reduce the number of observations of the majority class (in this case, the benign SMS) \n",
    "until it is equal to the number of observations of the minority class (in this case, the malignant SMS)."
   ]
  },
  {
   "cell_type": "code",
   "execution_count": 14,
   "metadata": {},
   "outputs": [
    {
     "data": {
      "image/png": "[encoded data removed]",
      "text/plain": [
       "<Figure size 640x480 with 1 Axes>"
      ]
     },
     "metadata": {},
     "output_type": "display_data"
    },
    {
     "name": "stdout",
     "output_type": "stream",
     "text": [
      "label\n",
      "0    1486\n",
      "1    1115\n",
      "Name: count, dtype: int64\n"
     ]
    }
   ],
   "source": [
    "# calculate the size of the minority class\n",
    "sms_minority_size = sms[sms['label'] == 1].shape[0]\n",
    "\n",
    "# randomly select a subset of observations from the majority class\n",
    "sms_majority_subset = sms[sms['label'] == 0].sample(\n",
    "    n=sms_minority_size+(sms_minority_size//3),\n",
    "    replace=False)\n",
    "\n",
    "# combine the minority and majority subsets to create a new, balanced dataset\n",
    "sms = pd.concat([sms_majority_subset, sms[sms['label'] == 1]])\n",
    "sms.reset_index(drop=True, inplace=True)\n",
    "\n",
    "sms_label_counts = sms['label'].value_counts()\n",
    "plt.bar(['benign', 'phishing'], sms_label_counts, color=['turquoise', 'teal'])\n",
    "plt.xlabel('Label')\n",
    "plt.ylabel('Frequency')\n",
    "plt.title('Label Frequency')\n",
    "plt.show()\n",
    "print(sms_label_counts)"
   ]
  },
  {
   "cell_type": "markdown",
   "metadata": {},
   "source": [
    "* * *"
   ]
  },
  {
   "cell_type": "markdown",
   "metadata": {},
   "source": [
    "## **WEBSITES DATASET**"
   ]
  },
  {
   "cell_type": "code",
   "execution_count": 15,
   "metadata": {},
   "outputs": [
    {
     "data": {
      "text/html": [
       "<div>\n",
       "<style scoped>\n",
       "    .dataframe tbody tr th:only-of-type {\n",
       "        vertical-align: middle;\n",
       "    }\n",
       "\n",
       "    .dataframe tbody tr th {\n",
       "        vertical-align: top;\n",
       "    }\n",
       "\n",
       "    .dataframe thead th {\n",
       "        text-align: right;\n",
       "    }\n",
       "</style>\n",
       "<table border=\"1\" class=\"dataframe\">\n",
       "  <thead>\n",
       "    <tr style=\"text-align: right;\">\n",
       "      <th></th>\n",
       "      <th>url</th>\n",
       "      <th>text</th>\n",
       "      <th>label</th>\n",
       "    </tr>\n",
       "  </thead>\n",
       "  <tbody>\n",
       "    <tr>\n",
       "      <th>0</th>\n",
       "      <td>http://intego3.info/EXEL/index.php</td>\n",
       "      <td>1613573972338075.html</td>\n",
       "      <td>1</td>\n",
       "    </tr>\n",
       "    <tr>\n",
       "      <th>1</th>\n",
       "      <td>https://www.mathopenref.com/segment.html</td>\n",
       "      <td>1635698138155948.html</td>\n",
       "      <td>0</td>\n",
       "    </tr>\n",
       "    <tr>\n",
       "      <th>2</th>\n",
       "      <td>https://www.computerhope.com/issues/ch000254.htm</td>\n",
       "      <td>1635699228889266.html</td>\n",
       "      <td>0</td>\n",
       "    </tr>\n",
       "    <tr>\n",
       "      <th>3</th>\n",
       "      <td>https://www.investopedia.com/terms/n/next-elev...</td>\n",
       "      <td>1635750062162701.html</td>\n",
       "      <td>0</td>\n",
       "    </tr>\n",
       "    <tr>\n",
       "      <th>4</th>\n",
       "      <td>https://jobs.emss.org.uk/lcc.aspx</td>\n",
       "      <td>161356510250721.html</td>\n",
       "      <td>0</td>\n",
       "    </tr>\n",
       "    <tr>\n",
       "      <th>...</th>\n",
       "      <td>...</td>\n",
       "      <td>...</td>\n",
       "      <td>...</td>\n",
       "    </tr>\n",
       "    <tr>\n",
       "      <th>29995</th>\n",
       "      <td>http://neuropathyhealthcenter.com/neuropathy-p...</td>\n",
       "      <td>1635710574719465.html</td>\n",
       "      <td>0</td>\n",
       "    </tr>\n",
       "    <tr>\n",
       "      <th>29996</th>\n",
       "      <td>http://forever-inject-onlinestore-com.sell.eve...</td>\n",
       "      <td>1613583393590779.html</td>\n",
       "      <td>0</td>\n",
       "    </tr>\n",
       "    <tr>\n",
       "      <th>29997</th>\n",
       "      <td>https://www.yourdictionary.com/hopper</td>\n",
       "      <td>1635714045723937.html</td>\n",
       "      <td>0</td>\n",
       "    </tr>\n",
       "    <tr>\n",
       "      <th>29998</th>\n",
       "      <td>https://linktr.ee/btonlinecustomerservice</td>\n",
       "      <td>10003100.html</td>\n",
       "      <td>1</td>\n",
       "    </tr>\n",
       "    <tr>\n",
       "      <th>29999</th>\n",
       "      <td>https://letisops1.ru/oplata/p2p/</td>\n",
       "      <td>1613572837688009.html</td>\n",
       "      <td>1</td>\n",
       "    </tr>\n",
       "  </tbody>\n",
       "</table>\n",
       "<p>30000 rows × 3 columns</p>\n",
       "</div>"
      ],
      "text/plain": [
       "                                                     url  \\\n",
       "0                     http://intego3.info/EXEL/index.php   \n",
       "1               https://www.mathopenref.com/segment.html   \n",
       "2       https://www.computerhope.com/issues/ch000254.htm   \n",
       "3      https://www.investopedia.com/terms/n/next-elev...   \n",
       "4                      https://jobs.emss.org.uk/lcc.aspx   \n",
       "...                                                  ...   \n",
       "29995  http://neuropathyhealthcenter.com/neuropathy-p...   \n",
       "29996  http://forever-inject-onlinestore-com.sell.eve...   \n",
       "29997              https://www.yourdictionary.com/hopper   \n",
       "29998          https://linktr.ee/btonlinecustomerservice   \n",
       "29999                   https://letisops1.ru/oplata/p2p/   \n",
       "\n",
       "                        text  label  \n",
       "0      1613573972338075.html      1  \n",
       "1      1635698138155948.html      0  \n",
       "2      1635699228889266.html      0  \n",
       "3      1635750062162701.html      0  \n",
       "4       161356510250721.html      0  \n",
       "...                      ...    ...  \n",
       "29995  1635710574719465.html      0  \n",
       "29996  1613583393590779.html      0  \n",
       "29997  1635714045723937.html      0  \n",
       "29998          10003100.html      1  \n",
       "29999  1613572837688009.html      1  \n",
       "\n",
       "[30000 rows x 3 columns]"
      ]
     },
     "execution_count": 15,
     "metadata": {},
     "output_type": "execute_result"
    }
   ],
   "source": [
    "# we have to create a database to get html files\n",
    "conn = sqlite3.connect(Path(\"~/Documents/WEBSITES/websites.db\").expanduser())\n",
    "\n",
    "# open and read index.sql, where html files are\n",
    "with open(Path(\"~/Documents/WEBSITES/index.sql\").expanduser(), \"r\") as f:\n",
    "    sql = f.read()\n",
    "\n",
    "sql = sql.replace(\"`\", \"'\")\n",
    "conn.executescript(sql)\n",
    "conn.commit()\n",
    "\n",
    "# read table data and pass it to a pandas dataframe\n",
    "webs = pd.read_sql_query(\"SELECT * FROM \\\"index\\\" LIMIT 30000\", conn)\n",
    "\n",
    "conn.close()\n",
    "\n",
    "webs.drop(['rec_id', 'created_date'], inplace=True, axis=1)\n",
    "webs.rename(columns={'website': 'text', 'result': 'label'}, inplace=True)\n",
    "webs"
   ]
  },
  {
   "cell_type": "markdown",
   "metadata": {},
   "source": [
    "#### HTML Codes Extraction"
   ]
  },
  {
   "cell_type": "markdown",
   "metadata": {},
   "source": [
    "It's worthwhile to analyze the websites dataset. Nevertheless, processing each HTML code sample could be pretty heavy and delayed. That's why is necessary to filter those HTML samples that exceed a SIZE threshold. On this case, we decided the threshold to be: **100 KB**. Also, we can speed HTML extraction from disk by executing the code using Cython library. Cython compile python code in C, and this increases the performance significantly."
   ]
  },
  {
   "cell_type": "code",
   "execution_count": 16,
   "metadata": {},
   "outputs": [],
   "source": [
    "%load_ext cython"
   ]
  },
  {
   "cell_type": "code",
   "execution_count": 17,
   "metadata": {},
   "outputs": [],
   "source": [
    "%%cython\n",
    "import os\n",
    "\n",
    "MAX_FILE_SIZE = 100 # max file size in KB\n",
    "\n",
    "prefix = os.path.expanduser(\"~/Documents/WEBSITES/DATASET/\") # common prefix where HTML codes are stored\n",
    "html_directories = [\n",
    "    \"dataset-part-1/\", \n",
    "    \"dataset-part-2/\",\n",
    "    \"dataset-part-3/\",\n",
    "    \"dataset-part-4/\",\n",
    "    \"dataset-part-5/\",\n",
    "    \"dataset-part-6/\",\n",
    "    \"dataset-part-7/\",\n",
    "    \"dataset-part-8/\"]\n",
    "\n",
    "def B_TO_KB(b):\n",
    "    kilobytes = b / 1024\n",
    "    return kilobytes\n",
    "\n",
    "def get_html(filename):\n",
    "    \n",
    "    for directory in html_directories:\n",
    "        dir_path = os.path.join(prefix, directory)\n",
    "        files = os.listdir(dir_path)\n",
    "        for file in files:\n",
    "            if file == filename:\n",
    "                html_path = os.path.join(dir_path, file)\n",
    "                break\n",
    "            \n",
    "    if B_TO_KB(os.path.getsize(html_path)) <= MAX_FILE_SIZE:\n",
    "        with open(html_path, 'r') as html_file:\n",
    "            html = html_file.read()\n",
    "        return html\n",
    "    else:\n",
    "        return None"
   ]
  },
  {
   "cell_type": "code",
   "execution_count": 18,
   "metadata": {},
   "outputs": [
    {
     "name": "stdout",
     "output_type": "stream",
     "text": [
      "Webs dataset shape: (20887, 3)\n"
     ]
    },
    {
     "data": {
      "text/html": [
       "<div>\n",
       "<style scoped>\n",
       "    .dataframe tbody tr th:only-of-type {\n",
       "        vertical-align: middle;\n",
       "    }\n",
       "\n",
       "    .dataframe tbody tr th {\n",
       "        vertical-align: top;\n",
       "    }\n",
       "\n",
       "    .dataframe thead th {\n",
       "        text-align: right;\n",
       "    }\n",
       "</style>\n",
       "<table border=\"1\" class=\"dataframe\">\n",
       "  <thead>\n",
       "    <tr style=\"text-align: right;\">\n",
       "      <th></th>\n",
       "      <th>url</th>\n",
       "      <th>text</th>\n",
       "      <th>label</th>\n",
       "    </tr>\n",
       "  </thead>\n",
       "  <tbody>\n",
       "    <tr>\n",
       "      <th>0</th>\n",
       "      <td>http://intego3.info/EXEL/index.php</td>\n",
       "      <td>&lt;!DOCTYPE html PUBLIC \"-//W3C//DTD HTML 4.01 T...</td>\n",
       "      <td>1</td>\n",
       "    </tr>\n",
       "    <tr>\n",
       "      <th>1</th>\n",
       "      <td>https://www.mathopenref.com/segment.html</td>\n",
       "      <td>&lt;!DOCTYPE html&gt;\\n&lt;html&gt;\\n &lt;head&gt;\\n  &lt;title&gt;\\n ...</td>\n",
       "      <td>0</td>\n",
       "    </tr>\n",
       "    <tr>\n",
       "      <th>2</th>\n",
       "      <td>https://www.computerhope.com/issues/ch000254.htm</td>\n",
       "      <td>&lt;!DOCTYPE html&gt;\\n&lt;!--[if lt IE 7]&gt;&lt;html class=...</td>\n",
       "      <td>0</td>\n",
       "    </tr>\n",
       "    <tr>\n",
       "      <th>3</th>\n",
       "      <td>https://jobs.emss.org.uk/lcc.aspx</td>\n",
       "      <td>&lt;!DOCTYPE html PUBLIC \"-//W3C//DTD XHTML 1.0 T...</td>\n",
       "      <td>0</td>\n",
       "    </tr>\n",
       "    <tr>\n",
       "      <th>4</th>\n",
       "      <td>http://www.pracspedia.com/INS/one-time-passwor...</td>\n",
       "      <td>&lt;html&gt;\\n &lt;head&gt;\\n  &lt;title&gt;\\n   Not Acceptable!...</td>\n",
       "      <td>0</td>\n",
       "    </tr>\n",
       "    <tr>\n",
       "      <th>...</th>\n",
       "      <td>...</td>\n",
       "      <td>...</td>\n",
       "      <td>...</td>\n",
       "    </tr>\n",
       "    <tr>\n",
       "      <th>20882</th>\n",
       "      <td>https://www.pasthorizonstools.com/</td>\n",
       "      <td>&lt;!DOCTYPE html&gt;\\n&lt;!--[if lt IE 7]&gt;&lt;html class=...</td>\n",
       "      <td>0</td>\n",
       "    </tr>\n",
       "    <tr>\n",
       "      <th>20883</th>\n",
       "      <td>http://neuropathyhealthcenter.com/neuropathy-p...</td>\n",
       "      <td>&lt;html&gt;\\n &lt;head&gt;\\n  &lt;title&gt;\\n   Loading...\\n  &lt;...</td>\n",
       "      <td>0</td>\n",
       "    </tr>\n",
       "    <tr>\n",
       "      <th>20884</th>\n",
       "      <td>http://forever-inject-onlinestore-com.sell.eve...</td>\n",
       "      <td>&lt;!DOCTYPE html&gt;\\n&lt;html&gt;\\n &lt;head&gt;\\n  &lt;meta cont...</td>\n",
       "      <td>0</td>\n",
       "    </tr>\n",
       "    <tr>\n",
       "      <th>20885</th>\n",
       "      <td>https://linktr.ee/btonlinecustomerservice</td>\n",
       "      <td>&lt;html&gt;&lt;head&gt;&lt;meta name=\"viewport\" content=\"wid...</td>\n",
       "      <td>1</td>\n",
       "    </tr>\n",
       "    <tr>\n",
       "      <th>20886</th>\n",
       "      <td>https://letisops1.ru/oplata/p2p/</td>\n",
       "      <td>&lt;!DOCTYPE html&gt;\\n&lt;html lang=\"ru-RU\"&gt;\\n &lt;head&gt;\\...</td>\n",
       "      <td>1</td>\n",
       "    </tr>\n",
       "  </tbody>\n",
       "</table>\n",
       "<p>20887 rows × 3 columns</p>\n",
       "</div>"
      ],
      "text/plain": [
       "                                                     url  \\\n",
       "0                     http://intego3.info/EXEL/index.php   \n",
       "1               https://www.mathopenref.com/segment.html   \n",
       "2       https://www.computerhope.com/issues/ch000254.htm   \n",
       "3                      https://jobs.emss.org.uk/lcc.aspx   \n",
       "4      http://www.pracspedia.com/INS/one-time-passwor...   \n",
       "...                                                  ...   \n",
       "20882                 https://www.pasthorizonstools.com/   \n",
       "20883  http://neuropathyhealthcenter.com/neuropathy-p...   \n",
       "20884  http://forever-inject-onlinestore-com.sell.eve...   \n",
       "20885          https://linktr.ee/btonlinecustomerservice   \n",
       "20886                   https://letisops1.ru/oplata/p2p/   \n",
       "\n",
       "                                                    text  label  \n",
       "0      <!DOCTYPE html PUBLIC \"-//W3C//DTD HTML 4.01 T...      1  \n",
       "1      <!DOCTYPE html>\\n<html>\\n <head>\\n  <title>\\n ...      0  \n",
       "2      <!DOCTYPE html>\\n<!--[if lt IE 7]><html class=...      0  \n",
       "3      <!DOCTYPE html PUBLIC \"-//W3C//DTD XHTML 1.0 T...      0  \n",
       "4      <html>\\n <head>\\n  <title>\\n   Not Acceptable!...      0  \n",
       "...                                                  ...    ...  \n",
       "20882  <!DOCTYPE html>\\n<!--[if lt IE 7]><html class=...      0  \n",
       "20883  <html>\\n <head>\\n  <title>\\n   Loading...\\n  <...      0  \n",
       "20884  <!DOCTYPE html>\\n<html>\\n <head>\\n  <meta cont...      0  \n",
       "20885  <html><head><meta name=\"viewport\" content=\"wid...      1  \n",
       "20886  <!DOCTYPE html>\\n<html lang=\"ru-RU\">\\n <head>\\...      1  \n",
       "\n",
       "[20887 rows x 3 columns]"
      ]
     },
     "execution_count": 18,
     "metadata": {},
     "output_type": "execute_result"
    }
   ],
   "source": [
    "# retrieve html codes from disk\n",
    "webs['text'] = webs['text'].parallel_map(lambda file: get_html(file))\n",
    "# drop those samples where html text is None, because they were too heavy\n",
    "webs = webs[webs.text.notnull()]\n",
    "# reset indexes after drop\n",
    "webs.reset_index(drop=True, inplace=True)\n",
    "# print resulting webs dataset shape\n",
    "print(f\"Webs dataset shape: {webs.shape}\")\n",
    "webs"
   ]
  },
  {
   "cell_type": "markdown",
   "metadata": {},
   "source": [
    "#### Missing and Duplicated Values"
   ]
  },
  {
   "cell_type": "code",
   "execution_count": 19,
   "metadata": {},
   "outputs": [
    {
     "name": "stdout",
     "output_type": "stream",
     "text": [
      "There are missing values?: False\n",
      "There are duplicated webs?: True\n",
      "There are empty strings in text column?: False\n"
     ]
    }
   ],
   "source": [
    "print(f\"There are missing values?: {webs.isna().any().any()}\")\n",
    "print(f\"There are duplicated webs?: {webs['text'].duplicated().any()}\")\n",
    "print(f\"There are empty strings in text column?: {webs.where(webs['text'] == '').any().any()}\")"
   ]
  },
  {
   "cell_type": "code",
   "execution_count": 20,
   "metadata": {},
   "outputs": [
    {
     "name": "stdout",
     "output_type": "stream",
     "text": [
      "Webs dataset shape: (15756, 3)\n"
     ]
    }
   ],
   "source": [
    "# Solving duplicates\n",
    "webs = webs.drop_duplicates(subset=['text'])\n",
    "webs.reset_index(drop=True, inplace=True)\n",
    "print(f\"Webs dataset shape: {webs.shape}\")"
   ]
  },
  {
   "cell_type": "markdown",
   "metadata": {},
   "source": [
    "#### Balance Dataset"
   ]
  },
  {
   "cell_type": "code",
   "execution_count": 21,
   "metadata": {},
   "outputs": [
    {
     "data": {
      "image/png": "[encoded data removed]",
      "text/plain": [
       "<Figure size 640x480 with 1 Axes>"
      ]
     },
     "metadata": {},
     "output_type": "display_data"
    },
    {
     "name": "stdout",
     "output_type": "stream",
     "text": [
      "label\n",
      "0    10264\n",
      "1     5492\n",
      "Name: count, dtype: int64\n"
     ]
    }
   ],
   "source": [
    "web_label_counts = webs['label'].value_counts()\n",
    "plt.bar(['benign', 'phishing'], web_label_counts, color=['turquoise', 'teal'])\n",
    "plt.xlabel('Label')\n",
    "plt.ylabel('Frequency')\n",
    "plt.show()\n",
    "print(web_label_counts)"
   ]
  },
  {
   "cell_type": "markdown",
   "metadata": {},
   "source": [
    "We have 10264 benign samples and 5492 phishing samples. That means that the proportions are: \n",
    "- 65.1% benign\n",
    "- 34.8% phishing\n",
    "\n",
    "There is no significant difference between classes proportion, so we can continue"
   ]
  },
  {
   "cell_type": "markdown",
   "metadata": {},
   "source": [
    "#### URLs Extraction"
   ]
  },
  {
   "cell_type": "markdown",
   "metadata": {},
   "source": [
    "Before deleting the URL column of this dataset to keep only the text, we can take advantage of these new URLs to add them to the URL dataset and increase their number of samples."
   ]
  },
  {
   "cell_type": "code",
   "execution_count": 22,
   "metadata": {},
   "outputs": [
    {
     "name": "stdout",
     "output_type": "stream",
     "text": [
      "New URLs added (+15756):\n",
      "\n"
     ]
    },
    {
     "name": "stderr",
     "output_type": "stream",
     "text": [
      "/var/folders/bf/74p6fnsx6v582xb04v67qg4r0000gn/T/ipykernel_9269/2329777480.py:8: SettingWithCopyWarning: \n",
      "A value is trying to be set on a copy of a slice from a DataFrame\n",
      "\n",
      "See the caveats in the documentation: https://pandas.pydata.org/pandas-docs/stable/user_guide/indexing.html#returning-a-view-versus-a-copy\n",
      "  webs.drop(['url'], axis=1, inplace=True)\n"
     ]
    },
    {
     "data": {
      "text/html": [
       "<div>\n",
       "<style scoped>\n",
       "    .dataframe tbody tr th:only-of-type {\n",
       "        vertical-align: middle;\n",
       "    }\n",
       "\n",
       "    .dataframe tbody tr th {\n",
       "        vertical-align: top;\n",
       "    }\n",
       "\n",
       "    .dataframe thead th {\n",
       "        text-align: right;\n",
       "    }\n",
       "</style>\n",
       "<table border=\"1\" class=\"dataframe\">\n",
       "  <thead>\n",
       "    <tr style=\"text-align: right;\">\n",
       "      <th></th>\n",
       "      <th>text</th>\n",
       "      <th>label</th>\n",
       "    </tr>\n",
       "  </thead>\n",
       "  <tbody>\n",
       "    <tr>\n",
       "      <th>0</th>\n",
       "      <td>mccartenviolins.com</td>\n",
       "      <td>1</td>\n",
       "    </tr>\n",
       "    <tr>\n",
       "      <th>1</th>\n",
       "      <td>https://gtrfdfsd.dsmtp.com/</td>\n",
       "      <td>1</td>\n",
       "    </tr>\n",
       "    <tr>\n",
       "      <th>2</th>\n",
       "      <td>91.239.25.121:6892</td>\n",
       "      <td>1</td>\n",
       "    </tr>\n",
       "    <tr>\n",
       "      <th>3</th>\n",
       "      <td>nsecoaching.ca/cd62kg4btm</td>\n",
       "      <td>1</td>\n",
       "    </tr>\n",
       "    <tr>\n",
       "      <th>4</th>\n",
       "      <td>footballfanatics.com/MLB_Kansas_City_Royals</td>\n",
       "      <td>0</td>\n",
       "    </tr>\n",
       "    <tr>\n",
       "      <th>...</th>\n",
       "      <td>...</td>\n",
       "      <td>...</td>\n",
       "    </tr>\n",
       "    <tr>\n",
       "      <th>823793</th>\n",
       "      <td>https://www.pasthorizonstools.com/</td>\n",
       "      <td>0</td>\n",
       "    </tr>\n",
       "    <tr>\n",
       "      <th>823794</th>\n",
       "      <td>http://neuropathyhealthcenter.com/neuropathy-p...</td>\n",
       "      <td>0</td>\n",
       "    </tr>\n",
       "    <tr>\n",
       "      <th>823795</th>\n",
       "      <td>http://forever-inject-onlinestore-com.sell.eve...</td>\n",
       "      <td>0</td>\n",
       "    </tr>\n",
       "    <tr>\n",
       "      <th>823796</th>\n",
       "      <td>https://linktr.ee/btonlinecustomerservice</td>\n",
       "      <td>1</td>\n",
       "    </tr>\n",
       "    <tr>\n",
       "      <th>823797</th>\n",
       "      <td>https://letisops1.ru/oplata/p2p/</td>\n",
       "      <td>1</td>\n",
       "    </tr>\n",
       "  </tbody>\n",
       "</table>\n",
       "<p>823798 rows × 2 columns</p>\n",
       "</div>"
      ],
      "text/plain": [
       "                                                     text  label\n",
       "0                                     mccartenviolins.com      1\n",
       "1                             https://gtrfdfsd.dsmtp.com/      1\n",
       "2                                      91.239.25.121:6892      1\n",
       "3                               nsecoaching.ca/cd62kg4btm      1\n",
       "4             footballfanatics.com/MLB_Kansas_City_Royals      0\n",
       "...                                                   ...    ...\n",
       "823793                 https://www.pasthorizonstools.com/      0\n",
       "823794  http://neuropathyhealthcenter.com/neuropathy-p...      0\n",
       "823795  http://forever-inject-onlinestore-com.sell.eve...      0\n",
       "823796          https://linktr.ee/btonlinecustomerservice      1\n",
       "823797                   https://letisops1.ru/oplata/p2p/      1\n",
       "\n",
       "[823798 rows x 2 columns]"
      ]
     },
     "execution_count": 22,
     "metadata": {},
     "output_type": "execute_result"
    }
   ],
   "source": [
    "# add urls to URLs dataframe\n",
    "urls_added = 0\n",
    "for index in webs[~webs['url'].isnull()].index:\n",
    "    row = webs.iloc[index]\n",
    "    data = {'text': row['url'], 'label': row['label']}\n",
    "    urls = pd.concat([urls, pd.DataFrame([data])], axis=0, ignore_index=True)\n",
    "    urls_added += 1\n",
    "webs.drop(['url'], axis=1, inplace=True)\n",
    "\n",
    "# print new urls added\n",
    "print(f\"New URLs added (+{urls_added}):\\n\")\n",
    "urls"
   ]
  },
  {
   "cell_type": "code",
   "execution_count": 23,
   "metadata": {},
   "outputs": [],
   "source": [
    "webs.to_csv('DATASETS/INIT/WEBS.csv', index=False)"
   ]
  },
  {
   "cell_type": "markdown",
   "metadata": {},
   "source": [
    "#### Minification ✏️"
   ]
  },
  {
   "cell_type": "markdown",
   "metadata": {},
   "source": [
    "Minification is a process that consists of removing unnecessary characters from the code, without changing its functionality. This optimization of the HTML code reduces waiting times by allowing fast reading of the data by the models."
   ]
  },
  {
   "cell_type": "code",
   "execution_count": 24,
   "metadata": {},
   "outputs": [],
   "source": [
    "%%cython\n",
    "import minify_html\n",
    "\n",
    "def minify(html):\n",
    "    return minify_html.minify(html)"
   ]
  },
  {
   "cell_type": "code",
   "execution_count": 25,
   "metadata": {},
   "outputs": [
    {
     "name": "stderr",
     "output_type": "stream",
     "text": [
      "/var/folders/bf/74p6fnsx6v582xb04v67qg4r0000gn/T/ipykernel_9269/1300765979.py:2: SettingWithCopyWarning: \n",
      "A value is trying to be set on a copy of a slice from a DataFrame.\n",
      "Try using .loc[row_indexer,col_indexer] = value instead\n",
      "\n",
      "See the caveats in the documentation: https://pandas.pydata.org/pandas-docs/stable/user_guide/indexing.html#returning-a-view-versus-a-copy\n",
      "  webs['text'] = webs['text'].parallel_map(lambda html: minify(html))\n"
     ]
    },
    {
     "data": {
      "text/html": [
       "<div>\n",
       "<style scoped>\n",
       "    .dataframe tbody tr th:only-of-type {\n",
       "        vertical-align: middle;\n",
       "    }\n",
       "\n",
       "    .dataframe tbody tr th {\n",
       "        vertical-align: top;\n",
       "    }\n",
       "\n",
       "    .dataframe thead th {\n",
       "        text-align: right;\n",
       "    }\n",
       "</style>\n",
       "<table border=\"1\" class=\"dataframe\">\n",
       "  <thead>\n",
       "    <tr style=\"text-align: right;\">\n",
       "      <th></th>\n",
       "      <th>text</th>\n",
       "      <th>label</th>\n",
       "    </tr>\n",
       "  </thead>\n",
       "  <tbody>\n",
       "    <tr>\n",
       "      <th>0</th>\n",
       "      <td>&lt;!doctypehtml PUBLIC \"-//W3C//DTD HTML 4.01 Tr...</td>\n",
       "      <td>1</td>\n",
       "    </tr>\n",
       "    <tr>\n",
       "      <th>1</th>\n",
       "      <td>&lt;!doctypehtml&gt;&lt;title&gt;\\n   Segment - Math Open ...</td>\n",
       "      <td>0</td>\n",
       "    </tr>\n",
       "    <tr>\n",
       "      <th>2</th>\n",
       "      <td>&lt;!doctypehtml&gt;&lt;html itemscope itemtype=http://...</td>\n",
       "      <td>0</td>\n",
       "    </tr>\n",
       "    <tr>\n",
       "      <th>3</th>\n",
       "      <td>&lt;!doctypehtml PUBLIC \"-//W3C//DTD XHTML 1.0 Tr...</td>\n",
       "      <td>0</td>\n",
       "    </tr>\n",
       "    <tr>\n",
       "      <th>4</th>\n",
       "      <td>&lt;title&gt;\\n   Not Acceptable!\\n  &lt;/title&gt;&lt;body&gt;&lt;...</td>\n",
       "      <td>0</td>\n",
       "    </tr>\n",
       "    <tr>\n",
       "      <th>...</th>\n",
       "      <td>...</td>\n",
       "      <td>...</td>\n",
       "    </tr>\n",
       "    <tr>\n",
       "      <th>15751</th>\n",
       "      <td>&lt;!doctypehtml&gt;&lt;html class=no-js&gt;&lt;meta content=...</td>\n",
       "      <td>0</td>\n",
       "    </tr>\n",
       "    <tr>\n",
       "      <th>15752</th>\n",
       "      <td>&lt;title&gt;\\n   Loading...\\n  &lt;/title&gt;&lt;body&gt;&lt;scrip...</td>\n",
       "      <td>0</td>\n",
       "    </tr>\n",
       "    <tr>\n",
       "      <th>15753</th>\n",
       "      <td>&lt;!doctypehtml&gt;&lt;meta content=IE=7 http-equiv=X-...</td>\n",
       "      <td>0</td>\n",
       "    </tr>\n",
       "    <tr>\n",
       "      <th>15754</th>\n",
       "      <td>&lt;meta content=width=device-width name=viewport...</td>\n",
       "      <td>1</td>\n",
       "    </tr>\n",
       "    <tr>\n",
       "      <th>15755</th>\n",
       "      <td>&lt;!doctypehtml&gt;&lt;html lang=ru-RU&gt;&lt;meta content=\"...</td>\n",
       "      <td>1</td>\n",
       "    </tr>\n",
       "  </tbody>\n",
       "</table>\n",
       "<p>15756 rows × 2 columns</p>\n",
       "</div>"
      ],
      "text/plain": [
       "                                                    text  label\n",
       "0      <!doctypehtml PUBLIC \"-//W3C//DTD HTML 4.01 Tr...      1\n",
       "1      <!doctypehtml><title>\\n   Segment - Math Open ...      0\n",
       "2      <!doctypehtml><html itemscope itemtype=http://...      0\n",
       "3      <!doctypehtml PUBLIC \"-//W3C//DTD XHTML 1.0 Tr...      0\n",
       "4      <title>\\n   Not Acceptable!\\n  </title><body><...      0\n",
       "...                                                  ...    ...\n",
       "15751  <!doctypehtml><html class=no-js><meta content=...      0\n",
       "15752  <title>\\n   Loading...\\n  </title><body><scrip...      0\n",
       "15753  <!doctypehtml><meta content=IE=7 http-equiv=X-...      0\n",
       "15754  <meta content=width=device-width name=viewport...      1\n",
       "15755  <!doctypehtml><html lang=ru-RU><meta content=\"...      1\n",
       "\n",
       "[15756 rows x 2 columns]"
      ]
     },
     "execution_count": 25,
     "metadata": {},
     "output_type": "execute_result"
    }
   ],
   "source": [
    "# minifying html texts to improve training speed\n",
    "webs['text'] = webs['text'].parallel_map(lambda html: minify(html))\n",
    "webs"
   ]
  },
  {
   "cell_type": "markdown",
   "metadata": {},
   "source": [
    "* * *"
   ]
  },
  {
   "cell_type": "markdown",
   "metadata": {},
   "source": [
    "## **COMBINED DATASET**"
   ]
  },
  {
   "cell_type": "markdown",
   "metadata": {},
   "source": [
    "Before unifying all the datasets, we noticed that there are too many URLs samples compared to the mails, sms and html samples. Therefore, we will only keep 5% of the urls samples to prevent the ML model from ignoring the minority samples; resulting in poor generalization and performance."
   ]
  },
  {
   "cell_type": "code",
   "execution_count": 26,
   "metadata": {},
   "outputs": [],
   "source": [
    "# splitting the 5% of samples with stratification\n",
    "reduced_urls, _ = train_test_split(urls, test_size=0.95, stratify=urls['label'])"
   ]
  },
  {
   "cell_type": "markdown",
   "metadata": {},
   "source": [
    "Finally, we can combine all datasets we've preprocessed in a single dataset that stores: URLs, Emails, SMS and HTML codes. Great!"
   ]
  },
  {
   "cell_type": "code",
   "execution_count": 27,
   "metadata": {},
   "outputs": [
    {
     "data": {
      "text/html": [
       "<div>\n",
       "<style scoped>\n",
       "    .dataframe tbody tr th:only-of-type {\n",
       "        vertical-align: middle;\n",
       "    }\n",
       "\n",
       "    .dataframe tbody tr th {\n",
       "        vertical-align: top;\n",
       "    }\n",
       "\n",
       "    .dataframe thead th {\n",
       "        text-align: right;\n",
       "    }\n",
       "</style>\n",
       "<table border=\"1\" class=\"dataframe\">\n",
       "  <thead>\n",
       "    <tr style=\"text-align: right;\">\n",
       "      <th></th>\n",
       "      <th>text</th>\n",
       "      <th>label</th>\n",
       "    </tr>\n",
       "  </thead>\n",
       "  <tbody>\n",
       "    <tr>\n",
       "      <th>0</th>\n",
       "      <td>hi paliourg all pills here . get it all . busi...</td>\n",
       "      <td>1</td>\n",
       "    </tr>\n",
       "    <tr>\n",
       "      <th>1</th>\n",
       "      <td>URL: http://www.askbjoernhansen.com/archives/2...</td>\n",
       "      <td>0</td>\n",
       "    </tr>\n",
       "    <tr>\n",
       "      <th>2</th>\n",
       "      <td>newsweek : u . s visa regulations dreaming of ...</td>\n",
       "      <td>1</td>\n",
       "    </tr>\n",
       "    <tr>\n",
       "      <th>3</th>\n",
       "      <td>start date : 1 / 30 / 02 ; hourahead hour : 11...</td>\n",
       "      <td>0</td>\n",
       "    </tr>\n",
       "    <tr>\n",
       "      <th>4</th>\n",
       "      <td>swordstick \\ / 1 aagrra . xaanax , \\ / alilum ...</td>\n",
       "      <td>1</td>\n",
       "    </tr>\n",
       "    <tr>\n",
       "      <th>...</th>\n",
       "      <td>...</td>\n",
       "      <td>...</td>\n",
       "    </tr>\n",
       "    <tr>\n",
       "      <th>77077</th>\n",
       "      <td>&lt;meta content=\"text/html; charset=utf-8\"http-e...</td>\n",
       "      <td>1</td>\n",
       "    </tr>\n",
       "    <tr>\n",
       "      <th>77078</th>\n",
       "      <td>http://inbox011.com/</td>\n",
       "      <td>1</td>\n",
       "    </tr>\n",
       "    <tr>\n",
       "      <th>77079</th>\n",
       "      <td>abebooks.com/book-search/author/stevenson-robe...</td>\n",
       "      <td>0</td>\n",
       "    </tr>\n",
       "    <tr>\n",
       "      <th>77080</th>\n",
       "      <td>https://app.datum.org/</td>\n",
       "      <td>0</td>\n",
       "    </tr>\n",
       "    <tr>\n",
       "      <th>77081</th>\n",
       "      <td>http://www.funvid.hu/</td>\n",
       "      <td>0</td>\n",
       "    </tr>\n",
       "  </tbody>\n",
       "</table>\n",
       "<p>77082 rows × 2 columns</p>\n",
       "</div>"
      ],
      "text/plain": [
       "                                                    text  label\n",
       "0      hi paliourg all pills here . get it all . busi...      1\n",
       "1      URL: http://www.askbjoernhansen.com/archives/2...      0\n",
       "2      newsweek : u . s visa regulations dreaming of ...      1\n",
       "3      start date : 1 / 30 / 02 ; hourahead hour : 11...      0\n",
       "4      swordstick \\ / 1 aagrra . xaanax , \\ / alilum ...      1\n",
       "...                                                  ...    ...\n",
       "77077  <meta content=\"text/html; charset=utf-8\"http-e...      1\n",
       "77078                               http://inbox011.com/      1\n",
       "77079  abebooks.com/book-search/author/stevenson-robe...      0\n",
       "77080                             https://app.datum.org/      0\n",
       "77081                              http://www.funvid.hu/      0\n",
       "\n",
       "[77082 rows x 2 columns]"
      ]
     },
     "execution_count": 27,
     "metadata": {},
     "output_type": "execute_result"
    }
   ],
   "source": [
    "combined = pd.concat([reduced_urls, emails, sms, webs], axis=0, ignore_index=True)\n",
    "combined = combined.sample(frac=1).reset_index(drop=True)\n",
    "combined"
   ]
  },
  {
   "cell_type": "markdown",
   "metadata": {},
   "source": [
    "Then, we'll split dataset in training and test subsets"
   ]
  },
  {
   "cell_type": "code",
   "execution_count": 28,
   "metadata": {},
   "outputs": [
    {
     "data": {
      "text/html": [
       "<div>\n",
       "<style scoped>\n",
       "    .dataframe tbody tr th:only-of-type {\n",
       "        vertical-align: middle;\n",
       "    }\n",
       "\n",
       "    .dataframe tbody tr th {\n",
       "        vertical-align: top;\n",
       "    }\n",
       "\n",
       "    .dataframe thead th {\n",
       "        text-align: right;\n",
       "    }\n",
       "</style>\n",
       "<table border=\"1\" class=\"dataframe\">\n",
       "  <thead>\n",
       "    <tr style=\"text-align: right;\">\n",
       "      <th></th>\n",
       "      <th>text</th>\n",
       "      <th>label</th>\n",
       "    </tr>\n",
       "  </thead>\n",
       "  <tbody>\n",
       "    <tr>\n",
       "      <th>31528</th>\n",
       "      <td>https://www.a10.com/multiplayer-games</td>\n",
       "      <td>0</td>\n",
       "    </tr>\n",
       "    <tr>\n",
       "      <th>20296</th>\n",
       "      <td>matthewpryor.com/</td>\n",
       "      <td>0</td>\n",
       "    </tr>\n",
       "    <tr>\n",
       "      <th>42094</th>\n",
       "      <td>&lt;!doctypehtml&gt;&lt;title&gt;\\n   Hopper - definition ...</td>\n",
       "      <td>0</td>\n",
       "    </tr>\n",
       "    <tr>\n",
       "      <th>45174</th>\n",
       "      <td>mylife.com/c-1509246489</td>\n",
       "      <td>0</td>\n",
       "    </tr>\n",
       "    <tr>\n",
       "      <th>30742</th>\n",
       "      <td>http://printerstudent.com/ssl/cmd-login=7b7adf...</td>\n",
       "      <td>1</td>\n",
       "    </tr>\n",
       "    <tr>\n",
       "      <th>...</th>\n",
       "      <td>...</td>\n",
       "      <td>...</td>\n",
       "    </tr>\n",
       "    <tr>\n",
       "      <th>76767</th>\n",
       "      <td>( no subject ) stinson , henwood can help us w...</td>\n",
       "      <td>0</td>\n",
       "    </tr>\n",
       "    <tr>\n",
       "      <th>34646</th>\n",
       "      <td>http://yourdreamtv.com.ng/ok/protected/index.html</td>\n",
       "      <td>1</td>\n",
       "    </tr>\n",
       "    <tr>\n",
       "      <th>14025</th>\n",
       "      <td>nipple-hypochlorite.com</td>\n",
       "      <td>1</td>\n",
       "    </tr>\n",
       "    <tr>\n",
       "      <th>72402</th>\n",
       "      <td>https://vlkkkeb.asia/index.php?id=</td>\n",
       "      <td>1</td>\n",
       "    </tr>\n",
       "    <tr>\n",
       "      <th>68896</th>\n",
       "      <td>&lt;!doctypehtml&gt;&lt;html lang=en&gt;&lt;meta charset=utf-...</td>\n",
       "      <td>0</td>\n",
       "    </tr>\n",
       "  </tbody>\n",
       "</table>\n",
       "<p>61665 rows × 2 columns</p>\n",
       "</div>"
      ],
      "text/plain": [
       "                                                    text  label\n",
       "31528              https://www.a10.com/multiplayer-games      0\n",
       "20296                                  matthewpryor.com/      0\n",
       "42094  <!doctypehtml><title>\\n   Hopper - definition ...      0\n",
       "45174                            mylife.com/c-1509246489      0\n",
       "30742  http://printerstudent.com/ssl/cmd-login=7b7adf...      1\n",
       "...                                                  ...    ...\n",
       "76767  ( no subject ) stinson , henwood can help us w...      0\n",
       "34646  http://yourdreamtv.com.ng/ok/protected/index.html      1\n",
       "14025                            nipple-hypochlorite.com      1\n",
       "72402                 https://vlkkkeb.asia/index.php?id=      1\n",
       "68896  <!doctypehtml><html lang=en><meta charset=utf-...      0\n",
       "\n",
       "[61665 rows x 2 columns]"
      ]
     },
     "execution_count": 28,
     "metadata": {},
     "output_type": "execute_result"
    }
   ],
   "source": [
    "train_combined, test_combined = train_test_split(combined, test_size=0.2, stratify=combined['label'])\n",
    "train_combined"
   ]
  },
  {
   "cell_type": "markdown",
   "metadata": {},
   "source": [
    "The resulting datasets we can export them as JSON files for further use in Hugging Face"
   ]
  },
  {
   "cell_type": "code",
   "execution_count": 29,
   "metadata": {},
   "outputs": [],
   "source": [
    "def df_to_json(df: pd.DataFrame, filename: str):\n",
    "    \n",
    "    df_json = []\n",
    "    for row in df.itertuples():\n",
    "        df_json.append(\n",
    "            {\n",
    "                \"text\": row.text,\n",
    "                \"label\": row.label\n",
    "            }\n",
    "        )\n",
    "    with open(f\"DATASETS/FINAL/{filename}.json\", \"w\", encoding='utf-8') as f:\n",
    "        json.dump(df_json, f, indent=2)"
   ]
  },
  {
   "cell_type": "code",
   "execution_count": 30,
   "metadata": {},
   "outputs": [],
   "source": [
    "df_to_json(train_combined, 'train')\n",
    "df_to_json(test_combined, 'test')"
   ]
  },
  {
   "cell_type": "markdown",
   "metadata": {},
   "source": [
    "* * *"
   ]
  },
  {
   "cell_type": "markdown",
   "metadata": {},
   "source": [
    "## **SAVE DATASETS**"
   ]
  },
  {
   "cell_type": "markdown",
   "metadata": {},
   "source": [
    "Now that we have finished the preprocessing, we will save the datasets for use with classification models. We will also combine the mail and sms dataset into one dataset which will be for text."
   ]
  },
  {
   "cell_type": "code",
   "execution_count": 31,
   "metadata": {},
   "outputs": [],
   "source": [
    "texts = pd.concat([emails, sms], axis=0, ignore_index=True)"
   ]
  },
  {
   "cell_type": "code",
   "execution_count": 32,
   "metadata": {},
   "outputs": [],
   "source": [
    "urls.to_csv('DATASETS/PRE/URLS.csv', index=False)\n",
    "webs.to_csv('DATASETS/PRE/WEBS.csv', index=False)\n",
    "texts.to_csv('DATASETS/PRE/TEXTS.csv', index=False)"
   ]
  }
 ],
 "metadata": {
  "kernelspec": {
   "display_name": "base",
   "language": "python",
   "name": "python3"
  },
  "language_info": {
   "codemirror_mode": {
    "name": "ipython",
    "version": 3
   },
   "file_extension": ".py",
   "mimetype": "text/x-python",
   "name": "python",
   "nbconvert_exporter": "python",
   "pygments_lexer": "ipython3",
   "version": "3.10.13"
  },
  "orig_nbformat": 4
 },
 "nbformat": 4,
 "nbformat_minor": 2
}
